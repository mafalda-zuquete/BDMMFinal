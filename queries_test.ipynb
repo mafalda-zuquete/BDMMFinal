{
 "cells": [
  {
   "cell_type": "code",
   "execution_count": 1,
   "metadata": {},
   "outputs": [
    {
     "name": "stdout",
     "output_type": "stream",
     "text": [
      "Requirement already satisfied: pymongo in c:\\users\\mafalda\\anaconda3\\envs\\big data modelling\\lib\\site-packages (3.10.1)\n"
     ]
    }
   ],
   "source": [
    "!pip install pymongo\n",
    "from pymongo import MongoClient"
   ]
  },
  {
   "cell_type": "code",
   "execution_count": 2,
   "metadata": {},
   "outputs": [],
   "source": [
    "host=\"rhea.isegi.unl.pt\"\n",
    "port=\"28011\"\n",
    "user=\"GROUP_11\"\n",
    "password=\"MTM0MzQ5MzI3NjY4ODM1MzQ2ODc2OTMzMjgyNjQ3NjYyNDcyNjUw\"\n",
    "protocol=\"mongodb\"\n",
    "client = MongoClient(f\"{protocol}://{user}:{password}@{host}:{port}\")"
   ]
  },
  {
   "cell_type": "code",
   "execution_count": 3,
   "metadata": {},
   "outputs": [],
   "source": [
    "db = client.contracts\n",
    "eu = db.eu_2"
   ]
  },
  {
   "cell_type": "code",
   "execution_count": 4,
   "metadata": {
    "scrolled": true
   },
   "outputs": [
    {
     "data": {
      "text/plain": [
       "{'_id': ObjectId('5e611db7e39120912368d89a'),\n",
       " 'name': 'Åland Islands',\n",
       " 'alpha-2': 'AX',\n",
       " 'alpha-3': 'ALA',\n",
       " 'country-code': '248',\n",
       " 'iso_3166-2': 'ISO 3166-2:AX',\n",
       " 'region': 'Europe',\n",
       " 'sub-region': 'Northern Europe',\n",
       " 'intermediate-region': '',\n",
       " 'region-code': '150',\n",
       " 'sub-region-code': '154',\n",
       " 'intermediate-region-code': ''}"
      ]
     },
     "execution_count": 4,
     "metadata": {},
     "output_type": "execute_result"
    }
   ],
   "source": [
    "db.iso_codes.find_one()"
   ]
  },
  {
   "cell_type": "code",
   "execution_count": 7,
   "metadata": {
    "scrolled": true
   },
   "outputs": [
    {
     "data": {
      "text/plain": [
       "[{'_id': ObjectId('5e611db7e39120912368d926'),\n",
       "  'name': 'United Kingdom of Great Britain and Northern Ireland',\n",
       "  'alpha-2': 'GB',\n",
       "  'alpha-3': 'GBR',\n",
       "  'country-code': '826',\n",
       "  'iso_3166-2': 'ISO 3166-2:GB',\n",
       "  'region': 'Europe',\n",
       "  'sub-region': 'Northern Europe',\n",
       "  'intermediate-region': '',\n",
       "  'region-code': '150',\n",
       "  'sub-region-code': '154',\n",
       "  'intermediate-region-code': ''}]"
      ]
     },
     "execution_count": 7,
     "metadata": {},
     "output_type": "execute_result"
    }
   ],
   "source": [
    "list(db.iso_codes.find({'alpha-2':'GB'}))"
   ]
  },
  {
   "cell_type": "code",
   "execution_count": 11,
   "metadata": {},
   "outputs": [
    {
     "data": {
      "text/plain": [
       "<pymongo.results.UpdateResult at 0x1d805ba4248>"
      ]
     },
     "execution_count": 11,
     "metadata": {},
     "output_type": "execute_result"
    }
   ],
   "source": [
    "db.iso_codes.update_one({'alpha-2':'GB'},{'$set':{'alpha-2':'UK','name':'United Kingdom'}})"
   ]
  },
  {
   "cell_type": "code",
   "execution_count": 12,
   "metadata": {},
   "outputs": [
    {
     "data": {
      "text/plain": [
       "[]"
      ]
     },
     "execution_count": 12,
     "metadata": {},
     "output_type": "execute_result"
    }
   ],
   "source": [
    "list(db.iso_codes.find({'alpha-2':'GB'}))"
   ]
  },
  {
   "cell_type": "code",
   "execution_count": 13,
   "metadata": {},
   "outputs": [
    {
     "data": {
      "text/plain": [
       "[{'_id': ObjectId('5e611db7e39120912368d926'),\n",
       "  'name': 'United Kingdom',\n",
       "  'alpha-2': 'UK',\n",
       "  'alpha-3': 'GBR',\n",
       "  'country-code': '826',\n",
       "  'iso_3166-2': 'ISO 3166-2:GB',\n",
       "  'region': 'Europe',\n",
       "  'sub-region': 'Northern Europe',\n",
       "  'intermediate-region': '',\n",
       "  'region-code': '150',\n",
       "  'sub-region-code': '154',\n",
       "  'intermediate-region-code': ''}]"
      ]
     },
     "execution_count": 13,
     "metadata": {},
     "output_type": "execute_result"
    }
   ],
   "source": [
    "list(db.iso_codes.find({'alpha-2':'UK'}))"
   ]
  },
  {
   "cell_type": "code",
   "execution_count": 5,
   "metadata": {},
   "outputs": [],
   "source": [
    "bot_year = 2008\n",
    "top_year = 2020\n",
    "country_list = ['NO', 'HR', 'HU', 'CH', 'CZ', 'RO', 'LV', 'GR', 'UK', 'SI', 'LT', 'ES', 'FR', 'IE', 'SE', 'NL',\n",
    "                'PT', 'PL', 'DK', 'MK', 'DE', 'IT', 'BG', 'CY', 'AT', 'LU', 'BE', 'FI', 'EE', 'SK', 'MT', 'LI',\n",
    "                'IS']"
   ]
  },
  {
   "cell_type": "code",
   "execution_count": 58,
   "metadata": {},
   "outputs": [
    {
     "name": "stdout",
     "output_type": "stream",
     "text": [
      "_id_\n",
      "year_country_index\n"
     ]
    }
   ],
   "source": [
    "for index in eu.list_indexes():\n",
    "    print(index['name'])"
   ]
  },
  {
   "cell_type": "code",
   "execution_count": 62,
   "metadata": {},
   "outputs": [
    {
     "data": {
      "text/plain": [
       "'year_country_index'"
      ]
     },
     "execution_count": 62,
     "metadata": {},
     "output_type": "execute_result"
    }
   ],
   "source": [
    "eu.create_index([('YEAR',1),('ISO_COUNTRY_CODE',1)],name='year_country_index')"
   ]
  },
  {
   "cell_type": "code",
   "execution_count": 64,
   "metadata": {},
   "outputs": [],
   "source": [
    "eu.drop_index('year_country_index')"
   ]
  },
  {
   "cell_type": "markdown",
   "metadata": {},
   "source": [
    "1.1"
   ]
  },
  {
   "cell_type": "code",
   "execution_count": 18,
   "metadata": {},
   "outputs": [
    {
     "data": {
      "text/plain": [
       "2907470.923725584"
      ]
     },
     "execution_count": 18,
     "metadata": {},
     "output_type": "execute_result"
    }
   ],
   "source": [
    "#%%timeit\n",
    "\n",
    "match = {\n",
    "    '$match': {\n",
    "        '$and': [{'YEAR': {'$gte': bot_year}}, {'YEAR': {'$lte': top_year}}],\n",
    "        'ISO_COUNTRY_CODE': {'$in': country_list},\n",
    "        'CPV': {'$exists': True}\n",
    "    }\n",
    "}\n",
    "\n",
    "match_value_euro = {\n",
    "    '$match':{\n",
    "        'VALUE_EURO': {'$exists': True}\n",
    "    }\n",
    "}\n",
    "\n",
    "group_cpv_euro_avg = {\n",
    "    '$group':{\n",
    "        '_id':'$CPV_DIVISION',\n",
    "        'AVERAGE_VALUE':{'$avg':'$VALUE_EURO'}\n",
    "    }\n",
    "}\n",
    "\n",
    "group_cpv_euro_avg_2 = {\n",
    "    '$group':{\n",
    "        '_id':None,\n",
    "        'AVERAGE_CPV_VALUE':{'$avg':'$AVERAGE_VALUE'}\n",
    "    }\n",
    "}\n",
    "\n",
    "limit = {\n",
    "    '$limit':5\n",
    "}\n",
    "\n",
    "pipeline_cpv_euro_avg = [match, match_value_euro, group_cpv_euro_avg, group_cpv_euro_avg_2]\n",
    "\n",
    "agg_cpv_euro_avg = list(eu.aggregate(pipeline_cpv_euro_avg))\n",
    "\n",
    "agg_cpv_euro_avg[0]['AVERAGE_CPV_VALUE']"
   ]
  },
  {
   "cell_type": "markdown",
   "metadata": {},
   "source": [
    "1.2"
   ]
  },
  {
   "cell_type": "code",
   "execution_count": 19,
   "metadata": {},
   "outputs": [
    {
     "data": {
      "text/plain": [
       "66110.65217391304"
      ]
     },
     "execution_count": 19,
     "metadata": {},
     "output_type": "execute_result"
    }
   ],
   "source": [
    "group_cpv_count = {\n",
    "    '$group':{\n",
    "        '_id':'$CPV_DIVISION',\n",
    "        'COUNT':{'$sum':1}\n",
    "    }\n",
    "}\n",
    "\n",
    "group_cpv_count_2 = {\n",
    "    '$group':{\n",
    "        '_id':None,\n",
    "        'AVERAGE_COUNT':{'$avg':'$COUNT'}\n",
    "    }\n",
    "}\n",
    "\n",
    "pipeline_cpv_count = [match, group_cpv_count, group_cpv_count_2]\n",
    "\n",
    "agg_cpv_count = list(eu.aggregate(pipeline_cpv_count))\n",
    "\n",
    "agg_cpv_count[0]['AVERAGE_COUNT']"
   ]
  },
  {
   "cell_type": "markdown",
   "metadata": {},
   "source": [
    "1.3"
   ]
  },
  {
   "cell_type": "code",
   "execution_count": 20,
   "metadata": {},
   "outputs": [
    {
     "data": {
      "text/plain": [
       "8.015262068884264"
      ]
     },
     "execution_count": 20,
     "metadata": {},
     "output_type": "execute_result"
    }
   ],
   "source": [
    "match_number_offers = {\n",
    "    '$match':{\n",
    "        'NUMBER_OFFERS': {'$exists': True}\n",
    "    }\n",
    "}\n",
    "\n",
    "group_cpv_offer_avg = {\n",
    "    '$group':{\n",
    "        '_id':'$CPV_DIVISION',\n",
    "        'AVERAGE_OFFERS':{'$avg':'$NUMBER_OFFERS'}\n",
    "    }\n",
    "}\n",
    "\n",
    "group_cpv_offer_avg_2 = {\n",
    "    '$group':{\n",
    "        '_id':None,\n",
    "        'AVERAGE_CPV_OFFERS':{'$avg':'$AVERAGE_OFFERS'}\n",
    "    }\n",
    "}\n",
    "\n",
    "pipeline_cpv_offer_avg = [match, match_number_offers, group_cpv_offer_avg, group_cpv_offer_avg_2]\n",
    "\n",
    "agg_cpv_offer_avg = list(eu.aggregate(pipeline_cpv_offer_avg))\n",
    "\n",
    "agg_cpv_offer_avg[0]['AVERAGE_CPV_OFFERS']"
   ]
  },
  {
   "cell_type": "markdown",
   "metadata": {},
   "source": [
    "1.4"
   ]
  },
  {
   "cell_type": "code",
   "execution_count": 21,
   "metadata": {},
   "outputs": [
    {
     "data": {
      "text/plain": [
       "2792486.692669272"
      ]
     },
     "execution_count": 21,
     "metadata": {},
     "output_type": "execute_result"
    }
   ],
   "source": [
    "match_cpv_euro_avg_y_eu = {\n",
    "    '$match':{\n",
    "        'B_EU_FUNDS':'Y'\n",
    "    }\n",
    "}\n",
    "\n",
    "pipeline_cpv_euro_avg_y_eu = [match, match_value_euro, match_cpv_euro_avg_y_eu, group_cpv_euro_avg, group_cpv_euro_avg_2]\n",
    "\n",
    "agg_cpv_euro_avg_y_eu = list(eu.aggregate(pipeline_cpv_euro_avg_y_eu))\n",
    "\n",
    "agg_cpv_euro_avg_y_eu[0]['AVERAGE_CPV_VALUE']"
   ]
  },
  {
   "cell_type": "markdown",
   "metadata": {},
   "source": [
    "1.5"
   ]
  },
  {
   "cell_type": "code",
   "execution_count": 22,
   "metadata": {},
   "outputs": [
    {
     "data": {
      "text/plain": [
       "2764243.7013731776"
      ]
     },
     "execution_count": 22,
     "metadata": {},
     "output_type": "execute_result"
    }
   ],
   "source": [
    "match_cpv_euro_avg_n_eu = {\n",
    "    '$match':{\n",
    "        'B_EU_FUNDS':'N'\n",
    "    }\n",
    "}\n",
    "\n",
    "pipeline_cpv_euro_avg_n_eu = [match, match_value_euro, match_cpv_euro_avg_n_eu, group_cpv_euro_avg, group_cpv_euro_avg_2]\n",
    "\n",
    "agg_cpv_euro_avg_n_eu = list(eu.aggregate(pipeline_cpv_euro_avg_n_eu))\n",
    "\n",
    "agg_cpv_euro_avg_n_eu[0]['AVERAGE_CPV_VALUE']"
   ]
  },
  {
   "cell_type": "markdown",
   "metadata": {},
   "source": [
    "2"
   ]
  },
  {
   "cell_type": "code",
   "execution_count": 23,
   "metadata": {
    "scrolled": true
   },
   "outputs": [
    {
     "data": {
      "text/plain": [
       "[{'count': 230813, 'cpv': 'Construction work'},\n",
       " {'count': 93330,\n",
       "  'cpv': 'Agricultural, forestry, horticultural, aquacultural and apicultural services'},\n",
       " {'count': 74564, 'cpv': 'Education and training services'},\n",
       " {'count': 1999, 'cpv': 'Services related to the oil and gas industry'},\n",
       " {'count': 116795,\n",
       "  'cpv': 'Sewage, refuse, cleaning and environmental services'},\n",
       " {'count': 1161430,\n",
       "  'cpv': 'Medical equipments, pharmaceuticals and personal care products'},\n",
       " {'count': 57040,\n",
       "  'cpv': 'Petroleum products, fuel, electricity and other sources of energy'},\n",
       " {'count': 7703, 'cpv': 'Public utilities'},\n",
       " {'count': 18114,\n",
       "  'cpv': 'Clothing, footwear, luggage articles and accessories'},\n",
       " {'count': 6322,\n",
       "  'cpv': 'Administration, defence and social security services'},\n",
       " {'count': 19832,\n",
       "  'cpv': 'Radio, television, communication, telecommunication and related equipment'},\n",
       " {'count': 94466,\n",
       "  'cpv': 'Business services: law, marketing, consulting, recruitment, printing and security'},\n",
       " {'count': 119342, 'cpv': 'Food, beverages, tobacco and related products'},\n",
       " {'count': 2238},\n",
       " {'count': 90895, 'cpv': 'Repair and maintenance services'},\n",
       " {'count': 5251,\n",
       "  'cpv': 'Musical instruments, sport goods, games, toys, handicraft, art materials and accessories'},\n",
       " {'count': 14265,\n",
       "  'cpv': 'Security, fire-fighting, police and defence equipment'},\n",
       " {'count': 86854,\n",
       "  'cpv': 'Transport equipment and auxiliary products to transportation'},\n",
       " {'count': 52721, 'cpv': 'Financial and insurance services'},\n",
       " {'count': 117880,\n",
       "  'cpv': 'Architectural, construction, engineering and inspection services'},\n",
       " {'count': 7116, 'cpv': 'Mining, basic metals and related products'},\n",
       " {'count': 66959,\n",
       "  'cpv': 'Office and computing machinery, equipment and supplies except furniture and software packages'},\n",
       " {'count': 8259,\n",
       "  'cpv': 'Supporting and auxiliary transport services; travel agencies services'},\n",
       " {'count': 74866, 'cpv': 'Health and social work services'},\n",
       " {'count': 19162, 'cpv': 'Postal and telecommunications services'},\n",
       " {'count': 40247,\n",
       "  'cpv': 'Construction structures and materials; auxiliary products to construction (except electric apparatus)'},\n",
       " {'count': 26040,\n",
       "  'cpv': 'Electrical machinery, apparatus, equipment and consumables; lighting'},\n",
       " {'count': 11673,\n",
       "  'cpv': 'Research and development services and related consultancy services'},\n",
       " {'count': 11689,\n",
       "  'cpv': 'Agricultural, farming, fishing, forestry and related products'},\n",
       " {'count': 53037,\n",
       "  'cpv': 'Laboratory, optical and precision equipments (excl. glasses)'},\n",
       " {'count': 16107, 'cpv': 'Printed matter and related products'},\n",
       " {'count': 22939, 'cpv': 'Software package and information systems'},\n",
       " {'count': 20683, 'cpv': 'Hotel, restaurant and retail trade services'},\n",
       " {'count': 6533, 'cpv': 'Real estate services'},\n",
       " {'count': 4166,\n",
       "  'cpv': 'Leather and textile fabrics, plastic and rubber materials'},\n",
       " {'count': 10173, 'cpv': 'Recreational, cultural and sporting services'},\n",
       " {'count': 26405, 'cpv': 'Industrial machinery'},\n",
       " {'count': 20650, 'cpv': 'Chemical products'},\n",
       " {'count': 2923, 'cpv': 'Installation services (except software)'},\n",
       " {'count': 10628,\n",
       "  'cpv': 'Machinery for mining, quarrying, construction equipment'},\n",
       " {'count': 93866, 'cpv': 'Transport services (excl. Waste transport)'},\n",
       " {'count': 49567,\n",
       "  'cpv': 'IT services: consulting, software development, Internet and support'},\n",
       " {'count': 12150, 'cpv': 'Other community, social and personal services'},\n",
       " {'count': 4132, 'cpv': 'Agricultural machinery'},\n",
       " {'count': 783, 'cpv': 'Collected and purified water'},\n",
       " {'count': 48483,\n",
       "  'cpv': 'Furniture (incl. office furniture), furnishings, domestic appliances (excl. lighting) and cleaning products'}]"
      ]
     },
     "execution_count": 23,
     "metadata": {},
     "output_type": "execute_result"
    }
   ],
   "source": [
    "match = {\n",
    "    '$match': {\n",
    "        '$and': [{'YEAR': {'$gte': bot_year}}, {'YEAR': {'$lte': top_year}}],\n",
    "        'ISO_COUNTRY_CODE': {'$in': country_list},\n",
    "        'CPV': {'$exists': True}\n",
    "    }\n",
    "}\n",
    "\n",
    "group_cpv_count = {\n",
    "    '$group':{\n",
    "        '_id':'$CPV_DIVISION',\n",
    "        'COUNT':{'$sum':1}\n",
    "    }\n",
    "}\n",
    "\n",
    "lookup = {\n",
    "    '$lookup':{\n",
    "        'from':'cpv',\n",
    "        'localField':'_id',\n",
    "        'foreignField':'cpv_division',\n",
    "        'as':'CPV'\n",
    "    }\n",
    "}\n",
    "\n",
    "project = {\n",
    "    '$project':{\n",
    "        '_id':False,\n",
    "        'cpv':{ \"$arrayElemAt\": [ \"$CPV\", 0] },\n",
    "        'count':'$COUNT'\n",
    "    }\n",
    "}\n",
    "\n",
    "project_2 = {\n",
    "    '$project':{\n",
    "        'cpv':'$cpv.cpv_division_description',\n",
    "        'count':True\n",
    "    }\n",
    "}\n",
    "\n",
    "pipeline = [match, group_cpv_count, lookup, project, project_2]\n",
    "\n",
    "list_documents = list(eu.aggregate(pipeline))\n",
    "\n",
    "list_documents"
   ]
  },
  {
   "cell_type": "markdown",
   "metadata": {},
   "source": [
    "3"
   ]
  },
  {
   "cell_type": "code",
   "execution_count": 25,
   "metadata": {},
   "outputs": [
    {
     "data": {
      "text/plain": [
       "[{'avg': 6031764.443306357, 'cpv': 'Construction work'},\n",
       " {'avg': 6024557.646283141,\n",
       "  'cpv': 'Services related to the oil and gas industry'},\n",
       " {'avg': 5777134.932820617,\n",
       "  'cpv': 'Transport services (excl. Waste transport)'},\n",
       " {'avg': 4541651.970869796,\n",
       "  'cpv': 'Hotel, restaurant and retail trade services'},\n",
       " {'avg': 4459757.657965389,\n",
       "  'cpv': 'Architectural, construction, engineering and inspection services'}]"
      ]
     },
     "execution_count": 25,
     "metadata": {},
     "output_type": "execute_result"
    }
   ],
   "source": [
    "match = {\n",
    "    '$match': {\n",
    "        '$and': [{'YEAR': {'$gte': bot_year}}, {'YEAR': {'$lte': top_year}}],\n",
    "        'ISO_COUNTRY_CODE': {'$in': country_list},\n",
    "        'CPV': {'$exists': True},\n",
    "        'VALUE_EURO': {'$exists': True}\n",
    "    }\n",
    "}\n",
    "\n",
    "group_cpv_euro_avg = {\n",
    "    '$group':{\n",
    "        '_id':'$CPV_DIVISION',\n",
    "        'AVERAGE_VALUE':{'$avg':'$VALUE_EURO'}\n",
    "    }\n",
    "}\n",
    "\n",
    "sort = {\n",
    "    '$sort':{\n",
    "        'AVERAGE_VALUE':-1\n",
    "    }\n",
    "}\n",
    "\n",
    "limit = {\n",
    "    '$limit':5\n",
    "}\n",
    "\n",
    "lookup = {\n",
    "    '$lookup':{\n",
    "        'from':'cpv',\n",
    "        'localField':'_id',\n",
    "        'foreignField':'cpv_division',\n",
    "        'as':'CPV'\n",
    "    }\n",
    "}\n",
    "\n",
    "project = {\n",
    "    '$project':{\n",
    "        '_id':False,\n",
    "        'cpv':{ \"$arrayElemAt\": [ \"$CPV\", 0] },\n",
    "        'avg':'$AVERAGE_VALUE'\n",
    "    }\n",
    "}\n",
    "\n",
    "project_2 = {\n",
    "    '$project':{\n",
    "        'cpv':'$cpv.cpv_division_description',\n",
    "        'avg':True\n",
    "    }\n",
    "}\n",
    "\n",
    "pipeline = [match, group_cpv_euro_avg, sort, limit, lookup, project, project_2]\n",
    "\n",
    "list_documents = list(eu.aggregate(pipeline))\n",
    "\n",
    "list_documents"
   ]
  },
  {
   "cell_type": "markdown",
   "metadata": {},
   "source": [
    "4"
   ]
  },
  {
   "cell_type": "code",
   "execution_count": 26,
   "metadata": {},
   "outputs": [
    {
     "data": {
      "text/plain": [
       "[{'avg': 1261617.4059277952,\n",
       "  'cpv': 'Agricultural, farming, fishing, forestry and related products'},\n",
       " {'avg': 1384645.0949917191,\n",
       "  'cpv': 'Clothing, footwear, luggage articles and accessories'},\n",
       " {'avg': 1461057.6466721345,\n",
       "  'cpv': 'Laboratory, optical and precision equipments (excl. glasses)'},\n",
       " {'avg': 1498052.4052218625,\n",
       "  'cpv': 'Musical instruments, sport goods, games, toys, handicraft, art materials and accessories'},\n",
       " {'avg': 1527093.0988754546,\n",
       "  'cpv': 'Recreational, cultural and sporting services'}]"
      ]
     },
     "execution_count": 26,
     "metadata": {},
     "output_type": "execute_result"
    }
   ],
   "source": [
    "match = {\n",
    "    '$match': {\n",
    "        '$and': [{'YEAR': {'$gte': bot_year}}, {'YEAR': {'$lte': top_year}}],\n",
    "        'ISO_COUNTRY_CODE': {'$in': country_list},\n",
    "        'CPV': {'$exists': True},\n",
    "        'VALUE_EURO': {'$exists': True}\n",
    "    }\n",
    "}\n",
    "\n",
    "group_cpv_euro_avg = {\n",
    "    '$group':{\n",
    "        '_id':'$CPV_DIVISION',\n",
    "        'AVERAGE_VALUE':{'$avg':'$VALUE_EURO'}\n",
    "    }\n",
    "}\n",
    "\n",
    "sort = {\n",
    "    '$sort':{\n",
    "        'AVERAGE_VALUE':1\n",
    "    }\n",
    "}\n",
    "\n",
    "limit = {\n",
    "    '$limit':5\n",
    "}\n",
    "\n",
    "lookup = {\n",
    "    '$lookup':{\n",
    "        'from':'cpv',\n",
    "        'localField':'_id',\n",
    "        'foreignField':'cpv_division',\n",
    "        'as':'CPV'\n",
    "    }\n",
    "}\n",
    "\n",
    "project = {\n",
    "    '$project':{\n",
    "        '_id':False,\n",
    "        'cpv':{ \"$arrayElemAt\": [ \"$CPV\", 0] },\n",
    "        'avg':'$AVERAGE_VALUE'\n",
    "    }\n",
    "}\n",
    "\n",
    "project_2 = {\n",
    "    '$project':{\n",
    "        'cpv':'$cpv.cpv_division_description',\n",
    "        'avg':True\n",
    "    }\n",
    "}\n",
    "\n",
    "pipeline = [match, group_cpv_euro_avg, sort, limit, lookup, project, project_2]\n",
    "\n",
    "list_documents = list(eu.aggregate(pipeline))\n",
    "\n",
    "list_documents"
   ]
  },
  {
   "cell_type": "markdown",
   "metadata": {},
   "source": [
    "5"
   ]
  },
  {
   "cell_type": "code",
   "execution_count": 27,
   "metadata": {},
   "outputs": [
    {
     "data": {
      "text/plain": [
       "[{'avg': 16257910.058471283,\n",
       "  'cpv': 'Food, beverages, tobacco and related products'},\n",
       " {'avg': 10419752.572405463, 'cpv': 'Repair and maintenance services'},\n",
       " {'avg': 8774581.195029901,\n",
       "  'cpv': 'Transport services (excl. Waste transport)'},\n",
       " {'avg': 7059021.661101975, 'cpv': 'Chemical products'},\n",
       " {'avg': 6433034.064154094,\n",
       "  'cpv': 'Architectural, construction, engineering and inspection services'}]"
      ]
     },
     "execution_count": 27,
     "metadata": {},
     "output_type": "execute_result"
    }
   ],
   "source": [
    "match = {\n",
    "    '$match': {\n",
    "        '$and': [{'YEAR': {'$gte': bot_year}}, {'YEAR': {'$lte': top_year}}],\n",
    "        'ISO_COUNTRY_CODE': {'$in': country_list},\n",
    "        'B_EU_FUNDS':'Y',\n",
    "        'CPV': {'$exists': True},\n",
    "        'VALUE_EURO': {'$exists': True}\n",
    "    }\n",
    "}\n",
    "\n",
    "group_cpv_euro_avg = {\n",
    "    '$group':{\n",
    "        '_id':'$CPV_DIVISION',\n",
    "        'AVERAGE_VALUE':{'$avg':'$VALUE_EURO'}\n",
    "    }\n",
    "}\n",
    "\n",
    "sort = {\n",
    "    '$sort':{\n",
    "        'AVERAGE_VALUE':-1\n",
    "    }\n",
    "}\n",
    "\n",
    "limit = {\n",
    "    '$limit':5\n",
    "}\n",
    "\n",
    "lookup = {\n",
    "    '$lookup':{\n",
    "        'from':'cpv',\n",
    "        'localField':'_id',\n",
    "        'foreignField':'cpv_division',\n",
    "        'as':'CPV'\n",
    "    }\n",
    "}\n",
    "\n",
    "project = {\n",
    "    '$project':{\n",
    "        '_id':False,\n",
    "        'cpv':{ \"$arrayElemAt\": [ \"$CPV\", 0] },\n",
    "        'avg':'$AVERAGE_VALUE'\n",
    "    }\n",
    "}\n",
    "\n",
    "project_2 = {\n",
    "    '$project':{\n",
    "        'cpv':'$cpv.cpv_division_description',\n",
    "        'avg':True\n",
    "    }\n",
    "}\n",
    "\n",
    "pipeline = [match, group_cpv_euro_avg, sort, limit, lookup, project, project_2]\n",
    "\n",
    "list_documents = list(eu.aggregate(pipeline))\n",
    "\n",
    "list_documents"
   ]
  },
  {
   "cell_type": "markdown",
   "metadata": {},
   "source": [
    "7"
   ]
  },
  {
   "cell_type": "code",
   "execution_count": 28,
   "metadata": {
    "scrolled": true
   },
   "outputs": [
    {
     "data": {
      "text/plain": [
       "[{'avg': 8825512.5, 'country': 'Cyprus', 'cpv': 'Public utilities'},\n",
       " {'avg': 21520547.6,\n",
       "  'country': 'Finland',\n",
       "  'cpv': 'Services related to the oil and gas industry'},\n",
       " {'avg': 15488975.092580644,\n",
       "  'country': 'Switzerland',\n",
       "  'cpv': 'Radio, television, communication, telecommunication and related equipment'},\n",
       " {'avg': 36544684.81752941,\n",
       "  'country': 'Denmark',\n",
       "  'cpv': 'Hotel, restaurant and retail trade services'},\n",
       " {'avg': 27372424.820588768,\n",
       "  'country': 'Latvia',\n",
       "  'cpv': 'Transport services (excl. Waste transport)'},\n",
       " {'avg': 12237475.67, 'country': 'Bulgaria'},\n",
       " {'avg': 37287103.236710235,\n",
       "  'country': 'Greece',\n",
       "  'cpv': 'Education and training services'},\n",
       " {'avg': 2193303.2319002375,\n",
       "  'country': 'North Macedonia',\n",
       "  'cpv': 'Construction work'},\n",
       " {'avg': 39424917.03162162, 'country': 'Ireland', 'cpv': 'Chemical products'},\n",
       " {'avg': 23192041.33883759,\n",
       "  'country': 'Lithuania',\n",
       "  'cpv': 'Architectural, construction, engineering and inspection services'},\n",
       " {'avg': 13830240.232884616,\n",
       "  'country': 'Netherlands',\n",
       "  'cpv': 'Installation services (except software)'},\n",
       " {'avg': 23651640.620523363,\n",
       "  'country': 'Norway',\n",
       "  'cpv': 'Transport services (excl. Waste transport)'},\n",
       " {'avg': 15927694.356782524,\n",
       "  'country': 'Slovakia',\n",
       "  'cpv': 'Construction work'},\n",
       " {'avg': 40343106.395,\n",
       "  'country': 'Iceland',\n",
       "  'cpv': 'Services related to the oil and gas industry'},\n",
       " {'avg': 6470324.213549952,\n",
       "  'country': 'Slovenia',\n",
       "  'cpv': 'Agricultural, forestry, horticultural, aquacultural and apicultural services'},\n",
       " {'avg': 10443454.251997447,\n",
       "  'country': 'Belgium',\n",
       "  'cpv': 'IT services: consulting, software development, Internet and support'},\n",
       " {'avg': 10673585.236124031,\n",
       "  'country': 'Luxembourg',\n",
       "  'cpv': 'IT services: consulting, software development, Internet and support'},\n",
       " {'avg': 7107151.055301481,\n",
       "  'country': 'Germany',\n",
       "  'cpv': 'Petroleum products, fuel, electricity and other sources of energy'},\n",
       " {'avg': 8446919.175904762, 'country': 'Portugal', 'cpv': 'Construction work'},\n",
       " {'avg': 13097262.033111112, 'country': 'Hungary', 'cpv': 'Public utilities'},\n",
       " {'avg': 23747514.896275863,\n",
       "  'country': 'Italy',\n",
       "  'cpv': 'Services related to the oil and gas industry'},\n",
       " {'avg': 21325323.385833334,\n",
       "  'country': 'United Kingdom',\n",
       "  'cpv': 'Collected and purified water'},\n",
       " {'avg': 7200833.37525641,\n",
       "  'country': 'Malta',\n",
       "  'cpv': 'Business services: law, marketing, consulting, recruitment, printing and security'},\n",
       " {'avg': 7056595.069396985, 'country': 'France', 'cpv': 'Public utilities'},\n",
       " {'avg': 16331687.504038995,\n",
       "  'country': 'Romania',\n",
       "  'cpv': 'Hotel, restaurant and retail trade services'},\n",
       " {'avg': 24927159.89736842,\n",
       "  'country': 'Spain',\n",
       "  'cpv': 'Services related to the oil and gas industry'},\n",
       " {'avg': 28067633.570987653,\n",
       "  'country': 'Austria',\n",
       "  'cpv': 'Petroleum products, fuel, electricity and other sources of energy'},\n",
       " {'avg': 9347683.672892056,\n",
       "  'country': 'Poland',\n",
       "  'cpv': 'Installation services (except software)'},\n",
       " {'avg': 7907815.163451466, 'country': 'Czechia', 'cpv': 'Construction work'},\n",
       " {'avg': 4222594.91,\n",
       "  'country': 'Liechtenstein',\n",
       "  'cpv': 'Laboratory, optical and precision equipments (excl. glasses)'},\n",
       " {'avg': 5156362.670718954, 'country': 'Estonia', 'cpv': 'Construction work'},\n",
       " {'avg': 27185685.55373134,\n",
       "  'country': 'Sweden',\n",
       "  'cpv': 'Leather and textile fabrics, plastic and rubber materials'},\n",
       " {'avg': 9341273.241666667,\n",
       "  'country': 'Croatia',\n",
       "  'cpv': 'Services related to the oil and gas industry'}]"
      ]
     },
     "execution_count": 28,
     "metadata": {},
     "output_type": "execute_result"
    }
   ],
   "source": [
    "match = {\n",
    "    '$match': {\n",
    "        '$and': [{'YEAR': {'$gte': bot_year}}, {'YEAR': {'$lte': top_year}}],\n",
    "        'ISO_COUNTRY_CODE': {'$in': country_list},\n",
    "        'CPV': {'$exists': True},\n",
    "        'VALUE_EURO': {'$exists': True}\n",
    "    }\n",
    "}\n",
    "\n",
    "group_cpv_country_euro_avg = {\n",
    "    '$group':{\n",
    "        '_id':{'CPV_DIVISION':'$CPV_DIVISION','COUNTRY':'$ISO_COUNTRY_CODE'},\n",
    "        'AVERAGE_VALUE':{'$avg':'$VALUE_EURO'}\n",
    "    }\n",
    "}\n",
    "\n",
    "sort = {\n",
    "    '$sort':{\n",
    "        'AVERAGE_VALUE':-1\n",
    "    }\n",
    "}\n",
    "\n",
    "group_2 = {\n",
    "    '$group':{\n",
    "        '_id':'$_id.COUNTRY',\n",
    "        'VALUE':{'$first':'$AVERAGE_VALUE'},\n",
    "        'CPV':{'$first':'$_id.CPV_DIVISION'}\n",
    "    }\n",
    "}\n",
    "\n",
    "lookup_country = {\n",
    "    '$lookup':{\n",
    "        'from':'iso_codes',\n",
    "        'localField':'_id',\n",
    "        'foreignField':'alpha-2',\n",
    "        'as':'COUNTRY'\n",
    "    }\n",
    "}\n",
    "\n",
    "lookup_cpv = {\n",
    "    '$lookup':{\n",
    "        'from':'cpv',\n",
    "        'localField':'CPV',\n",
    "        'foreignField':'cpv_division',\n",
    "        'as':'CPV'\n",
    "    }\n",
    "}\n",
    "\n",
    "project = {\n",
    "    '$project':{\n",
    "        '_id':False,\n",
    "        'country':{ \"$arrayElemAt\": [ \"$COUNTRY\", 0] },\n",
    "        'cpv':{ \"$arrayElemAt\": [ \"$CPV\", 0] },\n",
    "        'avg':'$VALUE'\n",
    "    }\n",
    "}\n",
    "\n",
    "project_2 = {\n",
    "    '$project':{\n",
    "        'country':'$country.name',\n",
    "        'cpv':'$cpv.cpv_division_description',\n",
    "        'avg':True\n",
    "    }\n",
    "}\n",
    "\n",
    "pipeline = [match, group_cpv_country_euro_avg, sort, group_2, lookup_country, lookup_cpv, project, project_2]\n",
    "\n",
    "list_documents = list(eu.aggregate(pipeline))\n",
    "\n",
    "list_documents"
   ]
  },
  {
   "cell_type": "code",
   "execution_count": 29,
   "metadata": {},
   "outputs": [],
   "source": [
    "cpv = '50'\n",
    "limit = {\n",
    "    '$limit':5\n",
    "}"
   ]
  },
  {
   "cell_type": "markdown",
   "metadata": {},
   "source": [
    "8"
   ]
  },
  {
   "cell_type": "code",
   "execution_count": 30,
   "metadata": {},
   "outputs": [
    {
     "data": {
      "text/plain": [
       "[{'count': 16658, 'bucket': 0},\n",
       " {'count': 11690, 'bucket': 100000},\n",
       " {'count': 9105, 'bucket': 200000},\n",
       " {'count': 6471, 'bucket': 300000},\n",
       " {'count': 4597, 'bucket': 400000},\n",
       " {'count': 3989, 'bucket': 500000},\n",
       " {'count': 3172, 'bucket': 600000},\n",
       " {'count': 2128, 'bucket': 700000},\n",
       " {'count': 1992, 'bucket': 800000},\n",
       " {'count': 1597, 'bucket': 900000},\n",
       " {'count': 29496, 'bucket': '>1000000'}]"
      ]
     },
     "execution_count": 30,
     "metadata": {},
     "output_type": "execute_result"
    }
   ],
   "source": [
    "match = {\n",
    "    '$match': {\n",
    "            '$and': [{'YEAR': {'$gte': bot_year}}, {'YEAR': {'$lte': top_year}}],\n",
    "            'ISO_COUNTRY_CODE': {'$in': country_list},\n",
    "            'CPV_DIVISION': {'$eq': cpv},\n",
    "            'VALUE_EURO': {'$exists': True}\n",
    "        }\n",
    "}\n",
    "\n",
    "bucket = {\n",
    "    '$bucket':{\n",
    "        'groupBy':'$VALUE_EURO',\n",
    "        'boundaries':[0,100000,200000,300000,400000,500000,600000,700000,800000,900000,1000000],\n",
    "        'default':'>1000000',\n",
    "        'output':{\n",
    "            'count':{'$sum':1}\n",
    "        }\n",
    "    }\n",
    "}\n",
    "\n",
    "project_2 = {\n",
    "    '$project':{\n",
    "        '_id':False,\n",
    "        'bucket':'$_id',\n",
    "        'count':True\n",
    "    }\n",
    "}\n",
    "\n",
    "pipeline = [match, bucket, project_2]\n",
    "\n",
    "list_documents = list(eu.aggregate(pipeline))\n",
    "\n",
    "list_documents"
   ]
  },
  {
   "cell_type": "markdown",
   "metadata": {},
   "source": [
    "9"
   ]
  },
  {
   "cell_type": "code",
   "execution_count": 16,
   "metadata": {},
   "outputs": [
    {
     "data": {
      "text/plain": [
       "[{'time_difference': 7715963212.7529125,\n",
       "  'value_difference': -975537.2121059563,\n",
       "  'cpv': 'Agricultural, farming, fishing, forestry and related products'},\n",
       " {'time_difference': 7301803443.26626,\n",
       "  'value_difference': -1485746.403433414,\n",
       "  'cpv': 'Health and social work services'},\n",
       " {'time_difference': 6827731228.416379,\n",
       "  'value_difference': -1838453.5639014537,\n",
       "  'cpv': 'Public utilities'},\n",
       " {'time_difference': 6418660443.587271,\n",
       "  'value_difference': -959285.731239647,\n",
       "  'cpv': 'Education and training services'},\n",
       " {'time_difference': 6391338770.541692,\n",
       "  'value_difference': -2661017.8293143203,\n",
       "  'cpv': 'Services related to the oil and gas industry'}]"
      ]
     },
     "execution_count": 16,
     "metadata": {},
     "output_type": "execute_result"
    }
   ],
   "source": [
    "match = {\n",
    "    '$match': {\n",
    "        '$and': [{'YEAR': {'$gte': bot_year}}, {'YEAR': {'$lte': top_year}}],\n",
    "        'ISO_COUNTRY_CODE': {'$in': country_list},\n",
    "        'CPV': {'$ne': None},\n",
    "        'VALUE_EURO': {'$exists': True},\n",
    "        'AWARD_VALUE_EURO': {'$exists': True},\n",
    "        'DT_DISPATCH': {'$exists': True},\n",
    "        'DT_AWARD': {'$exists': True}\n",
    "    }\n",
    "}\n",
    "\n",
    "project = {\n",
    "    '$project':{\n",
    "        '_id':False,\n",
    "        'CPV_DIVISION':True,\n",
    "        'TIME_DIFFERENCE':{'$subtract':['$DT_DISPATCH','$DT_AWARD']},\n",
    "        'VALUE_DIFFERENCE':{'$subtract':['$AWARD_VALUE_EURO','$VALUE_EURO']}\n",
    "    }\n",
    "}\n",
    "\n",
    "group_cpv_difference = {\n",
    "    '$group':{\n",
    "        '_id':'$CPV_DIVISION',\n",
    "        'AVG_TIME_DIFFERENCE':{'$avg':'$TIME_DIFFERENCE'},\n",
    "        'AVG_VALUE_DIFFERENCE':{'$avg':'$VALUE_DIFFERENCE'}\n",
    "    }\n",
    "}\n",
    "\n",
    "sort = {\n",
    "    '$sort':{\n",
    "        'AVG_TIME_DIFFERENCE':-1\n",
    "    }\n",
    "}\n",
    "\n",
    "limit = {\n",
    "    '$limit':5\n",
    "}\n",
    "\n",
    "lookup = {\n",
    "    '$lookup':{\n",
    "        'from':'cpv',\n",
    "        'localField':'_id',\n",
    "        'foreignField':'cpv_division',\n",
    "        'as':'CPV'\n",
    "    }\n",
    "}\n",
    "\n",
    "project_2 = {\n",
    "    '$project':{\n",
    "        '_id':False,\n",
    "        'cpv':{ \"$arrayElemAt\": [ \"$CPV\", 0] },\n",
    "        'time_difference':'$AVG_TIME_DIFFERENCE',\n",
    "        'value_difference':'$AVG_VALUE_DIFFERENCE'\n",
    "    }\n",
    "}\n",
    "\n",
    "project_3 = {\n",
    "    '$project':{\n",
    "        'cpv':'$cpv.cpv_division_description',\n",
    "        'time_difference':True,\n",
    "        'value_difference':True\n",
    "    }\n",
    "}\n",
    "\n",
    "pipeline = [match, project, group_cpv_difference, sort, limit, lookup, project_2, project_3]\n",
    "\n",
    "list_documents = list(eu.aggregate(pipeline))\n",
    "\n",
    "list_documents"
   ]
  },
  {
   "cell_type": "markdown",
   "metadata": {},
   "source": [
    "10.1"
   ]
  },
  {
   "cell_type": "code",
   "execution_count": 33,
   "metadata": {},
   "outputs": [
    {
     "data": {
      "text/plain": [
       "3419228.553069342"
      ]
     },
     "execution_count": 33,
     "metadata": {},
     "output_type": "execute_result"
    }
   ],
   "source": [
    "match = {\n",
    "    '$match': {\n",
    "        '$and': [{'YEAR': {'$gte': bot_year}}, {'YEAR': {'$lte': top_year}}],\n",
    "        'ISO_COUNTRY_CODE': {'$in': country_list}\n",
    "    }\n",
    "}\n",
    "\n",
    "match_value_euro = {\n",
    "    '$match':{\n",
    "        'VALUE_EURO': {'$exists': True}\n",
    "    }\n",
    "}\n",
    "\n",
    "group_country_euro_avg = {\n",
    "    '$group':{\n",
    "        '_id':'$ISO_COUNTRY_CODE',\n",
    "        'AVERAGE_VALUE':{'$avg':'$VALUE_EURO'}\n",
    "    }\n",
    "}\n",
    "\n",
    "group_country_euro_avg_2 = {\n",
    "    '$group':{\n",
    "        '_id':None,\n",
    "        'AVERAGE_COUNTRY_VALUE':{'$avg':'$AVERAGE_VALUE'}\n",
    "    }\n",
    "}\n",
    "\n",
    "pipeline_country_euro_avg = [match, match_value_euro, group_country_euro_avg, group_country_euro_avg_2]\n",
    "\n",
    "agg_country_euro_avg = list(eu.aggregate(pipeline_country_euro_avg))\n",
    "\n",
    "agg_country_euro_avg[0]['AVERAGE_COUNTRY_VALUE']"
   ]
  },
  {
   "cell_type": "markdown",
   "metadata": {},
   "source": [
    "10.2"
   ]
  },
  {
   "cell_type": "code",
   "execution_count": 34,
   "metadata": {},
   "outputs": [
    {
     "data": {
      "text/plain": [
       "92154.24242424243"
      ]
     },
     "execution_count": 34,
     "metadata": {},
     "output_type": "execute_result"
    }
   ],
   "source": [
    "group_country_count = {\n",
    "    '$group':{\n",
    "        '_id':'$ISO_COUNTRY_CODE',\n",
    "        'COUNT':{'$sum':1}\n",
    "    }\n",
    "}\n",
    "\n",
    "group_country_count_2 = {\n",
    "    '$group':{\n",
    "        '_id':None,\n",
    "        'AVERAGE_COUNT':{'$avg':'$COUNT'}\n",
    "    }\n",
    "}\n",
    "\n",
    "pipeline_country_count = [match, group_country_count, group_country_count_2]\n",
    "\n",
    "agg_country_count = list(eu.aggregate(pipeline_country_count))\n",
    "\n",
    "agg_country_count[0]['AVERAGE_COUNT']"
   ]
  },
  {
   "cell_type": "markdown",
   "metadata": {},
   "source": [
    "10.3"
   ]
  },
  {
   "cell_type": "code",
   "execution_count": 35,
   "metadata": {},
   "outputs": [
    {
     "data": {
      "text/plain": [
       "12.96010834919913"
      ]
     },
     "execution_count": 35,
     "metadata": {},
     "output_type": "execute_result"
    }
   ],
   "source": [
    "match_number_offers = {\n",
    "    '$match':{\n",
    "        'NUMBER_OFFERS': {'$exists': True}\n",
    "    }\n",
    "}\n",
    "\n",
    "group_country_offer_avg = {\n",
    "    '$group':{\n",
    "        '_id':'$ISO_COUNTRY_CODE',\n",
    "        'AVERAGE_OFFERS':{'$avg':'$NUMBER_OFFERS'}\n",
    "    }\n",
    "}\n",
    "\n",
    "group_country_offer_avg_2 = {\n",
    "    '$group':{\n",
    "        '_id':None,\n",
    "        'AVERAGE_COUNTRY_OFFERS':{'$avg':'$AVERAGE_OFFERS'}\n",
    "    }\n",
    "}\n",
    "\n",
    "pipeline_country_offer_avg = [match, match_number_offers, group_country_offer_avg, group_country_offer_avg_2]\n",
    "\n",
    "agg_country_offer_avg = list(eu.aggregate(pipeline_country_offer_avg))\n",
    "\n",
    "agg_country_offer_avg[0]['AVERAGE_COUNTRY_OFFERS']"
   ]
  },
  {
   "cell_type": "markdown",
   "metadata": {},
   "source": [
    "10.4"
   ]
  },
  {
   "cell_type": "code",
   "execution_count": 36,
   "metadata": {},
   "outputs": [
    {
     "data": {
      "text/plain": [
       "3328575.961350672"
      ]
     },
     "execution_count": 36,
     "metadata": {},
     "output_type": "execute_result"
    }
   ],
   "source": [
    "match_country_euro_avg_y_eu = {\n",
    "    '$match':{\n",
    "        'B_EU_FUNDS':'Y'\n",
    "    }\n",
    "}\n",
    "\n",
    "pipeline_country_euro_avg_y_eu = [match, match_value_euro, match_country_euro_avg_y_eu, group_country_euro_avg, group_country_euro_avg_2]\n",
    "\n",
    "agg_country_euro_avg_y_eu = list(eu.aggregate(pipeline_country_euro_avg_y_eu))\n",
    "\n",
    "agg_country_euro_avg_y_eu[0]['AVERAGE_COUNTRY_VALUE']"
   ]
  },
  {
   "cell_type": "markdown",
   "metadata": {},
   "source": [
    "10.5"
   ]
  },
  {
   "cell_type": "code",
   "execution_count": 37,
   "metadata": {},
   "outputs": [
    {
     "data": {
      "text/plain": [
       "3428926.4692076906"
      ]
     },
     "execution_count": 37,
     "metadata": {},
     "output_type": "execute_result"
    }
   ],
   "source": [
    "match_country_euro_avg_n_eu = {\n",
    "    '$match':{\n",
    "        'B_EU_FUNDS':'N'\n",
    "    }\n",
    "}\n",
    "\n",
    "pipeline_country_euro_avg_n_eu = [match, match_value_euro, match_country_euro_avg_n_eu, group_country_euro_avg, group_country_euro_avg_2]\n",
    "\n",
    "agg_country_euro_avg_n_eu = list(eu.aggregate(pipeline_country_euro_avg_n_eu))\n",
    "\n",
    "agg_country_euro_avg_n_eu[0]['AVERAGE_COUNTRY_VALUE']"
   ]
  },
  {
   "cell_type": "markdown",
   "metadata": {},
   "source": [
    "11"
   ]
  },
  {
   "cell_type": "code",
   "execution_count": 38,
   "metadata": {
    "scrolled": true
   },
   "outputs": [
    {
     "data": {
      "text/plain": [
       "[{'count': 6900, 'country': 'Cyprus'},\n",
       " {'count': 59279, 'country': 'Finland'},\n",
       " {'count': 3090, 'country': 'Switzerland'},\n",
       " {'count': 30603, 'country': 'Denmark'},\n",
       " {'count': 81179, 'country': 'Latvia'},\n",
       " {'count': 87383, 'country': 'Bulgaria'},\n",
       " {'count': 34762, 'country': 'Greece'},\n",
       " {'count': 3861, 'country': 'North Macedonia'},\n",
       " {'count': 18377, 'country': 'Netherlands'},\n",
       " {'count': 88386, 'country': 'Lithuania'},\n",
       " {'count': 12628, 'country': 'Ireland'},\n",
       " {'count': 15545, 'country': 'Norway'},\n",
       " {'count': 32593, 'country': 'Slovakia'},\n",
       " {'count': 340, 'country': 'Iceland'},\n",
       " {'count': 78631, 'country': 'Slovenia'},\n",
       " {'count': 37480, 'country': 'Belgium'},\n",
       " {'count': 3488, 'country': 'Luxembourg'},\n",
       " {'count': 190353, 'country': 'Germany'},\n",
       " {'count': 21557, 'country': 'Portugal'},\n",
       " {'count': 56836, 'country': 'Hungary'},\n",
       " {'count': 140333, 'country': 'Italy'},\n",
       " {'count': 186025, 'country': 'United Kingdom'},\n",
       " {'count': 345668, 'country': 'France'},\n",
       " {'count': 2625, 'country': 'Malta'},\n",
       " {'count': 232501, 'country': 'Romania'},\n",
       " {'count': 156054, 'country': 'Spain'},\n",
       " {'count': 17520, 'country': 'Austria'},\n",
       " {'count': 948250, 'country': 'Poland'},\n",
       " {'count': 84788, 'country': 'Czechia'},\n",
       " {'count': 89, 'country': 'Liechtenstein'},\n",
       " {'count': 20562, 'country': 'Estonia'},\n",
       " {'count': 19600, 'country': 'Sweden'},\n",
       " {'count': 23804, 'country': 'Croatia'}]"
      ]
     },
     "execution_count": 38,
     "metadata": {},
     "output_type": "execute_result"
    }
   ],
   "source": [
    "match = {\n",
    "    '$match': {\n",
    "        '$and': [{'YEAR': {'$gte': bot_year}}, {'YEAR': {'$lte': top_year}}],\n",
    "        'ISO_COUNTRY_CODE': {'$in': country_list}\n",
    "    }\n",
    "}\n",
    "\n",
    "group_country_count = {\n",
    "    '$group':{\n",
    "        '_id':'$ISO_COUNTRY_CODE',\n",
    "        'COUNT':{'$sum':1}\n",
    "    }\n",
    "}\n",
    "\n",
    "lookup = {\n",
    "    '$lookup':{\n",
    "        'from':'iso_codes',\n",
    "        'localField':'_id',\n",
    "        'foreignField':'alpha-2',\n",
    "        'as':'COUNTRY'\n",
    "    }\n",
    "}\n",
    "\n",
    "project = {\n",
    "    '$project':{\n",
    "        '_id':False,\n",
    "        'country':{ \"$arrayElemAt\": [ \"$COUNTRY\", 0] },\n",
    "        'count':'$COUNT'\n",
    "    }\n",
    "}\n",
    "\n",
    "project_2 = {\n",
    "    '$project':{\n",
    "        'country':'$country.name',\n",
    "        'count':True\n",
    "    }\n",
    "}\n",
    "\n",
    "pipeline = [match, group_country_count, lookup, project, project_2]\n",
    "\n",
    "list_documents = list(eu.aggregate(pipeline))\n",
    "\n",
    "list_documents"
   ]
  },
  {
   "cell_type": "markdown",
   "metadata": {},
   "source": [
    "12"
   ]
  },
  {
   "cell_type": "code",
   "execution_count": 39,
   "metadata": {},
   "outputs": [
    {
     "data": {
      "text/plain": [
       "[{'avg': 11303641.704969117, 'country': 'Ireland'},\n",
       " {'avg': 10812171.684698293, 'country': 'United Kingdom'},\n",
       " {'avg': 7700849.07468941, 'country': 'Denmark'},\n",
       " {'avg': 6330150.5453541335, 'country': 'Norway'},\n",
       " {'avg': 5263316.019982798, 'country': 'Luxembourg'}]"
      ]
     },
     "execution_count": 39,
     "metadata": {},
     "output_type": "execute_result"
    }
   ],
   "source": [
    "match = {\n",
    "    '$match': {\n",
    "        '$and': [{'YEAR': {'$gte': bot_year}}, {'YEAR': {'$lte': top_year}}],\n",
    "        'ISO_COUNTRY_CODE': {'$in': country_list},\n",
    "        'VALUE_EURO': {'$exists': True}\n",
    "    }\n",
    "}\n",
    "\n",
    "group = {\n",
    "    '$group':{\n",
    "        '_id':'$ISO_COUNTRY_CODE',\n",
    "        'AVERAGE':{'$avg':'$VALUE_EURO'}\n",
    "    }\n",
    "}\n",
    "\n",
    "sort = {\n",
    "    '$sort':{\n",
    "        'AVERAGE': -1\n",
    "    }\n",
    "}\n",
    "\n",
    "limit = {\n",
    "    '$limit':5\n",
    "}\n",
    "\n",
    "lookup = {\n",
    "    '$lookup':{\n",
    "        'from':'iso_codes',\n",
    "        'localField':'_id',\n",
    "        'foreignField':'alpha-2',\n",
    "        'as':'COUNTRY'\n",
    "    }\n",
    "}\n",
    "\n",
    "project = {\n",
    "    '$project':{\n",
    "        '_id':False,\n",
    "        'country':{ \"$arrayElemAt\": [ \"$COUNTRY\", 0] },\n",
    "        'avg':'$AVERAGE'\n",
    "    }\n",
    "}\n",
    "\n",
    "project_2 = {\n",
    "    '$project':{\n",
    "        'country':'$country.name',\n",
    "        'avg':True\n",
    "    }\n",
    "}\n",
    "\n",
    "pipeline = [match, group, sort, limit, lookup, project, project_2]\n",
    "\n",
    "list_documents = list(eu.aggregate(pipeline))\n",
    "\n",
    "list_documents"
   ]
  },
  {
   "cell_type": "markdown",
   "metadata": {},
   "source": [
    "13"
   ]
  },
  {
   "cell_type": "code",
   "execution_count": 40,
   "metadata": {},
   "outputs": [
    {
     "data": {
      "text/plain": [
       "[{'avg': 622732.6235172235, 'country': 'North Macedonia'},\n",
       " {'avg': 1123124.187401788, 'country': 'Slovenia'},\n",
       " {'avg': 1148939.245934335, 'country': 'Bulgaria'},\n",
       " {'avg': 1185984.9630768115, 'country': 'Cyprus'},\n",
       " {'avg': 1350866.0115504763, 'country': 'Malta'}]"
      ]
     },
     "execution_count": 40,
     "metadata": {},
     "output_type": "execute_result"
    }
   ],
   "source": [
    "match = {\n",
    "    '$match': {\n",
    "        '$and': [{'YEAR': {'$gte': bot_year}}, {'YEAR': {'$lte': top_year}}],\n",
    "        'ISO_COUNTRY_CODE': {'$in': country_list},\n",
    "        'VALUE_EURO': {'$exists': True}\n",
    "    }\n",
    "}\n",
    "\n",
    "group = {\n",
    "    '$group':{\n",
    "        '_id':'$ISO_COUNTRY_CODE',\n",
    "        'AVERAGE':{'$avg':'$VALUE_EURO'}\n",
    "    }\n",
    "}\n",
    "\n",
    "sort = {\n",
    "    '$sort':{\n",
    "        'AVERAGE': 1\n",
    "    }\n",
    "}\n",
    "\n",
    "limit = {\n",
    "    '$limit':5\n",
    "}\n",
    "\n",
    "lookup = {\n",
    "    '$lookup':{\n",
    "        'from':'iso_codes',\n",
    "        'localField':'_id',\n",
    "        'foreignField':'alpha-2',\n",
    "        'as':'COUNTRY'\n",
    "    }\n",
    "}\n",
    "\n",
    "project = {\n",
    "    '$project':{\n",
    "        '_id':False,\n",
    "        'country':{ \"$arrayElemAt\": [ \"$COUNTRY\", 0] },\n",
    "        'avg':'$AVERAGE'\n",
    "    }\n",
    "}\n",
    "\n",
    "project_2 = {\n",
    "    '$project':{\n",
    "        'country':'$country.name',\n",
    "        'avg':True\n",
    "    }\n",
    "}\n",
    "\n",
    "pipeline = [match, group, sort, limit, lookup, project, project_2]\n",
    "\n",
    "list_documents = list(eu.aggregate(pipeline))\n",
    "\n",
    "list_documents"
   ]
  },
  {
   "cell_type": "markdown",
   "metadata": {},
   "source": [
    "14"
   ]
  },
  {
   "cell_type": "code",
   "execution_count": 41,
   "metadata": {
    "scrolled": true
   },
   "outputs": [
    {
     "data": {
      "text/plain": [
       "[{'sum': 627546920.1, 'country': 'Cyprus'},\n",
       " {'sum': 2130943993.64, 'country': 'Finland'},\n",
       " {'sum': 55127375065.27, 'country': 'Latvia'},\n",
       " {'sum': 1752420246.21, 'country': 'Denmark'},\n",
       " {'sum': 8761931787.03, 'country': 'Bulgaria'},\n",
       " {'sum': 30789853883.66, 'country': 'Greece'},\n",
       " {'sum': 6367980.36, 'country': 'North Macedonia'},\n",
       " {'sum': 3119641342.61, 'country': 'Ireland'},\n",
       " {'sum': 7834030866.05, 'country': 'Lithuania'},\n",
       " {'sum': 658954626.42, 'country': 'Netherlands'},\n",
       " {'sum': 16342024427.32, 'country': 'Slovakia'},\n",
       " {'sum': 27142128.09, 'country': 'Norway'},\n",
       " {'sum': 5201424554.31, 'country': 'Slovenia'},\n",
       " {'sum': 15219058129.98, 'country': 'Belgium'},\n",
       " {'sum': 2328870042.33, 'country': 'Luxembourg'},\n",
       " {'sum': 11928777870.22, 'country': 'Germany'},\n",
       " {'sum': 7888865066.54, 'country': 'Portugal'},\n",
       " {'sum': 52934471767.6, 'country': 'Hungary'},\n",
       " {'sum': 13155538373.96, 'country': 'Italy'},\n",
       " {'sum': 155239775429.01, 'country': 'United Kingdom'},\n",
       " {'sum': 1137097615.06, 'country': 'Malta'},\n",
       " {'sum': 77404789056.95, 'country': 'France'},\n",
       " {'sum': 21545130797.59, 'country': 'Romania'},\n",
       " {'sum': 57062014501.24, 'country': 'Spain'},\n",
       " {'sum': 875062978.46, 'country': 'Austria'},\n",
       " {'sum': 88418225159.03, 'country': 'Poland'},\n",
       " {'sum': 36036691387.94, 'country': 'Czechia'},\n",
       " {'sum': 5855645376.75, 'country': 'Estonia'},\n",
       " {'sum': 264116252.5, 'country': 'Sweden'},\n",
       " {'sum': 875218167.27, 'country': 'Croatia'}]"
      ]
     },
     "execution_count": 41,
     "metadata": {},
     "output_type": "execute_result"
    }
   ],
   "source": [
    "match = {\n",
    "    '$match': {\n",
    "        '$and': [{'YEAR': {'$gte': bot_year}}, {'YEAR': {'$lte': top_year}}],\n",
    "        'ISO_COUNTRY_CODE': {'$in': country_list},\n",
    "        'B_EU_FUNDS': 'Y',\n",
    "        'VALUE_EURO': {'$exists': True}\n",
    "    }\n",
    "}\n",
    "\n",
    "group = {\n",
    "    '$group':{\n",
    "        '_id':'$ISO_COUNTRY_CODE',\n",
    "        'SUM':{'$sum':'$VALUE_EURO'}\n",
    "    }\n",
    "}\n",
    "\n",
    "lookup = {\n",
    "    '$lookup':{\n",
    "        'from':'iso_codes',\n",
    "        'localField':'_id',\n",
    "        'foreignField':'alpha-2',\n",
    "        'as':'COUNTRY'\n",
    "    }\n",
    "}\n",
    "\n",
    "project = {\n",
    "    '$project':{\n",
    "        '_id':False,\n",
    "        'country':{ \"$arrayElemAt\": [ \"$COUNTRY\", 0] },\n",
    "        'sum':'$SUM'\n",
    "    }\n",
    "}\n",
    "\n",
    "project_2 = {\n",
    "    '$project':{\n",
    "        'country':'$country.name',\n",
    "        'sum':True\n",
    "    }\n",
    "}\n",
    "\n",
    "pipeline = [match, group, lookup, project, project_2]\n",
    "\n",
    "list_documents = list(eu.aggregate(pipeline))\n",
    "\n",
    "list_documents"
   ]
  },
  {
   "cell_type": "markdown",
   "metadata": {},
   "source": [
    "15.1"
   ]
  },
  {
   "cell_type": "code",
   "execution_count": 42,
   "metadata": {},
   "outputs": [
    {
     "data": {
      "text/plain": [
       "2332022.339932884"
      ]
     },
     "execution_count": 42,
     "metadata": {},
     "output_type": "execute_result"
    }
   ],
   "source": [
    "#%%timeit\n",
    "\n",
    "match = {\n",
    "    '$match': {\n",
    "        '$and': [{'YEAR': {'$gte': bot_year}}, {'YEAR': {'$lte': top_year}}],\n",
    "        'ISO_COUNTRY_CODE': {'$in': country_list},\n",
    "        'CAE_NAME': {'$exists': True}\n",
    "    }\n",
    "}\n",
    "\n",
    "match_value_euro = {\n",
    "    '$match':{\n",
    "        'VALUE_EURO': {'$exists': True}\n",
    "    }\n",
    "}\n",
    "\n",
    "group_cae_euro_avg = {\n",
    "    '$group':{\n",
    "        '_id':'$CAE_NAME',\n",
    "        'AVERAGE_VALUE':{'$avg':'$VALUE_EURO'}\n",
    "    }\n",
    "}\n",
    "\n",
    "group_cae_euro_avg_2 = {\n",
    "    '$group':{\n",
    "        '_id':None,\n",
    "        'AVERAGE_CAE_VALUE':{'$avg':'$AVERAGE_VALUE'}\n",
    "    }\n",
    "}\n",
    "\n",
    "pipeline_cae_euro_avg = [match, match_value_euro, group_cae_euro_avg, group_cae_euro_avg_2]\n",
    "\n",
    "agg_business_euro_avg = list(eu.aggregate(pipeline_cae_euro_avg))\n",
    "\n",
    "agg_business_euro_avg[0]['AVERAGE_CAE_VALUE']"
   ]
  },
  {
   "cell_type": "markdown",
   "metadata": {},
   "source": [
    "15.2"
   ]
  },
  {
   "cell_type": "code",
   "execution_count": 43,
   "metadata": {},
   "outputs": [
    {
     "data": {
      "text/plain": [
       "20.86296436044318"
      ]
     },
     "execution_count": 43,
     "metadata": {},
     "output_type": "execute_result"
    }
   ],
   "source": [
    "group_cae_count = {\n",
    "    '$group':{\n",
    "        '_id':'$CAE_NAME',\n",
    "        'COUNT':{'$sum':1}\n",
    "    }\n",
    "}\n",
    "\n",
    "group_cae_count_2 = {\n",
    "    '$group':{\n",
    "        '_id':None,\n",
    "        'AVERAGE_COUNT':{'$avg':'$COUNT'}\n",
    "    }\n",
    "}\n",
    "\n",
    "pipeline_cae_count = [match, group_cae_count, group_cae_count_2]\n",
    "\n",
    "agg_business_count = list(eu.aggregate(pipeline_cae_count))\n",
    "\n",
    "agg_business_count[0]['AVERAGE_COUNT']"
   ]
  },
  {
   "cell_type": "markdown",
   "metadata": {},
   "source": [
    "15.3"
   ]
  },
  {
   "cell_type": "code",
   "execution_count": 44,
   "metadata": {},
   "outputs": [
    {
     "data": {
      "text/plain": [
       "5.834545217950562"
      ]
     },
     "execution_count": 44,
     "metadata": {},
     "output_type": "execute_result"
    }
   ],
   "source": [
    "match_number_offers = {\n",
    "    '$match':{\n",
    "        'NUMBER_OFFERS': {'$exists': True}\n",
    "    }\n",
    "}\n",
    "\n",
    "group_cae_offer_avg = {\n",
    "    '$group':{\n",
    "        '_id':'$CAE_NAME',\n",
    "        'AVERAGE_OFFERS':{'$avg':'$NUMBER_OFFERS'}\n",
    "    }\n",
    "}\n",
    "\n",
    "group_cae_offer_avg_2 = {\n",
    "    '$group':{\n",
    "        '_id':None,\n",
    "        'AVERAGE_CAE_OFFERS':{'$avg':'$AVERAGE_OFFERS'}\n",
    "    }\n",
    "}\n",
    "\n",
    "pipeline_cae_offer_avg = [match, match_number_offers, group_cae_offer_avg, group_cae_offer_avg_2]\n",
    "\n",
    "agg_cae_offer_avg = list(eu.aggregate(pipeline_cae_offer_avg))\n",
    "\n",
    "agg_cae_offer_avg[0]['AVERAGE_CAE_OFFERS']"
   ]
  },
  {
   "cell_type": "markdown",
   "metadata": {},
   "source": [
    "15.4"
   ]
  },
  {
   "cell_type": "code",
   "execution_count": 45,
   "metadata": {},
   "outputs": [
    {
     "data": {
      "text/plain": [
       "2200739.469196134"
      ]
     },
     "execution_count": 45,
     "metadata": {},
     "output_type": "execute_result"
    }
   ],
   "source": [
    "match_cae_euro_avg_y_eu = {\n",
    "    '$match':{\n",
    "        'B_EU_FUNDS':'Y'\n",
    "    }\n",
    "}\n",
    "\n",
    "pipeline_cae_euro_avg_y_eu = [match, match_value_euro, match_cae_euro_avg_y_eu, group_cae_euro_avg, group_cae_euro_avg_2]\n",
    "\n",
    "agg_cae_euro_avg_y_eu = list(eu.aggregate(pipeline_cae_euro_avg_y_eu))\n",
    "\n",
    "agg_cae_euro_avg_y_eu[0]['AVERAGE_CAE_VALUE']"
   ]
  },
  {
   "cell_type": "markdown",
   "metadata": {},
   "source": [
    "15.5"
   ]
  },
  {
   "cell_type": "code",
   "execution_count": 46,
   "metadata": {},
   "outputs": [
    {
     "data": {
      "text/plain": [
       "2321458.5092061693"
      ]
     },
     "execution_count": 46,
     "metadata": {},
     "output_type": "execute_result"
    }
   ],
   "source": [
    "match_cae_euro_avg_n_eu = {\n",
    "    '$match':{\n",
    "        'B_EU_FUNDS':'N'\n",
    "    }\n",
    "}\n",
    "\n",
    "pipeline_cae_euro_avg_n_eu = [match, match_value_euro, match_cae_euro_avg_n_eu, group_cae_euro_avg, group_cae_euro_avg_2]\n",
    "\n",
    "agg_cae_euro_avg_n_eu = list(eu.aggregate(pipeline_cae_euro_avg_n_eu))\n",
    "\n",
    "agg_cae_euro_avg_n_eu[0]['AVERAGE_CAE_VALUE']"
   ]
  },
  {
   "cell_type": "markdown",
   "metadata": {},
   "source": [
    "16"
   ]
  },
  {
   "cell_type": "code",
   "execution_count": 47,
   "metadata": {},
   "outputs": [
    {
     "data": {
      "text/plain": [
       "[{'company': 'Halton Housing Trust,', 'avg': 100000000.0},\n",
       " {'company': 'Rete ferroviaria italiana SpA «Gruppo Ferrovie dello Stato Italiane» — società con socio unico soggetta alla direzione e coordinamento di FS Italiane SpA, a norma dell&apos;articolo 2497 sexies cocice civile e del D.Lgs. n. 112/2015, Direzione Acquisti',\n",
       "  'avg': 100000000.0},\n",
       " {'company': 'Countess of Chester Hospital NHS Foundation Trust---This Framework Agreement for use by the whole Irish public sector including the public sector organisations identified in 2015 Register of Public Sector Bodies. http://www.cso.ie/en/methods/nationalaccounts/classificationdecisions/registerofpublicsectorbodiesinireland/',\n",
       "  'avg': 100000000.0},\n",
       " {'company': 'Amt der Oö. Landesregierung, Direktion Soziales u. Gesundheit, Abteilung Wohnbauförderung',\n",
       "  'avg': 100000000.0},\n",
       " {'company': 'Opérateur des réseaux gaz & électricité (en abrégé ORES)',\n",
       "  'avg': 100000000.0}]"
      ]
     },
     "execution_count": 47,
     "metadata": {},
     "output_type": "execute_result"
    }
   ],
   "source": [
    "match = {\n",
    "    '$match': {\n",
    "        '$and': [{'YEAR': {'$gte': bot_year}}, {'YEAR': {'$lte': top_year}}],\n",
    "        'ISO_COUNTRY_CODE': {'$in': country_list},\n",
    "        'CAE_NAME': {'$exists': True},\n",
    "        'VALUE_EURO': {'$exists': True}\n",
    "    }\n",
    "}\n",
    "\n",
    "group = {\n",
    "    '$group':{\n",
    "        '_id':'$CAE_NAME',\n",
    "        'AVERAGE':{'$avg':'$VALUE_EURO'}\n",
    "    }\n",
    "}\n",
    "\n",
    "sort = {\n",
    "    '$sort':{\n",
    "        'AVERAGE': -1\n",
    "    }\n",
    "}\n",
    "\n",
    "limit = {\n",
    "    '$limit':5\n",
    "}\n",
    "\n",
    "\n",
    "project = {\n",
    "    '$project':{\n",
    "        '_id':False,\n",
    "        'company':'$_id',\n",
    "        'avg':'$AVERAGE'\n",
    "    }\n",
    "}\n",
    "\n",
    "pipeline = [match, group, sort, limit, project]\n",
    "\n",
    "list_documents = list(eu.aggregate(pipeline))\n",
    "\n",
    "list_documents"
   ]
  },
  {
   "cell_type": "markdown",
   "metadata": {},
   "source": [
    "17"
   ]
  },
  {
   "cell_type": "code",
   "execution_count": 48,
   "metadata": {},
   "outputs": [
    {
     "data": {
      "text/plain": [
       "[{'company': 'Bayerische Staatsgemäldesammlungen', 'avg': 0.01},\n",
       " {'company': 'Landkreisbetriebe Neuburg-Schrobenhausen', 'avg': 0.01},\n",
       " {'company': 'Abfallwirtschaftsbetrieb Landkreis Uelzen---Landkreis Uelzen – Der Landrat',\n",
       "  'avg': 0.01},\n",
       " {'company': 'Spitalfonds Meersburg, Alten- und Pflegeheim Dr. Zimmermann Stift',\n",
       "  'avg': 0.01},\n",
       " {'company': 'Eigenbetrieb Abfallwirtschaft (EBA) des Rhein-Pfalz-Kreises',\n",
       "  'avg': 0.01}]"
      ]
     },
     "execution_count": 48,
     "metadata": {},
     "output_type": "execute_result"
    }
   ],
   "source": [
    "match = {\n",
    "    '$match': {\n",
    "        '$and': [{'YEAR': {'$gte': bot_year}}, {'YEAR': {'$lte': top_year}}],\n",
    "        'ISO_COUNTRY_CODE': {'$in': country_list},\n",
    "        'CAE_NAME': {'$exists': True},\n",
    "        'VALUE_EURO': {'$exists': True}\n",
    "    }\n",
    "}\n",
    "\n",
    "group = {\n",
    "    '$group':{\n",
    "        '_id':'$CAE_NAME',\n",
    "        'AVERAGE':{'$avg':'$VALUE_EURO'}\n",
    "    }\n",
    "}\n",
    "\n",
    "sort = {\n",
    "    '$sort':{\n",
    "        'AVERAGE': 1\n",
    "    }\n",
    "}\n",
    "\n",
    "limit = {\n",
    "    '$limit':5\n",
    "}\n",
    "\n",
    "\n",
    "project = {\n",
    "    '$project':{\n",
    "        '_id':False,\n",
    "        'company':'$_id',\n",
    "        'avg':'$AVERAGE'\n",
    "    }\n",
    "}\n",
    "\n",
    "pipeline = [match, group, sort, limit, project]\n",
    "\n",
    "list_documents = list(eu.aggregate(pipeline))\n",
    "\n",
    "list_documents"
   ]
  },
  {
   "cell_type": "markdown",
   "metadata": {},
   "source": [
    "18"
   ]
  },
  {
   "cell_type": "code",
   "execution_count": 49,
   "metadata": {},
   "outputs": [
    {
     "data": {
      "text/plain": [
       "[{'company': 'Uniwersyteckie Centrum Kliniczne', 'count': 12289},\n",
       " {'company': 'Szpital Kliniczny Przemienienia Pańskiego Uniwersytetu Medycznego im. Karola Marcinkowskiego w Poznaniu',\n",
       "  'count': 10424},\n",
       " {'company': 'Viešoji įstaiga Centrinė projektų valdymo agentūra (126125624)',\n",
       "  'count': 9794},\n",
       " {'company': 'Spitalul Clinic Judetean de Urgenta Sf. Spiridon Iasi',\n",
       "  'count': 8925},\n",
       " {'company': 'Institutul Oncologic Prof. Dr. I. Chiricuta Cluj-Napoca',\n",
       "  'count': 8088},\n",
       " {'company': 'Kompania Węglowa S.A.', 'count': 7915},\n",
       " {'company': 'Szpital Uniwersytecki w Krakowie', 'count': 7911},\n",
       " {'company': 'Klinički bolnički centar Rijeka', 'count': 7455},\n",
       " {'company': 'Sabiedrība ar ierobežotu atbildību “Ogres rajona slimnīca”',\n",
       "  'count': 7302},\n",
       " {'company': 'Viešoji įstaiga CPO LT', 'count': 7243},\n",
       " {'company': 'Lesy Slovenskej republiky, štátny podnik', 'count': 7207},\n",
       " {'company': 'Samodzielny Publiczny Centralny Szpital Kliniczny',\n",
       "  'count': 7130},\n",
       " {'company': 'Wojskowy Instytut Medyczny', 'count': 7070},\n",
       " {'company': 'Wojskowy Ośrodek Farmacji i Techniki Medycznej - Celestynów',\n",
       "  'count': 6214},\n",
       " {'company': 'Wojewódzki Szpital Zespolony', 'count': 6188}]"
      ]
     },
     "execution_count": 49,
     "metadata": {},
     "output_type": "execute_result"
    }
   ],
   "source": [
    "match = {\n",
    "    '$match': {\n",
    "        '$and': [{'YEAR': {'$gte': bot_year}}, {'YEAR': {'$lte': top_year}}],\n",
    "        'ISO_COUNTRY_CODE': {'$in': country_list},\n",
    "        'CAE_NAME': {'$exists': True}\n",
    "    }\n",
    "}\n",
    "\n",
    "group = {\n",
    "    '$group':{\n",
    "        '_id':'$CAE_NAME',\n",
    "        'COUNT':{'$sum':1}\n",
    "    }\n",
    "}\n",
    "\n",
    "sort = {\n",
    "    '$sort':{\n",
    "        'COUNT': -1\n",
    "    }\n",
    "}\n",
    "\n",
    "limit = {\n",
    "    '$limit':15\n",
    "}\n",
    "\n",
    "\n",
    "project = {\n",
    "    '$project':{\n",
    "        '_id':False,\n",
    "        'company':'$_id',\n",
    "        'count':'$COUNT'\n",
    "    }\n",
    "}\n",
    "\n",
    "pipeline = [match, group, sort, limit, project]\n",
    "\n",
    "list_documents = list(eu.aggregate(pipeline))\n",
    "\n",
    "list_documents"
   ]
  },
  {
   "cell_type": "markdown",
   "metadata": {},
   "source": [
    "19"
   ]
  },
  {
   "cell_type": "code",
   "execution_count": 63,
   "metadata": {},
   "outputs": [
    {
     "data": {
      "text/plain": [
       "[{'company': 'European Commission',\n",
       "  'sum': 13882139733.05,\n",
       "  'address': \"avenue d'Auderghem 45 Brussels\",\n",
       "  'country': 'Belgium'},\n",
       " {'company': 'Publications Office of the European Union',\n",
       "  'sum': 8826706789.52,\n",
       "  'address': '2, rue Mercier Luxembourg',\n",
       "  'country': 'Luxembourg'},\n",
       " {'company': 'Landschaftsverband Rheinland',\n",
       "  'sum': 5774534049.22,\n",
       "  'address': 'Ottoplatz 2 Köln',\n",
       "  'country': 'Germany'},\n",
       " {'company': 'Parque Escolar E.P.E.',\n",
       "  'sum': 2294873572.34,\n",
       "  'address': 'Avenida Infante Santo nº2, 7º andar Lisboa',\n",
       "  'country': 'Portugal'},\n",
       " {'company': 'Közbeszerzési és Ellátási Főigazgatóság',\n",
       "  'sum': 18563289618.19,\n",
       "  'address': 'Margit krt. 85-87. Budapest',\n",
       "  'country': 'Hungary'},\n",
       " {'company': 'Scotland Excel',\n",
       "  'sum': 124784964570.25,\n",
       "  'address': 'Unit 5, Anchor Mill, 7 Thread Street Paisley',\n",
       "  'country': 'United Kingdom'},\n",
       " {'company': 'Società Regionale per la Sanità (SO.RE.SA. SpA)',\n",
       "  'sum': 33850655961.43,\n",
       "  'address': 'Centro Direzionale Isola C 1 Torre Saverio Napoli',\n",
       "  'country': 'Italy'},\n",
       " {'company': 'CHRU de Lille',\n",
       "  'sum': 30214454663.02,\n",
       "  'address': 'Direction des Approvisionnements - Cellule des Marchés - Rue Philippe Marache Lille',\n",
       "  'country': 'France'},\n",
       " {'company': 'European Asylum Support Office (EASO)',\n",
       "  'sum': 1010122789.44,\n",
       "  'address': 'MTC Block A, Winemakers Wharf, Grand Harbour Valletta',\n",
       "  'country': 'Malta'},\n",
       " {'company': 'Spitalul Clinic Judetean de Urgenta Sf. Spiridon Iasi',\n",
       "  'sum': 32223974758.06,\n",
       "  'address': 'b-dul Independentei, nr. 1 Iasi',\n",
       "  'country': 'Romania'},\n",
       " {'company': 'Agencia Pública Andaluza de Educación',\n",
       "  'sum': 19243511106.28,\n",
       "  'address': 'c/ Historiador Díaz del Moral, nº 1, 1ª planta Córdoba',\n",
       "  'country': 'Spain'},\n",
       " {'company': 'Uniwersyteckie Centrum Kliniczne',\n",
       "  'sum': 46997014015.06,\n",
       "  'address': 'ul. Dębinki 7 Gdańsk',\n",
       "  'country': 'Poland'},\n",
       " {'company': 'Auftraggeber gemäß den Ausschreibungsunterlagen beiliegender Drittkundenliste der Bundesbeschaffung GmbH',\n",
       "  'sum': 16032932450.44,\n",
       "  'address': 'Lassallestraße 9b Wien',\n",
       "  'country': 'Austria'},\n",
       " {'company': 'Technická zpráva komunikací hlavního města Prahy',\n",
       "  'sum': 17093433183.06,\n",
       "  'address': 'Řásnovka 770/8 Praha 1',\n",
       "  'country': 'Czechia'},\n",
       " {'company': 'Verkehrsbetrieb LIECHTENSTEINmobil',\n",
       "  'sum': 42364253.47,\n",
       "  'address': 'Postplatz 7 Schaan',\n",
       "  'country': 'Liechtenstein'},\n",
       " {'company': 'Riigimetsa Majandamise Keskus (RMK)',\n",
       "  'sum': 3403084693.78,\n",
       "  'address': 'Viljandi mnt 18b Tallinn',\n",
       "  'country': 'Estonia'},\n",
       " {'company': 'Klinički bolnički centar Rijeka',\n",
       "  'sum': 45126375739.15,\n",
       "  'address': 'Krešimirova 42 Rijeka',\n",
       "  'country': 'Croatia'},\n",
       " {'company': 'Φαρμακευτικές Υπηρεσίες',\n",
       "  'sum': 2468618054.54,\n",
       "  'address': 'Λεωφόρος Λάρνακας 7, block B, 4ος όροφος Λευκωσία',\n",
       "  'country': 'Cyprus'},\n",
       " {'company': 'Trafikverket',\n",
       "  'sum': 14792268989.68,\n",
       "  'address': 'Sundbybergsv. 1, Solna Sundbyberg',\n",
       "  'country': 'Sweden'},\n",
       " {'company': 'Kanton Zürich, Baudirektion, Immobilienamt, Telematik',\n",
       "  'sum': 390387084.92,\n",
       "  'address': 'Walcheplatz 1 Zürich',\n",
       "  'country': 'Switzerland'},\n",
       " {'company': 'Hansel Oy',\n",
       "  'sum': 34074478329,\n",
       "  'address': 'PL 1386, Mannerheiminaukio 1 A Helsinki',\n",
       "  'country': 'Finland'},\n",
       " {'company': 'Valsts reģionālās attīstības aģentūra',\n",
       "  'sum': 42609002312.43,\n",
       "  'address': 'Elizabetes iela 19 Rīga',\n",
       "  'country': 'Latvia'},\n",
       " {'company': 'Statens og Kommunernes Indkøbs Service A/S',\n",
       "  'sum': 34576646125.11,\n",
       "  'address': 'Zeppelinerhallen, Islands Brygge 55 København S',\n",
       "  'country': 'Denmark'},\n",
       " {'company': 'УМБАЛСМ „Н. И. Пирогов“ ЕАД',\n",
       "  'sum': 9047142889.16,\n",
       "  'address': 'бул. „Тотлебен“ № 21 София',\n",
       "  'country': 'Bulgaria'},\n",
       " {'company': 'Ειδική Υπηρεσία Εφαρμογής Συγχρηματοδοτούμενων Ενεργειών από το Ευρωπαϊκό Κοινωνικό Ταμείο',\n",
       "  'sum': 14496643200,\n",
       "  'address': 'Κοραή 4 Αθήνα',\n",
       "  'country': 'Greece'},\n",
       " {'company': 'EVN Makedonija AD ,Skopje',\n",
       "  'sum': 249338334.3,\n",
       "  'address': 'Str. 11 Oktomvri,nr.9 Skopje',\n",
       "  'country': 'North Macedonia'},\n",
       " {'company': 'Viešoji įstaiga Centrinė projektų valdymo agentūra (126125624)',\n",
       "  'sum': 6635266593.35,\n",
       "  'address': 'S. Konarskio g. 13 Vilnius',\n",
       "  'country': 'Lithuania'},\n",
       " {'company': 'The Office of Government Procurement',\n",
       "  'sum': 75811174016.54,\n",
       "  'address': '3A Mayor Street Upper Dublin',\n",
       "  'country': 'Ireland'},\n",
       " {'company': 'Lesy Slovenskej republiky, štátny podnik',\n",
       "  'sum': 9257292530.48,\n",
       "  'address': 'Námestie SNP 8 Banská Bystrica',\n",
       "  'country': 'Slovakia'},\n",
       " {'company': 'Arbeids- og velferdsdirektoratet, Økonomiavdelingen, Anskaffelsesseksjonen',\n",
       "  'sum': 7581367945.8,\n",
       "  'address': 'Postboks 5, St Olavs plass Oslo',\n",
       "  'country': 'Norway'},\n",
       " {'company': 'Ministerie van Infrastructuur en Waterstaat',\n",
       "  'sum': 2241000000,\n",
       "  'address': 'Plesmanweg 1-6 The Hague',\n",
       "  'country': 'Netherlands'},\n",
       " {'company': 'Landsvirkjun',\n",
       "  'sum': 412219649.02,\n",
       "  'address': 'Haaleitisbraut 68 Reykjavik',\n",
       "  'country': 'Iceland'},\n",
       " {'company': 'SiDG d. o. o.',\n",
       "  'sum': 4114008270,\n",
       "  'address': 'Rožna ulica 39 Kočevje',\n",
       "  'country': 'Slovenia'}]"
      ]
     },
     "execution_count": 63,
     "metadata": {},
     "output_type": "execute_result"
    }
   ],
   "source": [
    "match = {\n",
    "    '$match': {\n",
    "        '$and': [{'YEAR': {'$gte': bot_year}}, {'YEAR': {'$lte': top_year}}],\n",
    "        'ISO_COUNTRY_CODE': {'$in': country_list},\n",
    "        'CAE_NAME': {'$exists': True},\n",
    "        'VALUE_EURO': {'$exists': True},\n",
    "        'CAE_ADDRESS': {'$exists': True},\n",
    "        'CAE_TOWN': {'$exists': True}\n",
    "    }\n",
    "}\n",
    "\n",
    "group_cae_country_euro_avg = {\n",
    "    '$group':{\n",
    "        '_id':{'CAE_NAME':'$CAE_NAME','COUNTRY':'$ISO_COUNTRY_CODE'},\n",
    "        'SUM':{'$sum':'$VALUE_EURO'},\n",
    "        'ADDRESS':{'$first':'$ADDRESS'}        \n",
    "    }\n",
    "}\n",
    "\n",
    "sort = {\n",
    "    '$sort':{\n",
    "        'SUM':-1\n",
    "    }\n",
    "}\n",
    "\n",
    "group_2 = {\n",
    "    '$group':{\n",
    "        '_id':'$_id.COUNTRY',\n",
    "        'VALUE':{'$first':'$SUM'},\n",
    "        'COMPANY':{'$first':'$_id.CAE_NAME'},\n",
    "        'ADDRESS':{'$first':'$ADDRESS'}\n",
    "    }\n",
    "}\n",
    "\n",
    "lookup = {\n",
    "    '$lookup':{\n",
    "        'from':'iso_codes',\n",
    "        'localField':'_id',\n",
    "        'foreignField':'alpha-2',\n",
    "        'as':'COUNTRY'\n",
    "    }\n",
    "}\n",
    "\n",
    "project_2 = {\n",
    "    '$project':{\n",
    "        '_id':False,\n",
    "        'country':{ \"$arrayElemAt\": [ \"$COUNTRY\", 0] },\n",
    "        'company':'$COMPANY',\n",
    "        'sum':'$VALUE',\n",
    "        'address':'$ADDRESS'\n",
    "    }\n",
    "}\n",
    "\n",
    "project_3 = {\n",
    "    '$project':{\n",
    "        'country':'$country.name',\n",
    "        'company':True,\n",
    "        'sum':True,\n",
    "        'address':True\n",
    "    }\n",
    "}\n",
    "\n",
    "pipeline = [match, group_cae_country_euro_avg, sort, group_2, lookup, project_2, project_3]\n",
    "\n",
    "list_documents = list(eu.aggregate(pipeline,allowDiskUse=True))\n",
    "\n",
    "list_documents"
   ]
  },
  {
   "cell_type": "markdown",
   "metadata": {},
   "source": [
    "20"
   ]
  },
  {
   "cell_type": "code",
   "execution_count": 68,
   "metadata": {},
   "outputs": [
    {
     "data": {
      "text/plain": [
       "[{'companies': 'Viešoji įstaiga Centrinė projektų valdymo agentūra (126125624) with UAB \"Limedika\" (134056779)',\n",
       "  'count': 1741},\n",
       " {'companies': \"Viešoji įstaiga Centrinė projektų valdymo agentūra (126125624) with UAB 'Limedika' (134056779)\",\n",
       "  'count': 1626},\n",
       " {'companies': 'Sabiedrība ar ierobežotu atbildību “Ogres rajona slimnīca” with SIA “Magnum Medical”',\n",
       "  'count': 1441},\n",
       " {'companies': 'Viešoji įstaiga Centrinė projektų valdymo agentūra (126125624) with UAB \"ARMILA\" (123813957)',\n",
       "  'count': 1220},\n",
       " {'companies': \"Viešoji įstaiga „CPO LT“ with UAB 'Limedika'\", 'count': 1164}]"
      ]
     },
     "execution_count": 68,
     "metadata": {},
     "output_type": "execute_result"
    }
   ],
   "source": [
    "match = {\n",
    "    '$match': {\n",
    "        '$and': [{'YEAR': {'$gte': bot_year}}, {'YEAR': {'$lte': top_year}}],\n",
    "        'ISO_COUNTRY_CODE': {'$in': country_list},\n",
    "        'CAE_NAME': {'$exists': True},\n",
    "        'WIN_NAME': {'$exists': True},\n",
    "    }\n",
    "}\n",
    "\n",
    "group = {\n",
    "    '$group':{\n",
    "        '_id':'$PAIR',\n",
    "        'COUNT':{'$sum':1}\n",
    "    }\n",
    "}\n",
    "\n",
    "sort = {\n",
    "    '$sort':{\n",
    "        'COUNT':-1\n",
    "    }\n",
    "}\n",
    "\n",
    "limit = {\n",
    "    '$limit':5\n",
    "}\n",
    "\n",
    "project_2 = {\n",
    "    '$project':{\n",
    "        '_id':False,\n",
    "        'companies':'$_id',\n",
    "        'count':'$COUNT'\n",
    "    }\n",
    "}\n",
    "\n",
    "pipeline = [match, group, sort, limit, project_2]\n",
    "\n",
    "list_documents = list(eu.aggregate(pipeline,allowDiskUse=True))\n",
    "\n",
    "list_documents"
   ]
  },
  {
   "cell_type": "code",
   "execution_count": 41,
   "metadata": {},
   "outputs": [
    {
     "ename": "AutoReconnect",
     "evalue": "connection closed",
     "output_type": "error",
     "traceback": [
      "\u001b[1;31m---------------------------------------------------------------------------\u001b[0m",
      "\u001b[1;31mAutoReconnect\u001b[0m                             Traceback (most recent call last)",
      "\u001b[1;32m<ipython-input-41-4ec508ed0d78>\u001b[0m in \u001b[0;36m<module>\u001b[1;34m\u001b[0m\n\u001b[0;32m     20\u001b[0m )\n\u001b[0;32m     21\u001b[0m \u001b[1;33m\u001b[0m\u001b[0m\n\u001b[1;32m---> 22\u001b[1;33m \u001b[0meu\u001b[0m\u001b[1;33m.\u001b[0m\u001b[0mmap_reduce\u001b[0m\u001b[1;33m(\u001b[0m\u001b[0mmapper\u001b[0m\u001b[1;33m,\u001b[0m \u001b[0mreducer\u001b[0m\u001b[1;33m,\u001b[0m \u001b[1;34m\"myresults\"\u001b[0m\u001b[1;33m)\u001b[0m\u001b[1;33m\u001b[0m\u001b[1;33m\u001b[0m\u001b[0m\n\u001b[0m",
      "\u001b[1;32m~\\anaconda3\\envs\\Big Data Modelling\\lib\\site-packages\\pymongo\\collection.py\u001b[0m in \u001b[0;36mmap_reduce\u001b[1;34m(self, map, reduce, out, full_response, session, **kwargs)\u001b[0m\n\u001b[0;32m   2771\u001b[0m \u001b[1;33m\u001b[0m\u001b[0m\n\u001b[0;32m   2772\u001b[0m         response = self._map_reduce(map, reduce, out, session,\n\u001b[1;32m-> 2773\u001b[1;33m                                     ReadPreference.PRIMARY, **kwargs)\n\u001b[0m\u001b[0;32m   2774\u001b[0m \u001b[1;33m\u001b[0m\u001b[0m\n\u001b[0;32m   2775\u001b[0m         \u001b[1;32mif\u001b[0m \u001b[0mfull_response\u001b[0m \u001b[1;32mor\u001b[0m \u001b[1;32mnot\u001b[0m \u001b[0mresponse\u001b[0m\u001b[1;33m.\u001b[0m\u001b[0mget\u001b[0m\u001b[1;33m(\u001b[0m\u001b[1;34m'result'\u001b[0m\u001b[1;33m)\u001b[0m\u001b[1;33m:\u001b[0m\u001b[1;33m\u001b[0m\u001b[1;33m\u001b[0m\u001b[0m\n",
      "\u001b[1;32m~\\anaconda3\\envs\\Big Data Modelling\\lib\\site-packages\\pymongo\\collection.py\u001b[0m in \u001b[0;36m_map_reduce\u001b[1;34m(self, map, reduce, out, session, read_pref, **kwargs)\u001b[0m\n\u001b[0;32m   2709\u001b[0m                 \u001b[0mwrite_concern\u001b[0m\u001b[1;33m=\u001b[0m\u001b[0mwrite_concern\u001b[0m\u001b[1;33m,\u001b[0m\u001b[1;33m\u001b[0m\u001b[1;33m\u001b[0m\u001b[0m\n\u001b[0;32m   2710\u001b[0m                 \u001b[0mcollation\u001b[0m\u001b[1;33m=\u001b[0m\u001b[0mcollation\u001b[0m\u001b[1;33m,\u001b[0m \u001b[0msession\u001b[0m\u001b[1;33m=\u001b[0m\u001b[0msession\u001b[0m\u001b[1;33m,\u001b[0m\u001b[1;33m\u001b[0m\u001b[1;33m\u001b[0m\u001b[0m\n\u001b[1;32m-> 2711\u001b[1;33m                 user_fields=user_fields)\n\u001b[0m\u001b[0;32m   2712\u001b[0m \u001b[1;33m\u001b[0m\u001b[0m\n\u001b[0;32m   2713\u001b[0m     def map_reduce(self, map, reduce, out, full_response=False, session=None,\n",
      "\u001b[1;32m~\\anaconda3\\envs\\Big Data Modelling\\lib\\site-packages\\pymongo\\collection.py\u001b[0m in \u001b[0;36m_command\u001b[1;34m(self, sock_info, command, slave_ok, read_preference, codec_options, check, allowable_errors, read_concern, write_concern, collation, session, retryable_write, user_fields)\u001b[0m\n\u001b[0;32m    248\u001b[0m                 \u001b[0mclient\u001b[0m\u001b[1;33m=\u001b[0m\u001b[0mself\u001b[0m\u001b[1;33m.\u001b[0m\u001b[0m__database\u001b[0m\u001b[1;33m.\u001b[0m\u001b[0mclient\u001b[0m\u001b[1;33m,\u001b[0m\u001b[1;33m\u001b[0m\u001b[1;33m\u001b[0m\u001b[0m\n\u001b[0;32m    249\u001b[0m                 \u001b[0mretryable_write\u001b[0m\u001b[1;33m=\u001b[0m\u001b[0mretryable_write\u001b[0m\u001b[1;33m,\u001b[0m\u001b[1;33m\u001b[0m\u001b[1;33m\u001b[0m\u001b[0m\n\u001b[1;32m--> 250\u001b[1;33m                 user_fields=user_fields)\n\u001b[0m\u001b[0;32m    251\u001b[0m \u001b[1;33m\u001b[0m\u001b[0m\n\u001b[0;32m    252\u001b[0m     \u001b[1;32mdef\u001b[0m \u001b[0m__create\u001b[0m\u001b[1;33m(\u001b[0m\u001b[0mself\u001b[0m\u001b[1;33m,\u001b[0m \u001b[0moptions\u001b[0m\u001b[1;33m,\u001b[0m \u001b[0mcollation\u001b[0m\u001b[1;33m,\u001b[0m \u001b[0msession\u001b[0m\u001b[1;33m)\u001b[0m\u001b[1;33m:\u001b[0m\u001b[1;33m\u001b[0m\u001b[1;33m\u001b[0m\u001b[0m\n",
      "\u001b[1;32m~\\anaconda3\\envs\\Big Data Modelling\\lib\\site-packages\\pymongo\\pool.py\u001b[0m in \u001b[0;36mcommand\u001b[1;34m(self, dbname, spec, slave_ok, read_preference, codec_options, check, allowable_errors, check_keys, read_concern, write_concern, parse_write_concern_error, collation, session, client, retryable_write, publish_events, user_fields)\u001b[0m\n\u001b[0;32m    616\u001b[0m         \u001b[1;31m# Catch socket.error, KeyboardInterrupt, etc. and close ourselves.\u001b[0m\u001b[1;33m\u001b[0m\u001b[1;33m\u001b[0m\u001b[1;33m\u001b[0m\u001b[0m\n\u001b[0;32m    617\u001b[0m         \u001b[1;32mexcept\u001b[0m \u001b[0mBaseException\u001b[0m \u001b[1;32mas\u001b[0m \u001b[0merror\u001b[0m\u001b[1;33m:\u001b[0m\u001b[1;33m\u001b[0m\u001b[1;33m\u001b[0m\u001b[0m\n\u001b[1;32m--> 618\u001b[1;33m             \u001b[0mself\u001b[0m\u001b[1;33m.\u001b[0m\u001b[0m_raise_connection_failure\u001b[0m\u001b[1;33m(\u001b[0m\u001b[0merror\u001b[0m\u001b[1;33m)\u001b[0m\u001b[1;33m\u001b[0m\u001b[1;33m\u001b[0m\u001b[0m\n\u001b[0m\u001b[0;32m    619\u001b[0m \u001b[1;33m\u001b[0m\u001b[0m\n\u001b[0;32m    620\u001b[0m     \u001b[1;32mdef\u001b[0m \u001b[0msend_message\u001b[0m\u001b[1;33m(\u001b[0m\u001b[0mself\u001b[0m\u001b[1;33m,\u001b[0m \u001b[0mmessage\u001b[0m\u001b[1;33m,\u001b[0m \u001b[0mmax_doc_size\u001b[0m\u001b[1;33m)\u001b[0m\u001b[1;33m:\u001b[0m\u001b[1;33m\u001b[0m\u001b[1;33m\u001b[0m\u001b[0m\n",
      "\u001b[1;32m~\\anaconda3\\envs\\Big Data Modelling\\lib\\site-packages\\pymongo\\pool.py\u001b[0m in \u001b[0;36mcommand\u001b[1;34m(self, dbname, spec, slave_ok, read_preference, codec_options, check, allowable_errors, check_keys, read_concern, write_concern, parse_write_concern_error, collation, session, client, retryable_write, publish_events, user_fields)\u001b[0m\n\u001b[0;32m    611\u001b[0m                            \u001b[0muse_op_msg\u001b[0m\u001b[1;33m=\u001b[0m\u001b[0mself\u001b[0m\u001b[1;33m.\u001b[0m\u001b[0mop_msg_enabled\u001b[0m\u001b[1;33m,\u001b[0m\u001b[1;33m\u001b[0m\u001b[1;33m\u001b[0m\u001b[0m\n\u001b[0;32m    612\u001b[0m                            \u001b[0munacknowledged\u001b[0m\u001b[1;33m=\u001b[0m\u001b[0munacknowledged\u001b[0m\u001b[1;33m,\u001b[0m\u001b[1;33m\u001b[0m\u001b[1;33m\u001b[0m\u001b[0m\n\u001b[1;32m--> 613\u001b[1;33m                            user_fields=user_fields)\n\u001b[0m\u001b[0;32m    614\u001b[0m         \u001b[1;32mexcept\u001b[0m \u001b[0mOperationFailure\u001b[0m\u001b[1;33m:\u001b[0m\u001b[1;33m\u001b[0m\u001b[1;33m\u001b[0m\u001b[0m\n\u001b[0;32m    615\u001b[0m             \u001b[1;32mraise\u001b[0m\u001b[1;33m\u001b[0m\u001b[1;33m\u001b[0m\u001b[0m\n",
      "\u001b[1;32m~\\anaconda3\\envs\\Big Data Modelling\\lib\\site-packages\\pymongo\\network.py\u001b[0m in \u001b[0;36mcommand\u001b[1;34m(sock, dbname, spec, slave_ok, is_mongos, read_preference, codec_options, session, client, check, allowable_errors, address, check_keys, listeners, max_bson_size, read_concern, parse_write_concern_error, collation, compression_ctx, use_op_msg, unacknowledged, user_fields)\u001b[0m\n\u001b[0;32m    155\u001b[0m             \u001b[0mresponse_doc\u001b[0m \u001b[1;33m=\u001b[0m \u001b[1;33m{\u001b[0m\u001b[1;34m\"ok\"\u001b[0m\u001b[1;33m:\u001b[0m \u001b[1;36m1\u001b[0m\u001b[1;33m}\u001b[0m\u001b[1;33m\u001b[0m\u001b[1;33m\u001b[0m\u001b[0m\n\u001b[0;32m    156\u001b[0m         \u001b[1;32melse\u001b[0m\u001b[1;33m:\u001b[0m\u001b[1;33m\u001b[0m\u001b[1;33m\u001b[0m\u001b[0m\n\u001b[1;32m--> 157\u001b[1;33m             \u001b[0mreply\u001b[0m \u001b[1;33m=\u001b[0m \u001b[0mreceive_message\u001b[0m\u001b[1;33m(\u001b[0m\u001b[0msock\u001b[0m\u001b[1;33m,\u001b[0m \u001b[0mrequest_id\u001b[0m\u001b[1;33m)\u001b[0m\u001b[1;33m\u001b[0m\u001b[1;33m\u001b[0m\u001b[0m\n\u001b[0m\u001b[0;32m    158\u001b[0m             unpacked_docs = reply.unpack_response(\n\u001b[0;32m    159\u001b[0m                 codec_options=codec_options, user_fields=user_fields)\n",
      "\u001b[1;32m~\\anaconda3\\envs\\Big Data Modelling\\lib\\site-packages\\pymongo\\network.py\u001b[0m in \u001b[0;36mreceive_message\u001b[1;34m(sock, request_id, max_message_size)\u001b[0m\n\u001b[0;32m    194\u001b[0m     \u001b[1;31m# Ignore the response's request id.\u001b[0m\u001b[1;33m\u001b[0m\u001b[1;33m\u001b[0m\u001b[1;33m\u001b[0m\u001b[0m\n\u001b[0;32m    195\u001b[0m     length, _, response_to, op_code = _UNPACK_HEADER(\n\u001b[1;32m--> 196\u001b[1;33m         _receive_data_on_socket(sock, 16))\n\u001b[0m\u001b[0;32m    197\u001b[0m     \u001b[1;31m# No request_id for exhaust cursor \"getMore\".\u001b[0m\u001b[1;33m\u001b[0m\u001b[1;33m\u001b[0m\u001b[1;33m\u001b[0m\u001b[0m\n\u001b[0;32m    198\u001b[0m     \u001b[1;32mif\u001b[0m \u001b[0mrequest_id\u001b[0m \u001b[1;32mis\u001b[0m \u001b[1;32mnot\u001b[0m \u001b[1;32mNone\u001b[0m\u001b[1;33m:\u001b[0m\u001b[1;33m\u001b[0m\u001b[1;33m\u001b[0m\u001b[0m\n",
      "\u001b[1;32m~\\anaconda3\\envs\\Big Data Modelling\\lib\\site-packages\\pymongo\\network.py\u001b[0m in \u001b[0;36m_receive_data_on_socket\u001b[1;34m(sock, length)\u001b[0m\n\u001b[0;32m    259\u001b[0m                 \u001b[1;32mraise\u001b[0m\u001b[1;33m\u001b[0m\u001b[1;33m\u001b[0m\u001b[0m\n\u001b[0;32m    260\u001b[0m             \u001b[1;32mif\u001b[0m \u001b[0mchunk_length\u001b[0m \u001b[1;33m==\u001b[0m \u001b[1;36m0\u001b[0m\u001b[1;33m:\u001b[0m\u001b[1;33m\u001b[0m\u001b[1;33m\u001b[0m\u001b[0m\n\u001b[1;32m--> 261\u001b[1;33m                 \u001b[1;32mraise\u001b[0m \u001b[0mAutoReconnect\u001b[0m\u001b[1;33m(\u001b[0m\u001b[1;34m\"connection closed\"\u001b[0m\u001b[1;33m)\u001b[0m\u001b[1;33m\u001b[0m\u001b[1;33m\u001b[0m\u001b[0m\n\u001b[0m\u001b[0;32m    262\u001b[0m \u001b[1;33m\u001b[0m\u001b[0m\n\u001b[0;32m    263\u001b[0m             \u001b[0mbytes_read\u001b[0m \u001b[1;33m+=\u001b[0m \u001b[0mchunk_length\u001b[0m\u001b[1;33m\u001b[0m\u001b[1;33m\u001b[0m\u001b[0m\n",
      "\u001b[1;31mAutoReconnect\u001b[0m: connection closed"
     ]
    }
   ],
   "source": [
    "from bson.code import Code\n",
    "mapper = Code(\n",
    "    \"\"\"\n",
    "       function () {\n",
    "            emit((this.CAE_NAME,this.WIN_NAME), 1);\n",
    "       }\n",
    "   \"\"\"\n",
    ")\n",
    "\n",
    "reducer = Code(\n",
    "    \"\"\"\n",
    "        function (key, values) {\n",
    "          var total = 0;\n",
    "          for (var i = 0; i < values.length; i++) {\n",
    "            total += values[i];\n",
    "          }\n",
    "          return total;\n",
    "        }\n",
    "    \"\"\"\n",
    ")\n",
    "\n",
    "eu.map_reduce(mapper, reducer, \"myresults\")"
   ]
  },
  {
   "cell_type": "code",
   "execution_count": null,
   "metadata": {},
   "outputs": [],
   "source": []
  }
 ],
 "metadata": {
  "kernelspec": {
   "display_name": "Python 3",
   "language": "python",
   "name": "python3"
  },
  "language_info": {
   "codemirror_mode": {
    "name": "ipython",
    "version": 3
   },
   "file_extension": ".py",
   "mimetype": "text/x-python",
   "name": "python",
   "nbconvert_exporter": "python",
   "pygments_lexer": "ipython3",
   "version": "3.7.7"
  }
 },
 "nbformat": 4,
 "nbformat_minor": 4
}
