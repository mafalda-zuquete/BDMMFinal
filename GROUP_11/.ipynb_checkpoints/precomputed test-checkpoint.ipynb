{
 "cells": [
  {
   "cell_type": "code",
   "execution_count": 10,
   "metadata": {},
   "outputs": [
    {
     "name": "stdout",
     "output_type": "stream",
     "text": [
      "Requirement already satisfied: pymongo in c:\\users\\mafalda\\anaconda3\\envs\\big data modelling\\lib\\site-packages (3.10.1)\n"
     ]
    }
   ],
   "source": [
    "!pip install pymongo\n",
    "from pymongo import MongoClient"
   ]
  },
  {
   "cell_type": "code",
   "execution_count": 11,
   "metadata": {},
   "outputs": [],
   "source": [
    "host=\"rhea.isegi.unl.pt\"\n",
    "port=\"28011\"\n",
    "user=\"GROUP_11\"\n",
    "password=\"MTM0MzQ5MzI3NjY4ODM1MzQ2ODc2OTMzMjgyNjQ3NjYyNDcyNjUw\"\n",
    "protocol=\"mongodb\"\n",
    "client = MongoClient(f\"{protocol}://{user}:{password}@{host}:{port}\")"
   ]
  },
  {
   "cell_type": "code",
   "execution_count": 12,
   "metadata": {},
   "outputs": [],
   "source": [
    "db = client.contracts\n",
    "eu = db.eu"
   ]
  },
  {
   "cell_type": "code",
   "execution_count": 13,
   "metadata": {},
   "outputs": [
    {
     "data": {
      "text/plain": [
       "{'_id': ObjectId('5e58fe88e3912091230e07a2'),\n",
       " 'ID_NOTICE_CAN': 20157,\n",
       " 'TED_NOTICE_URL': 'ted.europa.eu/udl?uri=TED:NOTICE:7-2015:TEXT:EN:HTML',\n",
       " 'YEAR': 2015,\n",
       " 'ID_TYPE': 3,\n",
       " 'DT_DISPATCH': '23-DEC-14',\n",
       " 'XSD_VERSION': 'R208.S2',\n",
       " 'CANCELLED': 0,\n",
       " 'CORRECTIONS': 0,\n",
       " 'CAE_NAME': 'European Union Agency for Law Enforcement Training (CEPOL)',\n",
       " 'CAE_ADDRESS': 'Ó utca 27.',\n",
       " 'CAE_TOWN': 'Budapest',\n",
       " 'CAE_POSTAL_CODE': 1066,\n",
       " 'CAE_GPA_ANNEX': 'A1EUN',\n",
       " 'ISO_COUNTRY_CODE': 'HU',\n",
       " 'ISO_COUNTRY_CODE_GPA': 'EU',\n",
       " 'CAE_TYPE': 5,\n",
       " 'EU_INST_CODE': 'AG',\n",
       " 'MAIN_ACTIVITY': 'Public Order and Safety',\n",
       " 'B_ON_BEHALF': 'N',\n",
       " 'TYPE_OF_CONTRACT': 'S',\n",
       " 'TAL_LOCATION_NUTS': 'HU101;HU102',\n",
       " 'B_FRA_AGREEMENT': 'Y',\n",
       " 'B_FRA_CONTRACT': 'Y',\n",
       " 'CPV': 79620000,\n",
       " 'MAIN_CPV_CODE_GPA': 796,\n",
       " 'ADDITIONAL_CPVS': '79621000---79612000---79610000---79600000---79611000',\n",
       " 'B_GPA': 'N',\n",
       " 'GPA_COVERAGE': 2,\n",
       " 'LOTS_NUMBER': 0,\n",
       " 'VALUE_EURO': 400000,\n",
       " 'VALUE_EURO_FIN_1': 400000,\n",
       " 'VALUE_EURO_FIN_2': 400000,\n",
       " 'B_EU_FUNDS': 'N',\n",
       " 'TOP_TYPE': 'OPE',\n",
       " 'OUT_OF_DIRECTIVES': 0,\n",
       " 'CRIT_CODE': 'L',\n",
       " 'CRIT_PRICE_WEIGHT': 100,\n",
       " 'B_ELECTRONIC_AUCTION': 'N',\n",
       " 'NUMBER_AWARDS': 1,\n",
       " 'ID_AWARD': 6630331,\n",
       " 'INFO_UNPUBLISHED': 'N',\n",
       " 'WIN_NAME': 'Manpower Munkaerő-Szervezési Kft',\n",
       " 'WIN_ADDRESS': 'Váci street 76.',\n",
       " 'WIN_TOWN': 'Budapest',\n",
       " 'WIN_POSTAL_CODE': 1133,\n",
       " 'WIN_COUNTRY_CODE': 'HU',\n",
       " 'CONTRACT_NUMBER': 'CEPOL/CT/2014/028',\n",
       " 'NUMBER_OFFERS': 1,\n",
       " 'AWARD_EST_VALUE_EURO': 400000,\n",
       " 'AWARD_VALUE_EURO': 400000,\n",
       " 'AWARD_VALUE_EURO_FIN_1': 400000,\n",
       " 'B_SUBCONTRACTED': 'N',\n",
       " 'DT_AWARD': '20-NOV-14',\n",
       " 'EQUAL_TOWN': True}"
      ]
     },
     "execution_count": 13,
     "metadata": {},
     "output_type": "execute_result"
    }
   ],
   "source": [
    "eu.find_one()"
   ]
  },
  {
   "cell_type": "code",
   "execution_count": 5,
   "metadata": {},
   "outputs": [],
   "source": [
    "countries = ['NO', 'HR', 'HU', 'CH', 'CZ', 'RO', 'LV', 'GR', 'UK', 'SI', 'LT',\n",
    "             'ES', 'FR', 'IE', 'SE', 'NL', 'PT', 'PL', 'DK', 'MK', 'DE', 'IT',\n",
    "             'BG', 'CY', 'AT', 'LU', 'BE', 'FI', 'EE', 'SK', 'MT', 'LI', 'IS']"
   ]
  },
  {
   "cell_type": "code",
   "execution_count": 57,
   "metadata": {},
   "outputs": [],
   "source": [
    "def match_and_project():\n",
    "    match = {\n",
    "        '$match':{\n",
    "            '$and':[{'YEAR':{'$gte':2008}},{'YEAR':{'$lte':2020}}],\n",
    "            'VALUE_EURO':{'$lte':100000000},\n",
    "            'ISO_COUNTRY_CODE':{'$in':countries}\n",
    "        }\n",
    "    }\n",
    "\n",
    "    project = {\n",
    "        '$project':{\n",
    "            '_id':False,\n",
    "            'VALUE_EURO':True,\n",
    "            'NUMBER_OFFERS':True,\n",
    "            'nCPV':'$CPV',\n",
    "            'CPV':{'$toString':'$CPV'},\n",
    "            'ISO_COUNTRY_CODE':True,\n",
    "            'YEAR':True,\n",
    "            'AWARD_VALUE_EURO':True,\n",
    "            'DT_DISPATCH':{'$dateFromString':{'dateString':'$DT_DISPATCH'}},\n",
    "            'DT_AWARD':{'$dateFromString':{'dateString':'$DT_AWARD'}},\n",
    "            'B_EU_FUNDS':True,\n",
    "            'CAE_NAME':True,\n",
    "            'CAE_ADDRESS':True,\n",
    "            'CAE_TOWN':True,\n",
    "            'WIN_NAME':True,\n",
    "            'ADDRESS':{'$concat':[{'$toString':'$CAE_ADDRESS'},' ',{'$toString':'$CAE_TOWN'}]},\n",
    "            'PAIR':{'$concat':[{'$toString':'$CAE_NAME'},' with ',{'$toString':'$WIN_NAME'}]}\n",
    "        }\n",
    "    }\n",
    "    \n",
    "    pipeline = [match,project]\n",
    "    \n",
    "    list_documents = list(eu.aggregate(pipeline))\n",
    "    \n",
    "    return list_documents"
   ]
  },
  {
   "cell_type": "code",
   "execution_count": 58,
   "metadata": {},
   "outputs": [
    {
     "data": {
      "text/plain": [
       "<pymongo.results.InsertManyResult at 0x2ce376e6dc8>"
      ]
     },
     "execution_count": 58,
     "metadata": {},
     "output_type": "execute_result"
    }
   ],
   "source": [
    "db.eu_2.insert_many(match_and_project())"
   ]
  },
  {
   "cell_type": "code",
   "execution_count": 59,
   "metadata": {
    "scrolled": true
   },
   "outputs": [
    {
     "data": {
      "text/plain": [
       "{'_id': ObjectId('5ef090cf453b897d273c291a'),\n",
       " 'YEAR': 2015,\n",
       " 'CAE_NAME': 'European Union Agency for Law Enforcement Training (CEPOL)',\n",
       " 'CAE_ADDRESS': 'Ó utca 27.',\n",
       " 'CAE_TOWN': 'Budapest',\n",
       " 'ISO_COUNTRY_CODE': 'HU',\n",
       " 'VALUE_EURO': 400000,\n",
       " 'B_EU_FUNDS': 'N',\n",
       " 'WIN_NAME': 'Manpower Munkaerő-Szervezési Kft',\n",
       " 'NUMBER_OFFERS': 1,\n",
       " 'AWARD_VALUE_EURO': 400000,\n",
       " 'nCPV': 79620000,\n",
       " 'CPV': '79620000',\n",
       " 'DT_DISPATCH': datetime.datetime(2014, 12, 23, 0, 0),\n",
       " 'DT_AWARD': datetime.datetime(2014, 11, 20, 0, 0),\n",
       " 'ADDRESS': 'Ó utca 27. Budapest',\n",
       " 'PAIR': 'European Union Agency for Law Enforcement Training (CEPOL) with Manpower Munkaerő-Szervezési Kft'}"
      ]
     },
     "execution_count": 59,
     "metadata": {},
     "output_type": "execute_result"
    }
   ],
   "source": [
    "db.eu_2.find_one()"
   ]
  },
  {
   "cell_type": "code",
   "execution_count": 14,
   "metadata": {
    "scrolled": false
   },
   "outputs": [
    {
     "data": {
      "text/plain": [
       "3041091"
      ]
     },
     "execution_count": 14,
     "metadata": {},
     "output_type": "execute_result"
    }
   ],
   "source": [
    "db.eu_2.count_documents({})"
   ]
  },
  {
   "cell_type": "code",
   "execution_count": 61,
   "metadata": {
    "scrolled": true
   },
   "outputs": [
    {
     "data": {
      "text/plain": [
       "[{'_id': ObjectId('5ef090cf453b897d273c296b'),\n",
       "  'YEAR': 2009,\n",
       "  'CAE_NAME': 'Rostocker Straßenbahn AG',\n",
       "  'CAE_ADDRESS': 'Hamburger Straße 115',\n",
       "  'CAE_TOWN': 'Rostock',\n",
       "  'ISO_COUNTRY_CODE': 'DE',\n",
       "  'VALUE_EURO': 1785291.8,\n",
       "  'B_EU_FUNDS': 'N',\n",
       "  'WIN_NAME': 'Stadtwerke Rostock',\n",
       "  'NUMBER_OFFERS': 2,\n",
       "  'nCPV': 9310000,\n",
       "  'CPV': '9310000',\n",
       "  'DT_DISPATCH': datetime.datetime(2008, 12, 30, 0, 0),\n",
       "  'DT_AWARD': datetime.datetime(2008, 12, 12, 0, 0),\n",
       "  'ADDRESS': 'Hamburger Straße 115 Rostock',\n",
       "  'PAIR': 'Rostocker Straßenbahn AG with Stadtwerke Rostock'},\n",
       " {'_id': ObjectId('5ef090cf453b897d273c29d8'),\n",
       "  'YEAR': 2010,\n",
       "  'CAE_NAME': 'Loire Habitat',\n",
       "  'CAE_ADDRESS': '30 rue Palluat de Besset - BP 540',\n",
       "  'CAE_TOWN': 'Saint-Étienne',\n",
       "  'ISO_COUNTRY_CODE': 'FR',\n",
       "  'VALUE_EURO': 49507.5,\n",
       "  'B_EU_FUNDS': 'N',\n",
       "  'WIN_NAME': 'Antargaz',\n",
       "  'NUMBER_OFFERS': 3,\n",
       "  'nCPV': 9122000,\n",
       "  'CPV': '9122000',\n",
       "  'DT_DISPATCH': datetime.datetime(2009, 12, 31, 0, 0),\n",
       "  'DT_AWARD': datetime.datetime(2009, 11, 18, 0, 0),\n",
       "  'ADDRESS': '30 rue Palluat de Besset - BP 540 Saint-Étienne',\n",
       "  'PAIR': 'Loire Habitat with Antargaz'},\n",
       " {'_id': ObjectId('5ef090cf453b897d273c29ed'),\n",
       "  'YEAR': 2011,\n",
       "  'CAE_NAME': 'Marienverein e.V. (Bauherr/Auftraggeber)',\n",
       "  'CAE_ADDRESS': 'Franz-Ludwig-Str. 18',\n",
       "  'CAE_TOWN': 'Würzburg',\n",
       "  'ISO_COUNTRY_CODE': 'DE',\n",
       "  'VALUE_EURO': 174747.2,\n",
       "  'B_EU_FUNDS': 'N',\n",
       "  'WIN_NAME': 'Lummel GmbH & CO. KG',\n",
       "  'NUMBER_OFFERS': 3,\n",
       "  'AWARD_VALUE_EURO': 174747.2,\n",
       "  'CPV': None,\n",
       "  'DT_DISPATCH': datetime.datetime(2010, 12, 27, 0, 0),\n",
       "  'DT_AWARD': datetime.datetime(2010, 6, 15, 0, 0),\n",
       "  'ADDRESS': 'Franz-Ludwig-Str. 18 Würzburg',\n",
       "  'PAIR': 'Marienverein e.V. (Bauherr/Auftraggeber) with Lummel GmbH & CO. KG'},\n",
       " {'_id': ObjectId('5ef090cf453b897d273c29ee'),\n",
       "  'YEAR': 2011,\n",
       "  'CAE_NAME': 'Marienverein e.V. (Bauherr/Auftraggeber)',\n",
       "  'CAE_ADDRESS': 'Franz-Ludwig-Str. 18',\n",
       "  'CAE_TOWN': 'Würzburg',\n",
       "  'ISO_COUNTRY_CODE': 'DE',\n",
       "  'VALUE_EURO': 17616.62,\n",
       "  'B_EU_FUNDS': 'N',\n",
       "  'WIN_NAME': 'Römhilder Werkstätten GmbH',\n",
       "  'NUMBER_OFFERS': 18,\n",
       "  'AWARD_VALUE_EURO': 17616.62,\n",
       "  'CPV': None,\n",
       "  'DT_DISPATCH': datetime.datetime(2010, 12, 27, 0, 0),\n",
       "  'DT_AWARD': datetime.datetime(2010, 11, 4, 0, 0),\n",
       "  'ADDRESS': 'Franz-Ludwig-Str. 18 Würzburg',\n",
       "  'PAIR': 'Marienverein e.V. (Bauherr/Auftraggeber) with Römhilder Werkstätten GmbH'},\n",
       " {'_id': ObjectId('5ef090cf453b897d273c29fd'),\n",
       "  'YEAR': 2011,\n",
       "  'CAE_NAME': 'Vojenské lesy a statky ČR, s.p.',\n",
       "  'CAE_ADDRESS': 'Pod Juliskou 5',\n",
       "  'CAE_TOWN': 'Praha 6',\n",
       "  'ISO_COUNTRY_CODE': 'CZ',\n",
       "  'VALUE_EURO': 3795656.77,\n",
       "  'B_EU_FUNDS': 'N',\n",
       "  'WIN_NAME': 'OMV Česká republika, s.r.o.',\n",
       "  'NUMBER_OFFERS': 2,\n",
       "  'AWARD_VALUE_EURO': 1194082.96,\n",
       "  'nCPV': 9134220,\n",
       "  'CPV': '9134220',\n",
       "  'DT_DISPATCH': datetime.datetime(2010, 12, 28, 0, 0),\n",
       "  'DT_AWARD': datetime.datetime(2010, 12, 27, 0, 0),\n",
       "  'ADDRESS': 'Pod Juliskou 5 Praha 6',\n",
       "  'PAIR': 'Vojenské lesy a statky ČR, s.p. with OMV Česká republika, s.r.o.'}]"
      ]
     },
     "execution_count": 61,
     "metadata": {},
     "output_type": "execute_result"
    }
   ],
   "source": [
    "list(db.eu_2.find({'$expr':{'$lt':['$nCPV',10000000]}}).limit(5))"
   ]
  },
  {
   "cell_type": "code",
   "execution_count": 62,
   "metadata": {},
   "outputs": [
    {
     "data": {
      "text/plain": [
       "<pymongo.results.UpdateResult at 0x2ce15b05508>"
      ]
     },
     "execution_count": 62,
     "metadata": {},
     "output_type": "execute_result"
    }
   ],
   "source": [
    "db.eu_2.update_many({'$expr':{'$lt':['$nCPV',10000000]}},[{'$set':{'CPV':{'$concat':['0','$CPV']}}}])"
   ]
  },
  {
   "cell_type": "code",
   "execution_count": 63,
   "metadata": {
    "scrolled": true
   },
   "outputs": [
    {
     "data": {
      "text/plain": [
       "[{'_id': ObjectId('5ef090cf453b897d273c296b'),\n",
       "  'YEAR': 2009,\n",
       "  'CAE_NAME': 'Rostocker Straßenbahn AG',\n",
       "  'CAE_ADDRESS': 'Hamburger Straße 115',\n",
       "  'CAE_TOWN': 'Rostock',\n",
       "  'ISO_COUNTRY_CODE': 'DE',\n",
       "  'VALUE_EURO': 1785291.8,\n",
       "  'B_EU_FUNDS': 'N',\n",
       "  'WIN_NAME': 'Stadtwerke Rostock',\n",
       "  'NUMBER_OFFERS': 2,\n",
       "  'nCPV': 9310000,\n",
       "  'CPV': '09310000',\n",
       "  'DT_DISPATCH': datetime.datetime(2008, 12, 30, 0, 0),\n",
       "  'DT_AWARD': datetime.datetime(2008, 12, 12, 0, 0),\n",
       "  'ADDRESS': 'Hamburger Straße 115 Rostock',\n",
       "  'PAIR': 'Rostocker Straßenbahn AG with Stadtwerke Rostock'},\n",
       " {'_id': ObjectId('5ef090cf453b897d273c29d8'),\n",
       "  'YEAR': 2010,\n",
       "  'CAE_NAME': 'Loire Habitat',\n",
       "  'CAE_ADDRESS': '30 rue Palluat de Besset - BP 540',\n",
       "  'CAE_TOWN': 'Saint-Étienne',\n",
       "  'ISO_COUNTRY_CODE': 'FR',\n",
       "  'VALUE_EURO': 49507.5,\n",
       "  'B_EU_FUNDS': 'N',\n",
       "  'WIN_NAME': 'Antargaz',\n",
       "  'NUMBER_OFFERS': 3,\n",
       "  'nCPV': 9122000,\n",
       "  'CPV': '09122000',\n",
       "  'DT_DISPATCH': datetime.datetime(2009, 12, 31, 0, 0),\n",
       "  'DT_AWARD': datetime.datetime(2009, 11, 18, 0, 0),\n",
       "  'ADDRESS': '30 rue Palluat de Besset - BP 540 Saint-Étienne',\n",
       "  'PAIR': 'Loire Habitat with Antargaz'},\n",
       " {'_id': ObjectId('5ef090cf453b897d273c29ed'),\n",
       "  'YEAR': 2011,\n",
       "  'CAE_NAME': 'Marienverein e.V. (Bauherr/Auftraggeber)',\n",
       "  'CAE_ADDRESS': 'Franz-Ludwig-Str. 18',\n",
       "  'CAE_TOWN': 'Würzburg',\n",
       "  'ISO_COUNTRY_CODE': 'DE',\n",
       "  'VALUE_EURO': 174747.2,\n",
       "  'B_EU_FUNDS': 'N',\n",
       "  'WIN_NAME': 'Lummel GmbH & CO. KG',\n",
       "  'NUMBER_OFFERS': 3,\n",
       "  'AWARD_VALUE_EURO': 174747.2,\n",
       "  'CPV': None,\n",
       "  'DT_DISPATCH': datetime.datetime(2010, 12, 27, 0, 0),\n",
       "  'DT_AWARD': datetime.datetime(2010, 6, 15, 0, 0),\n",
       "  'ADDRESS': 'Franz-Ludwig-Str. 18 Würzburg',\n",
       "  'PAIR': 'Marienverein e.V. (Bauherr/Auftraggeber) with Lummel GmbH & CO. KG'},\n",
       " {'_id': ObjectId('5ef090cf453b897d273c29ee'),\n",
       "  'YEAR': 2011,\n",
       "  'CAE_NAME': 'Marienverein e.V. (Bauherr/Auftraggeber)',\n",
       "  'CAE_ADDRESS': 'Franz-Ludwig-Str. 18',\n",
       "  'CAE_TOWN': 'Würzburg',\n",
       "  'ISO_COUNTRY_CODE': 'DE',\n",
       "  'VALUE_EURO': 17616.62,\n",
       "  'B_EU_FUNDS': 'N',\n",
       "  'WIN_NAME': 'Römhilder Werkstätten GmbH',\n",
       "  'NUMBER_OFFERS': 18,\n",
       "  'AWARD_VALUE_EURO': 17616.62,\n",
       "  'CPV': None,\n",
       "  'DT_DISPATCH': datetime.datetime(2010, 12, 27, 0, 0),\n",
       "  'DT_AWARD': datetime.datetime(2010, 11, 4, 0, 0),\n",
       "  'ADDRESS': 'Franz-Ludwig-Str. 18 Würzburg',\n",
       "  'PAIR': 'Marienverein e.V. (Bauherr/Auftraggeber) with Römhilder Werkstätten GmbH'},\n",
       " {'_id': ObjectId('5ef090cf453b897d273c29fd'),\n",
       "  'YEAR': 2011,\n",
       "  'CAE_NAME': 'Vojenské lesy a statky ČR, s.p.',\n",
       "  'CAE_ADDRESS': 'Pod Juliskou 5',\n",
       "  'CAE_TOWN': 'Praha 6',\n",
       "  'ISO_COUNTRY_CODE': 'CZ',\n",
       "  'VALUE_EURO': 3795656.77,\n",
       "  'B_EU_FUNDS': 'N',\n",
       "  'WIN_NAME': 'OMV Česká republika, s.r.o.',\n",
       "  'NUMBER_OFFERS': 2,\n",
       "  'AWARD_VALUE_EURO': 1194082.96,\n",
       "  'nCPV': 9134220,\n",
       "  'CPV': '09134220',\n",
       "  'DT_DISPATCH': datetime.datetime(2010, 12, 28, 0, 0),\n",
       "  'DT_AWARD': datetime.datetime(2010, 12, 27, 0, 0),\n",
       "  'ADDRESS': 'Pod Juliskou 5 Praha 6',\n",
       "  'PAIR': 'Vojenské lesy a statky ČR, s.p. with OMV Česká republika, s.r.o.'}]"
      ]
     },
     "execution_count": 63,
     "metadata": {},
     "output_type": "execute_result"
    }
   ],
   "source": [
    "list(db.eu_2.find({'$expr':{'$lt':['$nCPV',10000000]}}).limit(5))"
   ]
  },
  {
   "cell_type": "code",
   "execution_count": 64,
   "metadata": {},
   "outputs": [
    {
     "data": {
      "text/plain": [
       "<pymongo.results.UpdateResult at 0x2cc4c7e2f48>"
      ]
     },
     "execution_count": 64,
     "metadata": {},
     "output_type": "execute_result"
    }
   ],
   "source": [
    "db.eu_2.update_many({},[{'$set':{'CPV_DIVISION':{'$substr':['$CPV',0,2]}}}])"
   ]
  },
  {
   "cell_type": "code",
   "execution_count": 65,
   "metadata": {},
   "outputs": [
    {
     "data": {
      "text/plain": [
       "{'_id': ObjectId('5ef090cf453b897d273c291a'),\n",
       " 'YEAR': 2015,\n",
       " 'CAE_NAME': 'European Union Agency for Law Enforcement Training (CEPOL)',\n",
       " 'CAE_ADDRESS': 'Ó utca 27.',\n",
       " 'CAE_TOWN': 'Budapest',\n",
       " 'ISO_COUNTRY_CODE': 'HU',\n",
       " 'VALUE_EURO': 400000,\n",
       " 'B_EU_FUNDS': 'N',\n",
       " 'WIN_NAME': 'Manpower Munkaerő-Szervezési Kft',\n",
       " 'NUMBER_OFFERS': 1,\n",
       " 'AWARD_VALUE_EURO': 400000,\n",
       " 'nCPV': 79620000,\n",
       " 'CPV': '79620000',\n",
       " 'DT_DISPATCH': datetime.datetime(2014, 12, 23, 0, 0),\n",
       " 'DT_AWARD': datetime.datetime(2014, 11, 20, 0, 0),\n",
       " 'ADDRESS': 'Ó utca 27. Budapest',\n",
       " 'PAIR': 'European Union Agency for Law Enforcement Training (CEPOL) with Manpower Munkaerő-Szervezési Kft',\n",
       " 'CPV_DIVISION': '79'}"
      ]
     },
     "execution_count": 65,
     "metadata": {},
     "output_type": "execute_result"
    }
   ],
   "source": [
    "db.eu_2.find_one()"
   ]
  },
  {
   "cell_type": "code",
   "execution_count": 55,
   "metadata": {},
   "outputs": [],
   "source": [
    "def lookup_and_project():\n",
    "    lookup_cpv = {\n",
    "        '$lookup':{\n",
    "            'from':'cpv',\n",
    "            'localField':'CPV',\n",
    "            'foreignField':'cpv',\n",
    "            'as':'CPV'\n",
    "        }\n",
    "    }\n",
    "    \n",
    "    lookup_country = {\n",
    "        '$lookup':{\n",
    "            'from':'iso_codes',\n",
    "            'localField':'ISO_COUNTRY_CODE',\n",
    "            'foreignField':'alpha-2',\n",
    "            'as':'COUNTRY'\n",
    "        }\n",
    "    }\n",
    "    \n",
    "    project = {\n",
    "        '$project':{\n",
    "            '_id':False,\n",
    "            'VALUE_EURO':True,\n",
    "            'NUMBER_OFFERS':True,\n",
    "            'ISO_COUNTRY_CODE':True,\n",
    "            'YEAR':True,\n",
    "            'AWARD_VALUE_EURO':True,\n",
    "            'DT_DISPATCH':True,\n",
    "            'DT_AWARD':True,\n",
    "            'B_EU_FUNDS':True,\n",
    "            'CAE_NAME':True,\n",
    "            'CAE_ADDRESS':True,\n",
    "            'CAE_TOWN':True,\n",
    "            'CPV':{ \"$arrayElemAt\": [ \"$CPV\", 0] },\n",
    "            'COUNTRY':{ \"$arrayElemAt\": [ \"$COUNTRY\", 0] }\n",
    "        }\n",
    "    }\n",
    "    \n",
    "    project_2 = {\n",
    "        '$project':{\n",
    "            '_id':False,\n",
    "            'VALUE_EURO':True,\n",
    "            'NUMBER_OFFERS':True,\n",
    "            'ISO_COUNTRY_CODE':True,\n",
    "            'YEAR':True,\n",
    "            'AWARD_VALUE_EURO':True,\n",
    "            'DT_DISPATCH':True,\n",
    "            'DT_AWARD':True,\n",
    "            'B_EU_FUNDS':True,\n",
    "            'CAE_NAME':True,\n",
    "            'CAE_ADDRESS':True,\n",
    "            'CAE_TOWN':True,\n",
    "            'CPV':'$CPV.cpv',\n",
    "            'CPV_DIVISION':'$CPV.cpv_division',\n",
    "            'CPV_DESC':'$CPV.cpv_division_description',\n",
    "            'ISO_COUNTRY_CODE':'$COUNTRY.alpha-2',\n",
    "            'COUNTRY_NAME':'$COUNTRY.name'\n",
    "        }\n",
    "    }\n",
    "    \n",
    "    pipeline = [lookup_cpv,lookup_country,project,project_2]\n",
    "    \n",
    "    list_documents = list(db.eu_2.aggregate(pipeline))\n",
    "    \n",
    "    return list_documents"
   ]
  },
  {
   "cell_type": "code",
   "execution_count": 56,
   "metadata": {},
   "outputs": [
    {
     "ename": "KeyboardInterrupt",
     "evalue": "",
     "output_type": "error",
     "traceback": [
      "\u001b[1;31m---------------------------------------------------------------------------\u001b[0m",
      "\u001b[1;31mKeyboardInterrupt\u001b[0m                         Traceback (most recent call last)",
      "\u001b[1;32m<ipython-input-56-5a3adc358cdd>\u001b[0m in \u001b[0;36m<module>\u001b[1;34m\u001b[0m\n\u001b[1;32m----> 1\u001b[1;33m \u001b[0mdb\u001b[0m\u001b[1;33m.\u001b[0m\u001b[0meu_3\u001b[0m\u001b[1;33m.\u001b[0m\u001b[0minsert_many\u001b[0m\u001b[1;33m(\u001b[0m\u001b[0mlookup_and_project\u001b[0m\u001b[1;33m(\u001b[0m\u001b[1;33m)\u001b[0m\u001b[1;33m)\u001b[0m\u001b[1;33m\u001b[0m\u001b[1;33m\u001b[0m\u001b[0m\n\u001b[0m",
      "\u001b[1;32m<ipython-input-55-e28f7e071aa0>\u001b[0m in \u001b[0;36mlookup_and_project\u001b[1;34m()\u001b[0m\n\u001b[0;32m     61\u001b[0m     \u001b[0mpipeline\u001b[0m \u001b[1;33m=\u001b[0m \u001b[1;33m[\u001b[0m\u001b[0mlookup_cpv\u001b[0m\u001b[1;33m,\u001b[0m\u001b[0mlookup_country\u001b[0m\u001b[1;33m,\u001b[0m\u001b[0mproject\u001b[0m\u001b[1;33m,\u001b[0m\u001b[0mproject_2\u001b[0m\u001b[1;33m]\u001b[0m\u001b[1;33m\u001b[0m\u001b[1;33m\u001b[0m\u001b[0m\n\u001b[0;32m     62\u001b[0m \u001b[1;33m\u001b[0m\u001b[0m\n\u001b[1;32m---> 63\u001b[1;33m     \u001b[0mlist_documents\u001b[0m \u001b[1;33m=\u001b[0m \u001b[0mlist\u001b[0m\u001b[1;33m(\u001b[0m\u001b[0mdb\u001b[0m\u001b[1;33m.\u001b[0m\u001b[0meu_2\u001b[0m\u001b[1;33m.\u001b[0m\u001b[0maggregate\u001b[0m\u001b[1;33m(\u001b[0m\u001b[0mpipeline\u001b[0m\u001b[1;33m)\u001b[0m\u001b[1;33m)\u001b[0m\u001b[1;33m\u001b[0m\u001b[1;33m\u001b[0m\u001b[0m\n\u001b[0m\u001b[0;32m     64\u001b[0m \u001b[1;33m\u001b[0m\u001b[0m\n\u001b[0;32m     65\u001b[0m     \u001b[1;32mreturn\u001b[0m \u001b[0mlist_documents\u001b[0m\u001b[1;33m\u001b[0m\u001b[1;33m\u001b[0m\u001b[0m\n",
      "\u001b[1;32m~\\anaconda3\\envs\\Big Data Modelling\\lib\\site-packages\\pymongo\\command_cursor.py\u001b[0m in \u001b[0;36mnext\u001b[1;34m(self)\u001b[0m\n\u001b[0;32m    257\u001b[0m         \u001b[1;31m# Block until a document is returnable.\u001b[0m\u001b[1;33m\u001b[0m\u001b[1;33m\u001b[0m\u001b[1;33m\u001b[0m\u001b[0m\n\u001b[0;32m    258\u001b[0m         \u001b[1;32mwhile\u001b[0m \u001b[0mself\u001b[0m\u001b[1;33m.\u001b[0m\u001b[0malive\u001b[0m\u001b[1;33m:\u001b[0m\u001b[1;33m\u001b[0m\u001b[1;33m\u001b[0m\u001b[0m\n\u001b[1;32m--> 259\u001b[1;33m             \u001b[0mdoc\u001b[0m \u001b[1;33m=\u001b[0m \u001b[0mself\u001b[0m\u001b[1;33m.\u001b[0m\u001b[0m_try_next\u001b[0m\u001b[1;33m(\u001b[0m\u001b[1;32mTrue\u001b[0m\u001b[1;33m)\u001b[0m\u001b[1;33m\u001b[0m\u001b[1;33m\u001b[0m\u001b[0m\n\u001b[0m\u001b[0;32m    260\u001b[0m             \u001b[1;32mif\u001b[0m \u001b[0mdoc\u001b[0m \u001b[1;32mis\u001b[0m \u001b[1;32mnot\u001b[0m \u001b[1;32mNone\u001b[0m\u001b[1;33m:\u001b[0m\u001b[1;33m\u001b[0m\u001b[1;33m\u001b[0m\u001b[0m\n\u001b[0;32m    261\u001b[0m                 \u001b[1;32mreturn\u001b[0m \u001b[0mdoc\u001b[0m\u001b[1;33m\u001b[0m\u001b[1;33m\u001b[0m\u001b[0m\n",
      "\u001b[1;32m~\\anaconda3\\envs\\Big Data Modelling\\lib\\site-packages\\pymongo\\command_cursor.py\u001b[0m in \u001b[0;36m_try_next\u001b[1;34m(self, get_more_allowed)\u001b[0m\n\u001b[0;32m    268\u001b[0m         \u001b[1;34m\"\"\"Advance the cursor blocking for at most one getMore command.\"\"\"\u001b[0m\u001b[1;33m\u001b[0m\u001b[1;33m\u001b[0m\u001b[0m\n\u001b[0;32m    269\u001b[0m         \u001b[1;32mif\u001b[0m \u001b[1;32mnot\u001b[0m \u001b[0mlen\u001b[0m\u001b[1;33m(\u001b[0m\u001b[0mself\u001b[0m\u001b[1;33m.\u001b[0m\u001b[0m__data\u001b[0m\u001b[1;33m)\u001b[0m \u001b[1;32mand\u001b[0m \u001b[1;32mnot\u001b[0m \u001b[0mself\u001b[0m\u001b[1;33m.\u001b[0m\u001b[0m__killed\u001b[0m \u001b[1;32mand\u001b[0m \u001b[0mget_more_allowed\u001b[0m\u001b[1;33m:\u001b[0m\u001b[1;33m\u001b[0m\u001b[1;33m\u001b[0m\u001b[0m\n\u001b[1;32m--> 270\u001b[1;33m             \u001b[0mself\u001b[0m\u001b[1;33m.\u001b[0m\u001b[0m_refresh\u001b[0m\u001b[1;33m(\u001b[0m\u001b[1;33m)\u001b[0m\u001b[1;33m\u001b[0m\u001b[1;33m\u001b[0m\u001b[0m\n\u001b[0m\u001b[0;32m    271\u001b[0m         \u001b[1;32mif\u001b[0m \u001b[0mlen\u001b[0m\u001b[1;33m(\u001b[0m\u001b[0mself\u001b[0m\u001b[1;33m.\u001b[0m\u001b[0m__data\u001b[0m\u001b[1;33m)\u001b[0m\u001b[1;33m:\u001b[0m\u001b[1;33m\u001b[0m\u001b[1;33m\u001b[0m\u001b[0m\n\u001b[0;32m    272\u001b[0m             \u001b[0mcoll\u001b[0m \u001b[1;33m=\u001b[0m \u001b[0mself\u001b[0m\u001b[1;33m.\u001b[0m\u001b[0m__collection\u001b[0m\u001b[1;33m\u001b[0m\u001b[1;33m\u001b[0m\u001b[0m\n",
      "\u001b[1;32m~\\anaconda3\\envs\\Big Data Modelling\\lib\\site-packages\\pymongo\\command_cursor.py\u001b[0m in \u001b[0;36m_refresh\u001b[1;34m(self)\u001b[0m\n\u001b[0;32m    204\u001b[0m                                     \u001b[0mself\u001b[0m\u001b[1;33m.\u001b[0m\u001b[0m__collection\u001b[0m\u001b[1;33m.\u001b[0m\u001b[0mdatabase\u001b[0m\u001b[1;33m.\u001b[0m\u001b[0mclient\u001b[0m\u001b[1;33m,\u001b[0m\u001b[1;33m\u001b[0m\u001b[1;33m\u001b[0m\u001b[0m\n\u001b[0;32m    205\u001b[0m                                     \u001b[0mself\u001b[0m\u001b[1;33m.\u001b[0m\u001b[0m__max_await_time_ms\u001b[0m\u001b[1;33m,\u001b[0m\u001b[1;33m\u001b[0m\u001b[1;33m\u001b[0m\u001b[0m\n\u001b[1;32m--> 206\u001b[1;33m                                     False))\n\u001b[0m\u001b[0;32m    207\u001b[0m         \u001b[1;32melse\u001b[0m\u001b[1;33m:\u001b[0m  \u001b[1;31m# Cursor id is zero nothing else to return\u001b[0m\u001b[1;33m\u001b[0m\u001b[1;33m\u001b[0m\u001b[0m\n\u001b[0;32m    208\u001b[0m             \u001b[0mself\u001b[0m\u001b[1;33m.\u001b[0m\u001b[0m__killed\u001b[0m \u001b[1;33m=\u001b[0m \u001b[1;32mTrue\u001b[0m\u001b[1;33m\u001b[0m\u001b[1;33m\u001b[0m\u001b[0m\n",
      "\u001b[1;32m~\\anaconda3\\envs\\Big Data Modelling\\lib\\site-packages\\pymongo\\command_cursor.py\u001b[0m in \u001b[0;36m__send_message\u001b[1;34m(self, operation)\u001b[0m\n\u001b[0;32m    138\u001b[0m         \u001b[1;32mtry\u001b[0m\u001b[1;33m:\u001b[0m\u001b[1;33m\u001b[0m\u001b[1;33m\u001b[0m\u001b[0m\n\u001b[0;32m    139\u001b[0m             response = client._run_operation_with_response(\n\u001b[1;32m--> 140\u001b[1;33m                 operation, self._unpack_response, address=self.__address)\n\u001b[0m\u001b[0;32m    141\u001b[0m         \u001b[1;32mexcept\u001b[0m \u001b[0mOperationFailure\u001b[0m\u001b[1;33m:\u001b[0m\u001b[1;33m\u001b[0m\u001b[1;33m\u001b[0m\u001b[0m\n\u001b[0;32m    142\u001b[0m             \u001b[0mkill\u001b[0m\u001b[1;33m(\u001b[0m\u001b[1;33m)\u001b[0m\u001b[1;33m\u001b[0m\u001b[1;33m\u001b[0m\u001b[0m\n",
      "\u001b[1;32m~\\anaconda3\\envs\\Big Data Modelling\\lib\\site-packages\\pymongo\\mongo_client.py\u001b[0m in \u001b[0;36m_run_operation_with_response\u001b[1;34m(self, operation, unpack_res, exhaust, address)\u001b[0m\n\u001b[0;32m   1344\u001b[0m             \u001b[0maddress\u001b[0m\u001b[1;33m=\u001b[0m\u001b[0maddress\u001b[0m\u001b[1;33m,\u001b[0m\u001b[1;33m\u001b[0m\u001b[1;33m\u001b[0m\u001b[0m\n\u001b[0;32m   1345\u001b[0m             \u001b[0mretryable\u001b[0m\u001b[1;33m=\u001b[0m\u001b[0misinstance\u001b[0m\u001b[1;33m(\u001b[0m\u001b[0moperation\u001b[0m\u001b[1;33m,\u001b[0m \u001b[0mmessage\u001b[0m\u001b[1;33m.\u001b[0m\u001b[0m_Query\u001b[0m\u001b[1;33m)\u001b[0m\u001b[1;33m,\u001b[0m\u001b[1;33m\u001b[0m\u001b[1;33m\u001b[0m\u001b[0m\n\u001b[1;32m-> 1346\u001b[1;33m             exhaust=exhaust)\n\u001b[0m\u001b[0;32m   1347\u001b[0m \u001b[1;33m\u001b[0m\u001b[0m\n\u001b[0;32m   1348\u001b[0m     \u001b[1;32mdef\u001b[0m \u001b[0m_retry_with_session\u001b[0m\u001b[1;33m(\u001b[0m\u001b[0mself\u001b[0m\u001b[1;33m,\u001b[0m \u001b[0mretryable\u001b[0m\u001b[1;33m,\u001b[0m \u001b[0mfunc\u001b[0m\u001b[1;33m,\u001b[0m \u001b[0msession\u001b[0m\u001b[1;33m,\u001b[0m \u001b[0mbulk\u001b[0m\u001b[1;33m)\u001b[0m\u001b[1;33m:\u001b[0m\u001b[1;33m\u001b[0m\u001b[1;33m\u001b[0m\u001b[0m\n",
      "\u001b[1;32m~\\anaconda3\\envs\\Big Data Modelling\\lib\\site-packages\\pymongo\\mongo_client.py\u001b[0m in \u001b[0;36m_retryable_read\u001b[1;34m(self, func, read_pref, session, address, retryable, exhaust)\u001b[0m\n\u001b[0;32m   1462\u001b[0m                         \u001b[1;31m# not support retryable reads, raise the last error.\u001b[0m\u001b[1;33m\u001b[0m\u001b[1;33m\u001b[0m\u001b[1;33m\u001b[0m\u001b[0m\n\u001b[0;32m   1463\u001b[0m                         \u001b[1;32mraise\u001b[0m \u001b[0mlast_error\u001b[0m\u001b[1;33m\u001b[0m\u001b[1;33m\u001b[0m\u001b[0m\n\u001b[1;32m-> 1464\u001b[1;33m                     \u001b[1;32mreturn\u001b[0m \u001b[0mfunc\u001b[0m\u001b[1;33m(\u001b[0m\u001b[0msession\u001b[0m\u001b[1;33m,\u001b[0m \u001b[0mserver\u001b[0m\u001b[1;33m,\u001b[0m \u001b[0msock_info\u001b[0m\u001b[1;33m,\u001b[0m \u001b[0mslave_ok\u001b[0m\u001b[1;33m)\u001b[0m\u001b[1;33m\u001b[0m\u001b[1;33m\u001b[0m\u001b[0m\n\u001b[0m\u001b[0;32m   1465\u001b[0m             \u001b[1;32mexcept\u001b[0m \u001b[0mServerSelectionTimeoutError\u001b[0m\u001b[1;33m:\u001b[0m\u001b[1;33m\u001b[0m\u001b[1;33m\u001b[0m\u001b[0m\n\u001b[0;32m   1466\u001b[0m                 \u001b[1;32mif\u001b[0m \u001b[0mretrying\u001b[0m\u001b[1;33m:\u001b[0m\u001b[1;33m\u001b[0m\u001b[1;33m\u001b[0m\u001b[0m\n",
      "\u001b[1;32m~\\anaconda3\\envs\\Big Data Modelling\\lib\\site-packages\\pymongo\\mongo_client.py\u001b[0m in \u001b[0;36m_cmd\u001b[1;34m(session, server, sock_info, slave_ok)\u001b[0m\n\u001b[0;32m   1338\u001b[0m                 \u001b[0mself\u001b[0m\u001b[1;33m.\u001b[0m\u001b[0m_event_listeners\u001b[0m\u001b[1;33m,\u001b[0m\u001b[1;33m\u001b[0m\u001b[1;33m\u001b[0m\u001b[0m\n\u001b[0;32m   1339\u001b[0m                 \u001b[0mexhaust\u001b[0m\u001b[1;33m,\u001b[0m\u001b[1;33m\u001b[0m\u001b[1;33m\u001b[0m\u001b[0m\n\u001b[1;32m-> 1340\u001b[1;33m                 unpack_res)\n\u001b[0m\u001b[0;32m   1341\u001b[0m \u001b[1;33m\u001b[0m\u001b[0m\n\u001b[0;32m   1342\u001b[0m         return self._retryable_read(\n",
      "\u001b[1;32m~\\anaconda3\\envs\\Big Data Modelling\\lib\\site-packages\\pymongo\\server.py\u001b[0m in \u001b[0;36mrun_operation_with_response\u001b[1;34m(self, sock_info, operation, set_slave_okay, listeners, exhaust, unpack_res)\u001b[0m\n\u001b[0;32m    115\u001b[0m             \u001b[1;32mif\u001b[0m \u001b[0msend_message\u001b[0m\u001b[1;33m:\u001b[0m\u001b[1;33m\u001b[0m\u001b[1;33m\u001b[0m\u001b[0m\n\u001b[0;32m    116\u001b[0m                 \u001b[0msock_info\u001b[0m\u001b[1;33m.\u001b[0m\u001b[0msend_message\u001b[0m\u001b[1;33m(\u001b[0m\u001b[0mdata\u001b[0m\u001b[1;33m,\u001b[0m \u001b[0mmax_doc_size\u001b[0m\u001b[1;33m)\u001b[0m\u001b[1;33m\u001b[0m\u001b[1;33m\u001b[0m\u001b[0m\n\u001b[1;32m--> 117\u001b[1;33m                 \u001b[0mreply\u001b[0m \u001b[1;33m=\u001b[0m \u001b[0msock_info\u001b[0m\u001b[1;33m.\u001b[0m\u001b[0mreceive_message\u001b[0m\u001b[1;33m(\u001b[0m\u001b[0mrequest_id\u001b[0m\u001b[1;33m)\u001b[0m\u001b[1;33m\u001b[0m\u001b[1;33m\u001b[0m\u001b[0m\n\u001b[0m\u001b[0;32m    118\u001b[0m             \u001b[1;32melse\u001b[0m\u001b[1;33m:\u001b[0m\u001b[1;33m\u001b[0m\u001b[1;33m\u001b[0m\u001b[0m\n\u001b[0;32m    119\u001b[0m                 \u001b[0mreply\u001b[0m \u001b[1;33m=\u001b[0m \u001b[0msock_info\u001b[0m\u001b[1;33m.\u001b[0m\u001b[0mreceive_message\u001b[0m\u001b[1;33m(\u001b[0m\u001b[1;32mNone\u001b[0m\u001b[1;33m)\u001b[0m\u001b[1;33m\u001b[0m\u001b[1;33m\u001b[0m\u001b[0m\n",
      "\u001b[1;32m~\\anaconda3\\envs\\Big Data Modelling\\lib\\site-packages\\pymongo\\pool.py\u001b[0m in \u001b[0;36mreceive_message\u001b[1;34m(self, request_id)\u001b[0m\n\u001b[0;32m    644\u001b[0m                                    self.max_message_size)\n\u001b[0;32m    645\u001b[0m         \u001b[1;32mexcept\u001b[0m \u001b[0mBaseException\u001b[0m \u001b[1;32mas\u001b[0m \u001b[0merror\u001b[0m\u001b[1;33m:\u001b[0m\u001b[1;33m\u001b[0m\u001b[1;33m\u001b[0m\u001b[0m\n\u001b[1;32m--> 646\u001b[1;33m             \u001b[0mself\u001b[0m\u001b[1;33m.\u001b[0m\u001b[0m_raise_connection_failure\u001b[0m\u001b[1;33m(\u001b[0m\u001b[0merror\u001b[0m\u001b[1;33m)\u001b[0m\u001b[1;33m\u001b[0m\u001b[1;33m\u001b[0m\u001b[0m\n\u001b[0m\u001b[0;32m    647\u001b[0m \u001b[1;33m\u001b[0m\u001b[0m\n\u001b[0;32m    648\u001b[0m     \u001b[1;32mdef\u001b[0m \u001b[0m_raise_if_not_writable\u001b[0m\u001b[1;33m(\u001b[0m\u001b[0mself\u001b[0m\u001b[1;33m,\u001b[0m \u001b[0munacknowledged\u001b[0m\u001b[1;33m)\u001b[0m\u001b[1;33m:\u001b[0m\u001b[1;33m\u001b[0m\u001b[1;33m\u001b[0m\u001b[0m\n",
      "\u001b[1;32m~\\anaconda3\\envs\\Big Data Modelling\\lib\\site-packages\\pymongo\\pool.py\u001b[0m in \u001b[0;36mreceive_message\u001b[1;34m(self, request_id)\u001b[0m\n\u001b[0;32m    642\u001b[0m         \u001b[1;32mtry\u001b[0m\u001b[1;33m:\u001b[0m\u001b[1;33m\u001b[0m\u001b[1;33m\u001b[0m\u001b[0m\n\u001b[0;32m    643\u001b[0m             return receive_message(self.sock, request_id,\n\u001b[1;32m--> 644\u001b[1;33m                                    self.max_message_size)\n\u001b[0m\u001b[0;32m    645\u001b[0m         \u001b[1;32mexcept\u001b[0m \u001b[0mBaseException\u001b[0m \u001b[1;32mas\u001b[0m \u001b[0merror\u001b[0m\u001b[1;33m:\u001b[0m\u001b[1;33m\u001b[0m\u001b[1;33m\u001b[0m\u001b[0m\n\u001b[0;32m    646\u001b[0m             \u001b[0mself\u001b[0m\u001b[1;33m.\u001b[0m\u001b[0m_raise_connection_failure\u001b[0m\u001b[1;33m(\u001b[0m\u001b[0merror\u001b[0m\u001b[1;33m)\u001b[0m\u001b[1;33m\u001b[0m\u001b[1;33m\u001b[0m\u001b[0m\n",
      "\u001b[1;32m~\\anaconda3\\envs\\Big Data Modelling\\lib\\site-packages\\pymongo\\network.py\u001b[0m in \u001b[0;36mreceive_message\u001b[1;34m(sock, request_id, max_message_size)\u001b[0m\n\u001b[0;32m    194\u001b[0m     \u001b[1;31m# Ignore the response's request id.\u001b[0m\u001b[1;33m\u001b[0m\u001b[1;33m\u001b[0m\u001b[1;33m\u001b[0m\u001b[0m\n\u001b[0;32m    195\u001b[0m     length, _, response_to, op_code = _UNPACK_HEADER(\n\u001b[1;32m--> 196\u001b[1;33m         _receive_data_on_socket(sock, 16))\n\u001b[0m\u001b[0;32m    197\u001b[0m     \u001b[1;31m# No request_id for exhaust cursor \"getMore\".\u001b[0m\u001b[1;33m\u001b[0m\u001b[1;33m\u001b[0m\u001b[1;33m\u001b[0m\u001b[0m\n\u001b[0;32m    198\u001b[0m     \u001b[1;32mif\u001b[0m \u001b[0mrequest_id\u001b[0m \u001b[1;32mis\u001b[0m \u001b[1;32mnot\u001b[0m \u001b[1;32mNone\u001b[0m\u001b[1;33m:\u001b[0m\u001b[1;33m\u001b[0m\u001b[1;33m\u001b[0m\u001b[0m\n",
      "\u001b[1;32m~\\anaconda3\\envs\\Big Data Modelling\\lib\\site-packages\\pymongo\\network.py\u001b[0m in \u001b[0;36m_receive_data_on_socket\u001b[1;34m(sock, length)\u001b[0m\n\u001b[0;32m    253\u001b[0m         \u001b[1;32mwhile\u001b[0m \u001b[0mbytes_read\u001b[0m \u001b[1;33m<\u001b[0m \u001b[0mlength\u001b[0m\u001b[1;33m:\u001b[0m\u001b[1;33m\u001b[0m\u001b[1;33m\u001b[0m\u001b[0m\n\u001b[0;32m    254\u001b[0m             \u001b[1;32mtry\u001b[0m\u001b[1;33m:\u001b[0m\u001b[1;33m\u001b[0m\u001b[1;33m\u001b[0m\u001b[0m\n\u001b[1;32m--> 255\u001b[1;33m                 \u001b[0mchunk_length\u001b[0m \u001b[1;33m=\u001b[0m \u001b[0msock\u001b[0m\u001b[1;33m.\u001b[0m\u001b[0mrecv_into\u001b[0m\u001b[1;33m(\u001b[0m\u001b[0mmv\u001b[0m\u001b[1;33m[\u001b[0m\u001b[0mbytes_read\u001b[0m\u001b[1;33m:\u001b[0m\u001b[1;33m]\u001b[0m\u001b[1;33m)\u001b[0m\u001b[1;33m\u001b[0m\u001b[1;33m\u001b[0m\u001b[0m\n\u001b[0m\u001b[0;32m    256\u001b[0m             \u001b[1;32mexcept\u001b[0m \u001b[1;33m(\u001b[0m\u001b[0mIOError\u001b[0m\u001b[1;33m,\u001b[0m \u001b[0mOSError\u001b[0m\u001b[1;33m)\u001b[0m \u001b[1;32mas\u001b[0m \u001b[0mexc\u001b[0m\u001b[1;33m:\u001b[0m\u001b[1;33m\u001b[0m\u001b[1;33m\u001b[0m\u001b[0m\n\u001b[0;32m    257\u001b[0m                 \u001b[1;32mif\u001b[0m \u001b[0m_errno_from_exception\u001b[0m\u001b[1;33m(\u001b[0m\u001b[0mexc\u001b[0m\u001b[1;33m)\u001b[0m \u001b[1;33m==\u001b[0m \u001b[0merrno\u001b[0m\u001b[1;33m.\u001b[0m\u001b[0mEINTR\u001b[0m\u001b[1;33m:\u001b[0m\u001b[1;33m\u001b[0m\u001b[1;33m\u001b[0m\u001b[0m\n",
      "\u001b[1;31mKeyboardInterrupt\u001b[0m: "
     ]
    }
   ],
   "source": [
    "db.eu_3.insert_many(lookup_and_project())"
   ]
  },
  {
   "cell_type": "code",
   "execution_count": 107,
   "metadata": {},
   "outputs": [],
   "source": [
    "document = {'ID_NOTICE_CAN': 20157,\n",
    "            'TED_NOTICE_URL': 'ted.europa.eu/udl?uri=TED:NOTICE:7-2015:TEXT:EN:HTML',\n",
    "            'YEAR': 2015,\n",
    "            'ID_TYPE': 3,\n",
    "            'DT_DISPATCH': '23-DEC-14',\n",
    "            'XSD_VERSION': 'R208.S2',\n",
    "            'CANCELLED': 0,\n",
    "            'CORRECTIONS': 0,\n",
    "            'CAE_NAME': 'European Union Agency for Law Enforcement Training (CEPOL)', \n",
    "            'CAE_ADDRESS': 'Ó utca 27.',\n",
    "            'CAE_TOWN': 'Budapest',\n",
    "            'CAE_POSTAL_CODE': 1066,\n",
    "            'CAE_GPA_ANNEX': 'A1EUN',\n",
    "            'ISO_COUNTRY_CODE': 'HU',\n",
    "            'ISO_COUNTRY_CODE_GPA': 'EU',\n",
    "            'CAE_TYPE': 5,\n",
    "            'EU_INST_CODE': 'AG',\n",
    "            'MAIN_ACTIVITY': 'Public Order and Safety',\n",
    "            'B_ON_BEHALF': 'N',\n",
    "            'TYPE_OF_CONTRACT': 'S',\n",
    "            'TAL_LOCATION_NUTS': 'HU101;HU102',\n",
    "            'B_FRA_AGREEMENT': 'Y',\n",
    "            'B_FRA_CONTRACT': 'Y',\n",
    "            'CPV': 7962000,\n",
    "            'MAIN_CPV_CODE_GPA': 796,\n",
    "            'ADDITIONAL_CPVS': '79621000---79612000---79610000---79600000---79611000',\n",
    "            'B_GPA': 'N',\n",
    "            'GPA_COVERAGE': 2,\n",
    "            'LOTS_NUMBER': 0,\n",
    "            'VALUE_EURO': 400000,\n",
    "            'VALUE_EURO_FIN_1': 400000,\n",
    "            'VALUE_EURO_FIN_2': 400000,\n",
    "            'B_EU_FUNDS': 'N',\n",
    "            'TOP_TYPE': 'OPE',\n",
    "            'OUT_OF_DIRECTIVES': 0,\n",
    "            'CRIT_CODE': 'L',\n",
    "            'CRIT_PRICE_WEIGHT': 100,\n",
    "            'B_ELECTRONIC_AUCTION': 'N',\n",
    "            'NUMBER_AWARDS': 1,\n",
    "            'ID_AWARD': 6630331,\n",
    "            'INFO_UNPUBLISHED': 'N',\n",
    "            'WIN_NAME': 'Manpower Munkaerő-Szervezési Kft',\n",
    "            'WIN_ADDRESS': 'Váci street 76.',\n",
    "            'WIN_TOWN': 'Budapest',\n",
    "            'WIN_POSTAL_CODE': 1133,\n",
    "            'WIN_COUNTRY_CODE': 'HU',\n",
    "            'CONTRACT_NUMBER': 'CEPOL/CT/2014/028',\n",
    "            'NUMBER_OFFERS': 1,\n",
    "            'AWARD_EST_VALUE_EURO': 400000,\n",
    "            'AWARD_VALUE_EURO': 400000,\n",
    "            'AWARD_VALUE_EURO_FIN_1': 400000,\n",
    "            'B_SUBCONTRACTED': 'N',\n",
    "            'DT_AWARD': '20-NOV-14',\n",
    "            'EQUAL_TOWN': True}"
   ]
  },
  {
   "cell_type": "code",
   "execution_count": 108,
   "metadata": {},
   "outputs": [],
   "source": [
    "insert = db.new.insert_many([document]).inserted_ids"
   ]
  },
  {
   "cell_type": "code",
   "execution_count": 109,
   "metadata": {},
   "outputs": [
    {
     "data": {
      "text/plain": [
       "<pymongo.results.UpdateResult at 0x2cc4c8aae88>"
      ]
     },
     "execution_count": 109,
     "metadata": {},
     "output_type": "execute_result"
    }
   ],
   "source": [
    "db.new.update_many(\n",
    "    {'_id':{'$in':insert}},\n",
    "    [{'$set':{\n",
    "        'nCPV':'$CPV',\n",
    "        'CPV':{'$toString':'$CPV'}\n",
    "    },}]\n",
    ")"
   ]
  },
  {
   "cell_type": "code",
   "execution_count": 110,
   "metadata": {
    "scrolled": true
   },
   "outputs": [
    {
     "data": {
      "text/plain": [
       "{'_id': ObjectId('5ef09f01453b897d276a905f'),\n",
       " 'ID_NOTICE_CAN': 20157,\n",
       " 'TED_NOTICE_URL': 'ted.europa.eu/udl?uri=TED:NOTICE:7-2015:TEXT:EN:HTML',\n",
       " 'YEAR': 2015,\n",
       " 'ID_TYPE': 3,\n",
       " 'DT_DISPATCH': '23-DEC-14',\n",
       " 'XSD_VERSION': 'R208.S2',\n",
       " 'CANCELLED': 0,\n",
       " 'CORRECTIONS': 0,\n",
       " 'CAE_NAME': 'European Union Agency for Law Enforcement Training (CEPOL)',\n",
       " 'CAE_ADDRESS': 'Ó utca 27.',\n",
       " 'CAE_TOWN': 'Budapest',\n",
       " 'CAE_POSTAL_CODE': 1066,\n",
       " 'CAE_GPA_ANNEX': 'A1EUN',\n",
       " 'ISO_COUNTRY_CODE': 'HU',\n",
       " 'ISO_COUNTRY_CODE_GPA': 'EU',\n",
       " 'CAE_TYPE': 5,\n",
       " 'EU_INST_CODE': 'AG',\n",
       " 'MAIN_ACTIVITY': 'Public Order and Safety',\n",
       " 'B_ON_BEHALF': 'N',\n",
       " 'TYPE_OF_CONTRACT': 'S',\n",
       " 'TAL_LOCATION_NUTS': 'HU101;HU102',\n",
       " 'B_FRA_AGREEMENT': 'Y',\n",
       " 'B_FRA_CONTRACT': 'Y',\n",
       " 'CPV': '7962000',\n",
       " 'MAIN_CPV_CODE_GPA': 796,\n",
       " 'ADDITIONAL_CPVS': '79621000---79612000---79610000---79600000---79611000',\n",
       " 'B_GPA': 'N',\n",
       " 'GPA_COVERAGE': 2,\n",
       " 'LOTS_NUMBER': 0,\n",
       " 'VALUE_EURO': 400000,\n",
       " 'VALUE_EURO_FIN_1': 400000,\n",
       " 'VALUE_EURO_FIN_2': 400000,\n",
       " 'B_EU_FUNDS': 'N',\n",
       " 'TOP_TYPE': 'OPE',\n",
       " 'OUT_OF_DIRECTIVES': 0,\n",
       " 'CRIT_CODE': 'L',\n",
       " 'CRIT_PRICE_WEIGHT': 100,\n",
       " 'B_ELECTRONIC_AUCTION': 'N',\n",
       " 'NUMBER_AWARDS': 1,\n",
       " 'ID_AWARD': 6630331,\n",
       " 'INFO_UNPUBLISHED': 'N',\n",
       " 'WIN_NAME': 'Manpower Munkaerő-Szervezési Kft',\n",
       " 'WIN_ADDRESS': 'Váci street 76.',\n",
       " 'WIN_TOWN': 'Budapest',\n",
       " 'WIN_POSTAL_CODE': 1133,\n",
       " 'WIN_COUNTRY_CODE': 'HU',\n",
       " 'CONTRACT_NUMBER': 'CEPOL/CT/2014/028',\n",
       " 'NUMBER_OFFERS': 1,\n",
       " 'AWARD_EST_VALUE_EURO': 400000,\n",
       " 'AWARD_VALUE_EURO': 400000,\n",
       " 'AWARD_VALUE_EURO_FIN_1': 400000,\n",
       " 'B_SUBCONTRACTED': 'N',\n",
       " 'DT_AWARD': '20-NOV-14',\n",
       " 'EQUAL_TOWN': True,\n",
       " 'nCPV': 7962000}"
      ]
     },
     "execution_count": 110,
     "metadata": {},
     "output_type": "execute_result"
    }
   ],
   "source": [
    "db.new.find_one()"
   ]
  },
  {
   "cell_type": "code",
   "execution_count": 111,
   "metadata": {},
   "outputs": [
    {
     "data": {
      "text/plain": [
       "<pymongo.results.UpdateResult at 0x2cc4c7fe248>"
      ]
     },
     "execution_count": 111,
     "metadata": {},
     "output_type": "execute_result"
    }
   ],
   "source": [
    "db.new.update_many(\n",
    "    {'_id':{'$in':insert},'$expr':{'$lt':['$nCPV',10000000]}},\n",
    "    [{'$set':{\n",
    "        'CPV':{'$concat':['0','$CPV']},\n",
    "    }}]\n",
    ")"
   ]
  },
  {
   "cell_type": "code",
   "execution_count": 112,
   "metadata": {
    "scrolled": true
   },
   "outputs": [
    {
     "data": {
      "text/plain": [
       "{'_id': ObjectId('5ef09f01453b897d276a905f'),\n",
       " 'ID_NOTICE_CAN': 20157,\n",
       " 'TED_NOTICE_URL': 'ted.europa.eu/udl?uri=TED:NOTICE:7-2015:TEXT:EN:HTML',\n",
       " 'YEAR': 2015,\n",
       " 'ID_TYPE': 3,\n",
       " 'DT_DISPATCH': '23-DEC-14',\n",
       " 'XSD_VERSION': 'R208.S2',\n",
       " 'CANCELLED': 0,\n",
       " 'CORRECTIONS': 0,\n",
       " 'CAE_NAME': 'European Union Agency for Law Enforcement Training (CEPOL)',\n",
       " 'CAE_ADDRESS': 'Ó utca 27.',\n",
       " 'CAE_TOWN': 'Budapest',\n",
       " 'CAE_POSTAL_CODE': 1066,\n",
       " 'CAE_GPA_ANNEX': 'A1EUN',\n",
       " 'ISO_COUNTRY_CODE': 'HU',\n",
       " 'ISO_COUNTRY_CODE_GPA': 'EU',\n",
       " 'CAE_TYPE': 5,\n",
       " 'EU_INST_CODE': 'AG',\n",
       " 'MAIN_ACTIVITY': 'Public Order and Safety',\n",
       " 'B_ON_BEHALF': 'N',\n",
       " 'TYPE_OF_CONTRACT': 'S',\n",
       " 'TAL_LOCATION_NUTS': 'HU101;HU102',\n",
       " 'B_FRA_AGREEMENT': 'Y',\n",
       " 'B_FRA_CONTRACT': 'Y',\n",
       " 'CPV': '07962000',\n",
       " 'MAIN_CPV_CODE_GPA': 796,\n",
       " 'ADDITIONAL_CPVS': '79621000---79612000---79610000---79600000---79611000',\n",
       " 'B_GPA': 'N',\n",
       " 'GPA_COVERAGE': 2,\n",
       " 'LOTS_NUMBER': 0,\n",
       " 'VALUE_EURO': 400000,\n",
       " 'VALUE_EURO_FIN_1': 400000,\n",
       " 'VALUE_EURO_FIN_2': 400000,\n",
       " 'B_EU_FUNDS': 'N',\n",
       " 'TOP_TYPE': 'OPE',\n",
       " 'OUT_OF_DIRECTIVES': 0,\n",
       " 'CRIT_CODE': 'L',\n",
       " 'CRIT_PRICE_WEIGHT': 100,\n",
       " 'B_ELECTRONIC_AUCTION': 'N',\n",
       " 'NUMBER_AWARDS': 1,\n",
       " 'ID_AWARD': 6630331,\n",
       " 'INFO_UNPUBLISHED': 'N',\n",
       " 'WIN_NAME': 'Manpower Munkaerő-Szervezési Kft',\n",
       " 'WIN_ADDRESS': 'Váci street 76.',\n",
       " 'WIN_TOWN': 'Budapest',\n",
       " 'WIN_POSTAL_CODE': 1133,\n",
       " 'WIN_COUNTRY_CODE': 'HU',\n",
       " 'CONTRACT_NUMBER': 'CEPOL/CT/2014/028',\n",
       " 'NUMBER_OFFERS': 1,\n",
       " 'AWARD_EST_VALUE_EURO': 400000,\n",
       " 'AWARD_VALUE_EURO': 400000,\n",
       " 'AWARD_VALUE_EURO_FIN_1': 400000,\n",
       " 'B_SUBCONTRACTED': 'N',\n",
       " 'DT_AWARD': '20-NOV-14',\n",
       " 'EQUAL_TOWN': True,\n",
       " 'nCPV': 7962000}"
      ]
     },
     "execution_count": 112,
     "metadata": {},
     "output_type": "execute_result"
    }
   ],
   "source": [
    "db.new.find_one()"
   ]
  },
  {
   "cell_type": "code",
   "execution_count": 113,
   "metadata": {},
   "outputs": [
    {
     "data": {
      "text/plain": [
       "<pymongo.results.UpdateResult at 0x2ce11b36308>"
      ]
     },
     "execution_count": 113,
     "metadata": {},
     "output_type": "execute_result"
    }
   ],
   "source": [
    "db.new.update_many(\n",
    "    {'_id':{'$in':insert}},\n",
    "    [{'$set':{\n",
    "        'CPV_DIVISION':{'$substr':['$CPV',0,2]}\n",
    "    }}]\n",
    ")"
   ]
  },
  {
   "cell_type": "code",
   "execution_count": 114,
   "metadata": {
    "scrolled": true
   },
   "outputs": [
    {
     "data": {
      "text/plain": [
       "{'_id': ObjectId('5ef09f01453b897d276a905f'),\n",
       " 'ID_NOTICE_CAN': 20157,\n",
       " 'TED_NOTICE_URL': 'ted.europa.eu/udl?uri=TED:NOTICE:7-2015:TEXT:EN:HTML',\n",
       " 'YEAR': 2015,\n",
       " 'ID_TYPE': 3,\n",
       " 'DT_DISPATCH': '23-DEC-14',\n",
       " 'XSD_VERSION': 'R208.S2',\n",
       " 'CANCELLED': 0,\n",
       " 'CORRECTIONS': 0,\n",
       " 'CAE_NAME': 'European Union Agency for Law Enforcement Training (CEPOL)',\n",
       " 'CAE_ADDRESS': 'Ó utca 27.',\n",
       " 'CAE_TOWN': 'Budapest',\n",
       " 'CAE_POSTAL_CODE': 1066,\n",
       " 'CAE_GPA_ANNEX': 'A1EUN',\n",
       " 'ISO_COUNTRY_CODE': 'HU',\n",
       " 'ISO_COUNTRY_CODE_GPA': 'EU',\n",
       " 'CAE_TYPE': 5,\n",
       " 'EU_INST_CODE': 'AG',\n",
       " 'MAIN_ACTIVITY': 'Public Order and Safety',\n",
       " 'B_ON_BEHALF': 'N',\n",
       " 'TYPE_OF_CONTRACT': 'S',\n",
       " 'TAL_LOCATION_NUTS': 'HU101;HU102',\n",
       " 'B_FRA_AGREEMENT': 'Y',\n",
       " 'B_FRA_CONTRACT': 'Y',\n",
       " 'CPV': '07962000',\n",
       " 'MAIN_CPV_CODE_GPA': 796,\n",
       " 'ADDITIONAL_CPVS': '79621000---79612000---79610000---79600000---79611000',\n",
       " 'B_GPA': 'N',\n",
       " 'GPA_COVERAGE': 2,\n",
       " 'LOTS_NUMBER': 0,\n",
       " 'VALUE_EURO': 400000,\n",
       " 'VALUE_EURO_FIN_1': 400000,\n",
       " 'VALUE_EURO_FIN_2': 400000,\n",
       " 'B_EU_FUNDS': 'N',\n",
       " 'TOP_TYPE': 'OPE',\n",
       " 'OUT_OF_DIRECTIVES': 0,\n",
       " 'CRIT_CODE': 'L',\n",
       " 'CRIT_PRICE_WEIGHT': 100,\n",
       " 'B_ELECTRONIC_AUCTION': 'N',\n",
       " 'NUMBER_AWARDS': 1,\n",
       " 'ID_AWARD': 6630331,\n",
       " 'INFO_UNPUBLISHED': 'N',\n",
       " 'WIN_NAME': 'Manpower Munkaerő-Szervezési Kft',\n",
       " 'WIN_ADDRESS': 'Váci street 76.',\n",
       " 'WIN_TOWN': 'Budapest',\n",
       " 'WIN_POSTAL_CODE': 1133,\n",
       " 'WIN_COUNTRY_CODE': 'HU',\n",
       " 'CONTRACT_NUMBER': 'CEPOL/CT/2014/028',\n",
       " 'NUMBER_OFFERS': 1,\n",
       " 'AWARD_EST_VALUE_EURO': 400000,\n",
       " 'AWARD_VALUE_EURO': 400000,\n",
       " 'AWARD_VALUE_EURO_FIN_1': 400000,\n",
       " 'B_SUBCONTRACTED': 'N',\n",
       " 'DT_AWARD': '20-NOV-14',\n",
       " 'EQUAL_TOWN': True,\n",
       " 'nCPV': 7962000,\n",
       " 'CPV_DIVISION': '07'}"
      ]
     },
     "execution_count": 114,
     "metadata": {},
     "output_type": "execute_result"
    }
   ],
   "source": [
    "db.new.find_one()"
   ]
  },
  {
   "cell_type": "code",
   "execution_count": 19,
   "metadata": {},
   "outputs": [],
   "source": [
    "match = {\n",
    "    '$match':{\n",
    "        '$and':[{'YEAR':{'$gte':2008}},{'YEAR':{'$lte':2020}}],\n",
    "        #'VALUE_EURO':{'$lte':100000000},\n",
    "        'ISO_COUNTRY_CODE':{'$in':countries},\n",
    "        '_id':{'$in':insert}\n",
    "    }\n",
    "}\n",
    "\n",
    "project = {\n",
    "    '$project':{\n",
    "        '_id':False,\n",
    "        'VALUE_EURO':True,\n",
    "        'NUMBER_OFFERS':True,\n",
    "        'nCPV':'$CPV',\n",
    "        'CPV':{'$toString':'$CPV'},\n",
    "        'ISO_COUNTRY_CODE':True,\n",
    "        'YEAR':True,\n",
    "        'AWARD_VALUE_EURO':True,\n",
    "        'DT_DISPATCH':{'$dateFromString':{'dateString':'$DT_DISPATCH'}},\n",
    "        'DT_AWARD':{'$dateFromString':{'dateString':'$DT_AWARD'}},\n",
    "        'B_EU_FUNDS':True,\n",
    "        'CAE_NAME':True,\n",
    "        'CAE_ADDRESS':True,\n",
    "        'CAE_TOWN':True,\n",
    "        'WIN_NAME':True,\n",
    "        'ADDRESS':{'$concat':[{'$toString':'$CAE_ADDRESS'},' ',{'$toString':'$CAE_TOWN'}]},\n",
    "        'PAIR':{'$concat':[{'$toString':'$CAE_NAME'},' with ',{'$toString':'$WIN_NAME'}]}\n",
    "    }\n",
    "}\n",
    "\n",
    "pipeline = [match,project]\n",
    "\n",
    "list_documents = list(db.new.aggregate(pipeline))"
   ]
  },
  {
   "cell_type": "code",
   "execution_count": 20,
   "metadata": {},
   "outputs": [],
   "source": [
    "insert_2 = db.new_2.insert_many(list_documents).inserted_ids"
   ]
  },
  {
   "cell_type": "code",
   "execution_count": 21,
   "metadata": {},
   "outputs": [
    {
     "data": {
      "text/plain": [
       "[{'_id': ObjectId('5eef7e07453b897d270dc1d5'),\n",
       "  'YEAR': 2015,\n",
       "  'CAE_NAME': 'European Union Agency for Law Enforcement Training (CEPOL)',\n",
       "  'CAE_ADDRESS': 'Ó utca 27.',\n",
       "  'CAE_TOWN': 'Budapest',\n",
       "  'ISO_COUNTRY_CODE': 'HU',\n",
       "  'VALUE_EURO': 400000,\n",
       "  'B_EU_FUNDS': 'N',\n",
       "  'WIN_NAME': 'Manpower Munkaerő-Szervezési Kft',\n",
       "  'NUMBER_OFFERS': 1,\n",
       "  'AWARD_VALUE_EURO': 400000,\n",
       "  'nCPV': 7962000,\n",
       "  'CPV': '7962000',\n",
       "  'DT_DISPATCH': datetime.datetime(2014, 12, 23, 0, 0),\n",
       "  'DT_AWARD': datetime.datetime(2014, 11, 20, 0, 0),\n",
       "  'ADDRESS': 'Ó utca 27. Budapest',\n",
       "  'PAIR': 'European Union Agency for Law Enforcement Training (CEPOL) with Manpower Munkaerő-Szervezési Kft'}]"
      ]
     },
     "execution_count": 21,
     "metadata": {},
     "output_type": "execute_result"
    }
   ],
   "source": [
    "list(db.new_2.find({'$expr':{'$in':['$_id',insert_2]}}))"
   ]
  },
  {
   "cell_type": "code",
   "execution_count": 12,
   "metadata": {},
   "outputs": [
    {
     "data": {
      "text/plain": [
       "[{'_id': ObjectId('5eef7d5c453b897d270dc1d3'),\n",
       "  'YEAR': 2015,\n",
       "  'CAE_NAME': 'European Union Agency for Law Enforcement Training (CEPOL)',\n",
       "  'CAE_ADDRESS': 'Ó utca 27.',\n",
       "  'CAE_TOWN': 'Budapest',\n",
       "  'ISO_COUNTRY_CODE': 'HU',\n",
       "  'VALUE_EURO': 400000,\n",
       "  'B_EU_FUNDS': 'N',\n",
       "  'WIN_NAME': 'Manpower Munkaerő-Szervezési Kft',\n",
       "  'NUMBER_OFFERS': 1,\n",
       "  'AWARD_VALUE_EURO': 400000,\n",
       "  'nCPV': 79620000,\n",
       "  'CPV': '79620000',\n",
       "  'DT_DISPATCH': datetime.datetime(2014, 12, 23, 0, 0),\n",
       "  'DT_AWARD': datetime.datetime(2014, 11, 20, 0, 0),\n",
       "  'ADDRESS': 'Ó utca 27. Budapest',\n",
       "  'PAIR': 'European Union Agency for Law Enforcement Training (CEPOL) with Manpower Munkaerő-Szervezési Kft'}]"
      ]
     },
     "execution_count": 12,
     "metadata": {},
     "output_type": "execute_result"
    }
   ],
   "source": [
    "list(db.new_2.find({'_id':{'$in':insert_2}}))"
   ]
  },
  {
   "cell_type": "code",
   "execution_count": 27,
   "metadata": {
    "scrolled": true
   },
   "outputs": [
    {
     "data": {
      "text/plain": [
       "[{'_id': ObjectId('5eef7e07453b897d270dc1d5'),\n",
       "  'YEAR': 2015,\n",
       "  'CAE_NAME': 'European Union Agency for Law Enforcement Training (CEPOL)',\n",
       "  'CAE_ADDRESS': 'Ó utca 27.',\n",
       "  'CAE_TOWN': 'Budapest',\n",
       "  'ISO_COUNTRY_CODE': 'HU',\n",
       "  'VALUE_EURO': 400000,\n",
       "  'B_EU_FUNDS': 'N',\n",
       "  'WIN_NAME': 'Manpower Munkaerő-Szervezési Kft',\n",
       "  'NUMBER_OFFERS': 1,\n",
       "  'AWARD_VALUE_EURO': 400000,\n",
       "  'nCPV': 7962000,\n",
       "  'CPV': '7962000',\n",
       "  'DT_DISPATCH': datetime.datetime(2014, 12, 23, 0, 0),\n",
       "  'DT_AWARD': datetime.datetime(2014, 11, 20, 0, 0),\n",
       "  'ADDRESS': 'Ó utca 27. Budapest',\n",
       "  'PAIR': 'European Union Agency for Law Enforcement Training (CEPOL) with Manpower Munkaerő-Szervezési Kft'}]"
      ]
     },
     "execution_count": 27,
     "metadata": {},
     "output_type": "execute_result"
    }
   ],
   "source": [
    "list(db.new_2.find({'$expr':{'$lt':['$nCPV',10000000]},'_id':{'$in':insert_2}}))"
   ]
  },
  {
   "cell_type": "code",
   "execution_count": 28,
   "metadata": {},
   "outputs": [
    {
     "data": {
      "text/plain": [
       "<pymongo.results.UpdateResult at 0x2cc4c41ac88>"
      ]
     },
     "execution_count": 28,
     "metadata": {},
     "output_type": "execute_result"
    }
   ],
   "source": [
    "db.new_2.update_many({'$expr':{'$lt':['$nCPV',10000000]},'_id':{'$in':insert_2}},[{'$set':{'CPV':{'$concat':['0','$CPV']}}}])"
   ]
  },
  {
   "cell_type": "code",
   "execution_count": 29,
   "metadata": {
    "scrolled": false
   },
   "outputs": [
    {
     "data": {
      "text/plain": [
       "{'_id': ObjectId('5eef7e07453b897d270dc1d5'),\n",
       " 'YEAR': 2015,\n",
       " 'CAE_NAME': 'European Union Agency for Law Enforcement Training (CEPOL)',\n",
       " 'CAE_ADDRESS': 'Ó utca 27.',\n",
       " 'CAE_TOWN': 'Budapest',\n",
       " 'ISO_COUNTRY_CODE': 'HU',\n",
       " 'VALUE_EURO': 400000,\n",
       " 'B_EU_FUNDS': 'N',\n",
       " 'WIN_NAME': 'Manpower Munkaerő-Szervezési Kft',\n",
       " 'NUMBER_OFFERS': 1,\n",
       " 'AWARD_VALUE_EURO': 400000,\n",
       " 'nCPV': 7962000,\n",
       " 'CPV': '07962000',\n",
       " 'DT_DISPATCH': datetime.datetime(2014, 12, 23, 0, 0),\n",
       " 'DT_AWARD': datetime.datetime(2014, 11, 20, 0, 0),\n",
       " 'ADDRESS': 'Ó utca 27. Budapest',\n",
       " 'PAIR': 'European Union Agency for Law Enforcement Training (CEPOL) with Manpower Munkaerő-Szervezési Kft'}"
      ]
     },
     "execution_count": 29,
     "metadata": {},
     "output_type": "execute_result"
    }
   ],
   "source": [
    "db.new_2.find_one()"
   ]
  },
  {
   "cell_type": "code",
   "execution_count": 30,
   "metadata": {},
   "outputs": [
    {
     "data": {
      "text/plain": [
       "<pymongo.results.UpdateResult at 0x2cc4c7f9708>"
      ]
     },
     "execution_count": 30,
     "metadata": {},
     "output_type": "execute_result"
    }
   ],
   "source": [
    "db.new_2.update_many({'_id':{'$in':insert_2}},[{'$set':{'CPV_DIVISION':{'$substr':['$CPV',0,2]}}}])"
   ]
  },
  {
   "cell_type": "code",
   "execution_count": 31,
   "metadata": {
    "scrolled": true
   },
   "outputs": [
    {
     "data": {
      "text/plain": [
       "{'_id': ObjectId('5eef7e07453b897d270dc1d5'),\n",
       " 'YEAR': 2015,\n",
       " 'CAE_NAME': 'European Union Agency for Law Enforcement Training (CEPOL)',\n",
       " 'CAE_ADDRESS': 'Ó utca 27.',\n",
       " 'CAE_TOWN': 'Budapest',\n",
       " 'ISO_COUNTRY_CODE': 'HU',\n",
       " 'VALUE_EURO': 400000,\n",
       " 'B_EU_FUNDS': 'N',\n",
       " 'WIN_NAME': 'Manpower Munkaerő-Szervezési Kft',\n",
       " 'NUMBER_OFFERS': 1,\n",
       " 'AWARD_VALUE_EURO': 400000,\n",
       " 'nCPV': 7962000,\n",
       " 'CPV': '07962000',\n",
       " 'DT_DISPATCH': datetime.datetime(2014, 12, 23, 0, 0),\n",
       " 'DT_AWARD': datetime.datetime(2014, 11, 20, 0, 0),\n",
       " 'ADDRESS': 'Ó utca 27. Budapest',\n",
       " 'PAIR': 'European Union Agency for Law Enforcement Training (CEPOL) with Manpower Munkaerő-Szervezési Kft',\n",
       " 'CPV_DIVISION': '07'}"
      ]
     },
     "execution_count": 31,
     "metadata": {},
     "output_type": "execute_result"
    }
   ],
   "source": [
    "db.new_2.find_one()"
   ]
  },
  {
   "cell_type": "code",
   "execution_count": null,
   "metadata": {
    "scrolled": true
   },
   "outputs": [],
   "source": [
    "db.eu_3.find_one()"
   ]
  },
  {
   "cell_type": "code",
   "execution_count": null,
   "metadata": {
    "scrolled": false
   },
   "outputs": [],
   "source": [
    "db.eu_3.count_documents({})"
   ]
  },
  {
   "cell_type": "code",
   "execution_count": 21,
   "metadata": {
    "scrolled": true
   },
   "outputs": [
    {
     "name": "stderr",
     "output_type": "stream",
     "text": [
      "C:\\Users\\Mafalda\\anaconda3\\envs\\Big Data Modelling\\lib\\site-packages\\ipykernel_launcher.py:1: DeprecationWarning: remove is deprecated. Use delete_one or delete_many instead.\n",
      "  \"\"\"Entry point for launching an IPython kernel.\n"
     ]
    },
    {
     "data": {
      "text/plain": [
       "{'n': 1, 'ok': 1.0}"
      ]
     },
     "execution_count": 21,
     "metadata": {},
     "output_type": "execute_result"
    }
   ],
   "source": [
    "db.eu_2.remove({'_id':ObjectId('5ef0daa9cc51d2467c7a5381')})"
   ]
  },
  {
   "cell_type": "code",
   "execution_count": 23,
   "metadata": {},
   "outputs": [
    {
     "name": "stderr",
     "output_type": "stream",
     "text": [
      "C:\\Users\\Mafalda\\anaconda3\\envs\\Big Data Modelling\\lib\\site-packages\\ipykernel_launcher.py:1: DeprecationWarning: remove is deprecated. Use delete_one or delete_many instead.\n",
      "  \"\"\"Entry point for launching an IPython kernel.\n"
     ]
    },
    {
     "data": {
      "text/plain": [
       "{'n': 4, 'ok': 1.0}"
      ]
     },
     "execution_count": 23,
     "metadata": {},
     "output_type": "execute_result"
    }
   ],
   "source": [
    "db.new_2.remove({})"
   ]
  },
  {
   "cell_type": "code",
   "execution_count": 24,
   "metadata": {
    "scrolled": true
   },
   "outputs": [
    {
     "data": {
      "text/plain": [
       "0"
      ]
     },
     "execution_count": 24,
     "metadata": {},
     "output_type": "execute_result"
    }
   ],
   "source": [
    "db.new.count_documents({})"
   ]
  },
  {
   "cell_type": "code",
   "execution_count": 16,
   "metadata": {},
   "outputs": [],
   "source": [
    "from bson.objectid import ObjectId"
   ]
  },
  {
   "cell_type": "code",
   "execution_count": 78,
   "metadata": {},
   "outputs": [
    {
     "data": {
      "text/plain": [
       "{'_id': ObjectId('5ef09794e312462ca5db4121'),\n",
       " 'YEAR': 2018,\n",
       " 'CAE_NAME': 'European Insurance and Occupational Pensions Authority',\n",
       " 'CAE_ADDRESS': 'WesthafenTower, Westhafenplatz 1',\n",
       " 'CAE_TOWN': 'Frankfurt am Main',\n",
       " 'ISO_COUNTRY_CODE': 'DE',\n",
       " 'B_EU_FUNDS': 'Y',\n",
       " 'nCPV': 72300000,\n",
       " 'CPV': '72300000',\n",
       " 'DT_DISPATCH': datetime.datetime(2017, 12, 22, 0, 0),\n",
       " 'DT_AWARD': None,\n",
       " 'ADDRESS': 'WesthafenTower, Westhafenplatz 1 Frankfurt am Main',\n",
       " 'PAIR': None}"
      ]
     },
     "execution_count": 78,
     "metadata": {},
     "output_type": "execute_result"
    }
   ],
   "source": [
    "db.new_2.find_one()"
   ]
  },
  {
   "cell_type": "code",
   "execution_count": 18,
   "metadata": {},
   "outputs": [
    {
     "data": {
      "text/plain": [
       "[{'_id': ObjectId('5ef0d9d7ca529f6456ca4718'),\n",
       "  'YEAR': 2018,\n",
       "  'CAE_NAME': 'European Insurance and Occupational Pensions Authority',\n",
       "  'CAE_ADDRESS': 'WesthafenTower, Westhafenplatz 1',\n",
       "  'CAE_TOWN': 'Frankfurt am Main',\n",
       "  'ISO_COUNTRY_CODE': 'DE',\n",
       "  'VALUE_EURO': 615,\n",
       "  'B_EU_FUNDS': 'Y',\n",
       "  'nCPV': 7230000,\n",
       "  'CPV': '07230000',\n",
       "  'DT_DISPATCH': datetime.datetime(2017, 12, 22, 0, 0),\n",
       "  'DT_AWARD': None,\n",
       "  'ADDRESS': 'WesthafenTower, Westhafenplatz 1 Frankfurt am Main',\n",
       "  'PAIR': None,\n",
       "  'CPV_DIVISION': '07'}]"
      ]
     },
     "execution_count": 18,
     "metadata": {},
     "output_type": "execute_result"
    }
   ],
   "source": [
    "list(db.eu_2.find({'_id':ObjectId('5ef0d9d7ca529f6456ca4718')}))"
   ]
  },
  {
   "cell_type": "code",
   "execution_count": null,
   "metadata": {},
   "outputs": [],
   "source": []
  }
 ],
 "metadata": {
  "kernelspec": {
   "display_name": "Python 3",
   "language": "python",
   "name": "python3"
  },
  "language_info": {
   "codemirror_mode": {
    "name": "ipython",
    "version": 3
   },
   "file_extension": ".py",
   "mimetype": "text/x-python",
   "name": "python",
   "nbconvert_exporter": "python",
   "pygments_lexer": "ipython3",
   "version": "3.7.7"
  }
 },
 "nbformat": 4,
 "nbformat_minor": 4
}
