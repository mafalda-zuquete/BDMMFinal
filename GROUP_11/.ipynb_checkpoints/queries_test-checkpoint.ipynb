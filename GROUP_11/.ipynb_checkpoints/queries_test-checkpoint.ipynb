{
 "cells": [
  {
   "cell_type": "code",
   "execution_count": 116,
   "metadata": {},
   "outputs": [
    {
     "name": "stdout",
     "output_type": "stream",
     "text": [
      "Requirement already satisfied: pymongo in c:\\users\\mafalda\\anaconda3\\envs\\big data modelling\\lib\\site-packages (3.10.1)\n"
     ]
    }
   ],
   "source": [
    "!pip install pymongo\n",
    "from pymongo import MongoClient"
   ]
  },
  {
   "cell_type": "code",
   "execution_count": 117,
   "metadata": {},
   "outputs": [],
   "source": [
    "host=\"rhea.isegi.unl.pt\"\n",
    "port=\"28011\"\n",
    "user=\"GROUP_11\"\n",
    "password=\"MTM0MzQ5MzI3NjY4ODM1MzQ2ODc2OTMzMjgyNjQ3NjYyNDcyNjUw\"\n",
    "protocol=\"mongodb\"\n",
    "client = MongoClient(f\"{protocol}://{user}:{password}@{host}:{port}\")"
   ]
  },
  {
   "cell_type": "code",
   "execution_count": 118,
   "metadata": {},
   "outputs": [],
   "source": [
    "db = client.contracts\n",
    "eu = db.eu"
   ]
  },
  {
   "cell_type": "code",
   "execution_count": 119,
   "metadata": {},
   "outputs": [],
   "source": [
    "bot_year = 2008\n",
    "top_year = 2020\n",
    "country_list = ['NO', 'HR', 'HU', 'CH', 'CZ', 'RO', 'LV', 'GR', 'UK', 'SI', 'LT', 'ES', 'FR', 'IE', 'SE', 'NL',\n",
    "                'PT', 'PL', 'DK', 'MK', 'DE', 'IT', 'BG', 'CY', 'AT', 'LU', 'BE', 'FI', 'EE', 'SK', 'MT', 'LI',\n",
    "                'IS']"
   ]
  },
  {
   "cell_type": "code",
   "execution_count": 58,
   "metadata": {},
   "outputs": [
    {
     "name": "stdout",
     "output_type": "stream",
     "text": [
      "_id_\n",
      "year_country_index\n"
     ]
    }
   ],
   "source": [
    "for index in eu.list_indexes():\n",
    "    print(index['name'])"
   ]
  },
  {
   "cell_type": "code",
   "execution_count": 62,
   "metadata": {},
   "outputs": [
    {
     "data": {
      "text/plain": [
       "'year_country_index'"
      ]
     },
     "execution_count": 62,
     "metadata": {},
     "output_type": "execute_result"
    }
   ],
   "source": [
    "eu.create_index([('YEAR',1),('ISO_COUNTRY_CODE',1)],name='year_country_index')"
   ]
  },
  {
   "cell_type": "code",
   "execution_count": 64,
   "metadata": {},
   "outputs": [],
   "source": [
    "eu.drop_index('year_country_index')"
   ]
  },
  {
   "cell_type": "markdown",
   "metadata": {},
   "source": [
    "1.1"
   ]
  },
  {
   "cell_type": "code",
   "execution_count": 135,
   "metadata": {},
   "outputs": [
    {
     "data": {
      "text/plain": [
       "2.5649394295157817e+20"
      ]
     },
     "execution_count": 135,
     "metadata": {},
     "output_type": "execute_result"
    }
   ],
   "source": [
    "#%%timeit\n",
    "\n",
    "match = {\n",
    "    '$match': {\n",
    "        '$and': [{'YEAR': {'$gte': bot_year}}, {'YEAR': {'$lte': top_year}}],\n",
    "        'ISO_COUNTRY_CODE': {'$in': country_list},\n",
    "        'CPV': {'$exists': True}\n",
    "    }\n",
    "}\n",
    "\n",
    "match_value_euro = {\n",
    "    '$match':{\n",
    "        'VALUE_EURO': {'$exists': True}\n",
    "    }\n",
    "}\n",
    "\n",
    "project = {\n",
    "    '$project':{\n",
    "        '_id':False,\n",
    "        'VALUE_EURO':True,\n",
    "        'NUMBER_OFFERS':True,\n",
    "        'CPV_DIVISION':{'$substr':['$CPV',0,2]}\n",
    "    }\n",
    "}\n",
    "\n",
    "group_cpv_euro_avg = {\n",
    "    '$group':{\n",
    "        '_id':'$CPV_DIVISION',\n",
    "        'AVERAGE_VALUE':{'$avg':'$VALUE_EURO'}\n",
    "    }\n",
    "}\n",
    "\n",
    "group_cpv_euro_avg_2 = {\n",
    "    '$group':{\n",
    "        '_id':None,\n",
    "        'AVERAGE_CPV_VALUE':{'$avg':'$AVERAGE_VALUE'}\n",
    "    }\n",
    "}\n",
    "\n",
    "limit = {\n",
    "    '$limit':5\n",
    "}\n",
    "\n",
    "pipeline_cpv_euro_avg = [match, match_value_euro, project, group_cpv_euro_avg, group_cpv_euro_avg_2]\n",
    "\n",
    "agg_cpv_euro_avg = list(eu.aggregate(pipeline_cpv_euro_avg))\n",
    "\n",
    "agg_cpv_euro_avg[0]['AVERAGE_CPV_VALUE']"
   ]
  },
  {
   "cell_type": "markdown",
   "metadata": {},
   "source": [
    "1.2"
   ]
  },
  {
   "cell_type": "code",
   "execution_count": 136,
   "metadata": {},
   "outputs": [
    {
     "data": {
      "text/plain": [
       "123558.42222222222"
      ]
     },
     "execution_count": 136,
     "metadata": {},
     "output_type": "execute_result"
    }
   ],
   "source": [
    "group_cpv_count = {\n",
    "    '$group':{\n",
    "        '_id':'$CPV_DIVISION',\n",
    "        'COUNT':{'$sum':1}\n",
    "    }\n",
    "}\n",
    "\n",
    "group_cpv_count_2 = {\n",
    "    '$group':{\n",
    "        '_id':None,\n",
    "        'AVERAGE_COUNT':{'$avg':'$COUNT'}\n",
    "    }\n",
    "}\n",
    "\n",
    "pipeline_cpv_count = [match, project, group_cpv_count, group_cpv_count_2]\n",
    "\n",
    "agg_cpv_count = list(eu.aggregate(pipeline_cpv_count))\n",
    "\n",
    "agg_cpv_count[0]['AVERAGE_COUNT']"
   ]
  },
  {
   "cell_type": "markdown",
   "metadata": {},
   "source": [
    "1.3"
   ]
  },
  {
   "cell_type": "code",
   "execution_count": 138,
   "metadata": {},
   "outputs": [
    {
     "data": {
      "text/plain": [
       "7.50114701322052"
      ]
     },
     "execution_count": 138,
     "metadata": {},
     "output_type": "execute_result"
    }
   ],
   "source": [
    "match_number_offers = {\n",
    "    '$match':{\n",
    "        'NUMBER_OFFERS': {'$exists': True}\n",
    "    }\n",
    "}\n",
    "\n",
    "group_cpv_offer_avg = {\n",
    "    '$group':{\n",
    "        '_id':'$CPV_DIVISION',\n",
    "        'AVERAGE_OFFERS':{'$avg':'$NUMBER_OFFERS'}\n",
    "    }\n",
    "}\n",
    "\n",
    "group_cpv_offer_avg_2 = {\n",
    "    '$group':{\n",
    "        '_id':None,\n",
    "        'AVERAGE_CPV_OFFERS':{'$avg':'$AVERAGE_OFFERS'}\n",
    "    }\n",
    "}\n",
    "\n",
    "pipeline_cpv_offer_avg = [match, match_number_offers, project, group_cpv_offer_avg, group_cpv_offer_avg_2]\n",
    "\n",
    "agg_cpv_offer_avg = list(eu.aggregate(pipeline_cpv_offer_avg))\n",
    "\n",
    "agg_cpv_offer_avg[0]['AVERAGE_CPV_OFFERS']"
   ]
  },
  {
   "cell_type": "markdown",
   "metadata": {},
   "source": [
    "1.4"
   ]
  },
  {
   "cell_type": "code",
   "execution_count": 139,
   "metadata": {},
   "outputs": [
    {
     "data": {
      "text/plain": [
       "1.2219117009078155e+22"
      ]
     },
     "execution_count": 139,
     "metadata": {},
     "output_type": "execute_result"
    }
   ],
   "source": [
    "match_cpv_euro_avg_y_eu = {\n",
    "    '$match':{\n",
    "        'B_EU_FUNDS':'Y'\n",
    "    }\n",
    "}\n",
    "\n",
    "pipeline_cpv_euro_avg_y_eu = [match, match_value_euro, match_cpv_euro_avg_y_eu, project, group_cpv_euro_avg, group_cpv_euro_avg_2]\n",
    "\n",
    "agg_cpv_euro_avg_y_eu = list(eu.aggregate(pipeline_cpv_euro_avg_y_eu))\n",
    "\n",
    "agg_cpv_euro_avg_y_eu[0]['AVERAGE_CPV_VALUE']"
   ]
  },
  {
   "cell_type": "markdown",
   "metadata": {},
   "source": [
    "1.5"
   ]
  },
  {
   "cell_type": "code",
   "execution_count": 140,
   "metadata": {},
   "outputs": [
    {
     "data": {
      "text/plain": [
       "1.4132651669160772e+19"
      ]
     },
     "execution_count": 140,
     "metadata": {},
     "output_type": "execute_result"
    }
   ],
   "source": [
    "match_cpv_euro_avg_n_eu = {\n",
    "    '$match':{\n",
    "        'B_EU_FUNDS':'N'\n",
    "    }\n",
    "}\n",
    "\n",
    "pipeline_cpv_euro_avg_n_eu = [match, match_value_euro, match_cpv_euro_avg_n_eu, project, group_cpv_euro_avg, group_cpv_euro_avg_2]\n",
    "\n",
    "agg_cpv_euro_avg_n_eu = list(eu.aggregate(pipeline_cpv_euro_avg_n_eu))\n",
    "\n",
    "agg_cpv_euro_avg_n_eu[0]['AVERAGE_CPV_VALUE']"
   ]
  },
  {
   "cell_type": "markdown",
   "metadata": {},
   "source": [
    "2"
   ]
  },
  {
   "cell_type": "code",
   "execution_count": 141,
   "metadata": {
    "scrolled": true
   },
   "outputs": [
    {
     "data": {
      "text/plain": [
       "[{'count': 58374,\n",
       "  'cpv': 'Electrical machinery, apparatus, equipment and consumables; lighting'},\n",
       " {'count': 12699, 'cpv': 'Mining, basic metals and related products'},\n",
       " {'count': 18992,\n",
       "  'cpv': 'Research and development services and related consultancy services'},\n",
       " {'count': 84577,\n",
       "  'cpv': 'Laboratory, optical and precision equipments (excl. glasses)'},\n",
       " {'count': 8837,\n",
       "  'cpv': 'Leather and textile fabrics, plastic and rubber materials'},\n",
       " {'count': 42885, 'cpv': 'Software package and information systems'},\n",
       " {'count': 35982, 'cpv': 'Printed matter and related products'},\n",
       " {'count': 5696, 'cpv': 'Installation services (except software)'},\n",
       " {'count': 133504,\n",
       "  'cpv': 'Office and computing machinery, equipment and supplies except furniture and software packages'},\n",
       " {'count': 142895, 'cpv': 'Health and social work services'},\n",
       " {'count': 42213, 'cpv': 'Postal and telecommunications services'},\n",
       " {'count': 15373,\n",
       "  'cpv': 'Supporting and auxiliary transport services; travel agencies services'},\n",
       " {'count': 81992,\n",
       "  'cpv': 'Construction structures and materials; auxiliary products to construction (except electric apparatus)'},\n",
       " {'count': 195085, 'cpv': 'Transport services (excl. Waste transport)'},\n",
       " {'count': 99613,\n",
       "  'cpv': 'IT services: consulting, software development, Internet and support'},\n",
       " {'count': 25391, 'cpv': 'Other community, social and personal services'},\n",
       " {'count': 34841},\n",
       " {'count': 527839, 'cpv': 'Construction work'},\n",
       " {'count': 109786,\n",
       "  'cpv': 'Furniture (incl. office furniture), furnishings, domestic appliances (excl. lighting) and cleaning products'},\n",
       " {'count': 11924, 'cpv': 'Real estate services'},\n",
       " {'count': 39513, 'cpv': 'Hotel, restaurant and retail trade services'},\n",
       " {'count': 25061, 'cpv': 'Recreational, cultural and sporting services'},\n",
       " {'count': 41502, 'cpv': 'Chemical products'},\n",
       " {'count': 131271, 'cpv': 'Education and training services'},\n",
       " {'count': 48194, 'cpv': 'Industrial machinery'},\n",
       " {'count': 17412,\n",
       "  'cpv': 'Machinery for mining, quarrying, construction equipment'},\n",
       " {'count': 8035, 'cpv': 'Agricultural machinery'},\n",
       " {'count': 1463, 'cpv': 'Collected and purified water'},\n",
       " {'count': 3155, 'cpv': 'Services related to the oil and gas industry'},\n",
       " {'count': 142785,\n",
       "  'cpv': 'Agricultural, forestry, horticultural, aquacultural and apicultural services'},\n",
       " {'count': 243228,\n",
       "  'cpv': 'Sewage, refuse, cleaning and environmental services'},\n",
       " {'count': 1777086,\n",
       "  'cpv': 'Medical equipments, pharmaceuticals and personal care products'},\n",
       " {'count': 54878},\n",
       " {'count': 183605, 'cpv': 'Repair and maintenance services'},\n",
       " {'count': 181234,\n",
       "  'cpv': 'Transport equipment and auxiliary products to transportation'},\n",
       " {'count': 26641,\n",
       "  'cpv': 'Security, fire-fighting, police and defence equipment'},\n",
       " {'count': 249934,\n",
       "  'cpv': 'Architectural, construction, engineering and inspection services'},\n",
       " {'count': 116734, 'cpv': 'Financial and insurance services'},\n",
       " {'count': 14389,\n",
       "  'cpv': 'Administration, defence and social security services'},\n",
       " {'count': 13465, 'cpv': 'Public utilities'},\n",
       " {'count': 37731,\n",
       "  'cpv': 'Clothing, footwear, luggage articles and accessories'},\n",
       " {'count': 11876,\n",
       "  'cpv': 'Musical instruments, sport goods, games, toys, handicraft, art materials and accessories'},\n",
       " {'count': 204709,\n",
       "  'cpv': 'Business services: law, marketing, consulting, recruitment, printing and security'},\n",
       " {'count': 44758,\n",
       "  'cpv': 'Radio, television, communication, telecommunication and related equipment'},\n",
       " {'count': 252972, 'cpv': 'Food, beverages, tobacco and related products'}]"
      ]
     },
     "execution_count": 141,
     "metadata": {},
     "output_type": "execute_result"
    }
   ],
   "source": [
    "match = {\n",
    "    '$match': {\n",
    "        '$and': [{'YEAR': {'$gte': bot_year}}, {'YEAR': {'$lte': top_year}}],\n",
    "        'ISO_COUNTRY_CODE': {'$in': country_list},\n",
    "        'CPV': {'$exists': True}\n",
    "    }\n",
    "}\n",
    "\n",
    "project = {\n",
    "    '$project':{\n",
    "        '_id':False,\n",
    "        'CPV_DIVISION':{'$substr':['$CPV',0,2]}\n",
    "    }\n",
    "}\n",
    "\n",
    "group_cpv_count = {\n",
    "    '$group':{\n",
    "        '_id':'$CPV_DIVISION',\n",
    "        'COUNT':{'$sum':1}\n",
    "    }\n",
    "}\n",
    "\n",
    "lookup = {\n",
    "    '$lookup':{\n",
    "        'from':'cpv',\n",
    "        'localField':'_id',\n",
    "        'foreignField':'cpv_division',\n",
    "        'as':'CPV'\n",
    "    }\n",
    "}\n",
    "\n",
    "project_2 = {\n",
    "    '$project':{\n",
    "        '_id':False,\n",
    "        'cpv':{ \"$arrayElemAt\": [ \"$CPV\", 0] },\n",
    "        'count':'$COUNT'\n",
    "    }\n",
    "}\n",
    "\n",
    "project_3 = {\n",
    "    '$project':{\n",
    "        'cpv':'$cpv.cpv_division_description',\n",
    "        'count':True\n",
    "    }\n",
    "}\n",
    "\n",
    "pipeline = [match, project, group_cpv_count, lookup, project_2, project_3]\n",
    "\n",
    "list_documents = list(eu.aggregate(pipeline))\n",
    "\n",
    "list_documents"
   ]
  },
  {
   "cell_type": "markdown",
   "metadata": {},
   "source": [
    "3"
   ]
  },
  {
   "cell_type": "code",
   "execution_count": 142,
   "metadata": {},
   "outputs": [
    {
     "data": {
      "text/plain": [
       "[{'avg': 1.1102520637497268e+22,\n",
       "  'cpv': 'Sewage, refuse, cleaning and environmental services'},\n",
       " {'avg': 4.283694829580493e+20,\n",
       "  'cpv': 'Office and computing machinery, equipment and supplies except furniture and software packages'},\n",
       " {'avg': 1.0979761462251373e+19,\n",
       "  'cpv': 'Administration, defence and social security services'},\n",
       " {'avg': 3.572801959007498e+17,\n",
       "  'cpv': 'Business services: law, marketing, consulting, recruitment, printing and security'},\n",
       " {'avg': 233961466170367.25, 'cpv': 'Education and training services'}]"
      ]
     },
     "execution_count": 142,
     "metadata": {},
     "output_type": "execute_result"
    }
   ],
   "source": [
    "match = {\n",
    "    '$match': {\n",
    "        '$and': [{'YEAR': {'$gte': bot_year}}, {'YEAR': {'$lte': top_year}}],\n",
    "        'ISO_COUNTRY_CODE': {'$in': country_list},\n",
    "        'CPV': {'$exists': True},\n",
    "        'VALUE_EURO': {'$exists': True}\n",
    "    }\n",
    "}\n",
    "\n",
    "project = {\n",
    "    '$project':{\n",
    "        '_id':False,\n",
    "        'CPV_DIVISION':{'$substr':['$CPV',0,2]},\n",
    "        'VALUE_EURO':True\n",
    "    }\n",
    "}\n",
    "\n",
    "group_cpv_euro_avg = {\n",
    "    '$group':{\n",
    "        '_id':'$CPV_DIVISION',\n",
    "        'AVERAGE_VALUE':{'$avg':'$VALUE_EURO'}\n",
    "    }\n",
    "}\n",
    "\n",
    "sort = {\n",
    "    '$sort':{\n",
    "        'AVERAGE_VALUE':-1\n",
    "    }\n",
    "}\n",
    "\n",
    "limit = {\n",
    "    '$limit':5\n",
    "}\n",
    "\n",
    "lookup = {\n",
    "    '$lookup':{\n",
    "        'from':'cpv',\n",
    "        'localField':'_id',\n",
    "        'foreignField':'cpv_division',\n",
    "        'as':'CPV'\n",
    "    }\n",
    "}\n",
    "\n",
    "project_2 = {\n",
    "    '$project':{\n",
    "        '_id':False,\n",
    "        'cpv':{ \"$arrayElemAt\": [ \"$CPV\", 0] },\n",
    "        'avg':'$AVERAGE_VALUE'\n",
    "    }\n",
    "}\n",
    "\n",
    "project_3 = {\n",
    "    '$project':{\n",
    "        'cpv':'$cpv.cpv_division_description',\n",
    "        'avg':True\n",
    "    }\n",
    "}\n",
    "\n",
    "pipeline = [match, project, group_cpv_euro_avg, sort, limit, lookup, project_2, project_3]\n",
    "\n",
    "list_documents = list(eu.aggregate(pipeline))\n",
    "\n",
    "list_documents"
   ]
  },
  {
   "cell_type": "markdown",
   "metadata": {},
   "source": [
    "4"
   ]
  },
  {
   "cell_type": "code",
   "execution_count": 143,
   "metadata": {},
   "outputs": [
    {
     "data": {
      "text/plain": [
       "[{'avg': 1666574.1648330106, 'cpv': 'Agricultural machinery'},\n",
       " {'avg': 1672027.3621667938,\n",
       "  'cpv': 'Musical instruments, sport goods, games, toys, handicraft, art materials and accessories'},\n",
       " {'avg': 1779413.0967100735,\n",
       "  'cpv': 'Recreational, cultural and sporting services'},\n",
       " {'avg': 1971553.785299904,\n",
       "  'cpv': 'Leather and textile fabrics, plastic and rubber materials'},\n",
       " {'avg': 2166225.6565261814, 'cpv': 'Collected and purified water'}]"
      ]
     },
     "execution_count": 143,
     "metadata": {},
     "output_type": "execute_result"
    }
   ],
   "source": [
    "match = {\n",
    "    '$match': {\n",
    "        '$and': [{'YEAR': {'$gte': bot_year}}, {'YEAR': {'$lte': top_year}}],\n",
    "        'ISO_COUNTRY_CODE': {'$in': country_list},\n",
    "        'CPV': {'$exists': True},\n",
    "        'VALUE_EURO': {'$exists': True}\n",
    "    }\n",
    "}\n",
    "\n",
    "project = {\n",
    "    '$project':{\n",
    "        '_id':False,\n",
    "        'CPV_DIVISION':{'$substr':['$CPV',0,2]},\n",
    "        'VALUE_EURO':True\n",
    "    }\n",
    "}\n",
    "\n",
    "group_cpv_euro_avg = {\n",
    "    '$group':{\n",
    "        '_id':'$CPV_DIVISION',\n",
    "        'AVERAGE_VALUE':{'$avg':'$VALUE_EURO'}\n",
    "    }\n",
    "}\n",
    "\n",
    "sort = {\n",
    "    '$sort':{\n",
    "        'AVERAGE_VALUE':1\n",
    "    }\n",
    "}\n",
    "\n",
    "limit = {\n",
    "    '$limit':5\n",
    "}\n",
    "\n",
    "lookup = {\n",
    "    '$lookup':{\n",
    "        'from':'cpv',\n",
    "        'localField':'_id',\n",
    "        'foreignField':'cpv_division',\n",
    "        'as':'CPV'\n",
    "    }\n",
    "}\n",
    "\n",
    "project_2 = {\n",
    "    '$project':{\n",
    "        '_id':False,\n",
    "        'cpv':{ \"$arrayElemAt\": [ \"$CPV\", 0] },\n",
    "        'avg':'$AVERAGE_VALUE'\n",
    "    }\n",
    "}\n",
    "\n",
    "project_3 = {\n",
    "    '$project':{\n",
    "        'cpv':'$cpv.cpv_division_description',\n",
    "        'avg':True\n",
    "    }\n",
    "}\n",
    "\n",
    "pipeline = [match, project, group_cpv_euro_avg, sort, limit, lookup, project_2, project_3]\n",
    "\n",
    "list_documents = list(eu.aggregate(pipeline))\n",
    "\n",
    "list_documents"
   ]
  },
  {
   "cell_type": "markdown",
   "metadata": {},
   "source": [
    "5"
   ]
  },
  {
   "cell_type": "code",
   "execution_count": 144,
   "metadata": {},
   "outputs": [
    {
     "data": {
      "text/plain": [
       "[{'avg': 5.498602649357064e+23,\n",
       "  'cpv': 'Sewage, refuse, cleaning and environmental services'},\n",
       " {'avg': 381753911395855.75, 'cpv': 'Education and training services'},\n",
       " {'avg': 91000076123835.94,\n",
       "  'cpv': 'Research and development services and related consultancy services'},\n",
       " {'avg': 56250333795.48817, 'cpv': 'Construction work'},\n",
       " {'avg': 100058341.25789362,\n",
       "  'cpv': 'Administration, defence and social security services'}]"
      ]
     },
     "execution_count": 144,
     "metadata": {},
     "output_type": "execute_result"
    }
   ],
   "source": [
    "match = {\n",
    "    '$match': {\n",
    "        '$and': [{'YEAR': {'$gte': bot_year}}, {'YEAR': {'$lte': top_year}}],\n",
    "        'ISO_COUNTRY_CODE': {'$in': country_list},\n",
    "        'B_EU_FUNDS':'Y',\n",
    "        'CPV': {'$exists': True},\n",
    "        'VALUE_EURO': {'$exists': True}\n",
    "    }\n",
    "}\n",
    "\n",
    "project = {\n",
    "    '$project':{\n",
    "        '_id':False,\n",
    "        'CPV_DIVISION':{'$substr':['$CPV',0,2]},\n",
    "        'VALUE_EURO':True\n",
    "    }\n",
    "}\n",
    "\n",
    "group_cpv_euro_avg = {\n",
    "    '$group':{\n",
    "        '_id':'$CPV_DIVISION',\n",
    "        'AVERAGE_VALUE':{'$avg':'$VALUE_EURO'}\n",
    "    }\n",
    "}\n",
    "\n",
    "sort = {\n",
    "    '$sort':{\n",
    "        'AVERAGE_VALUE':-1\n",
    "    }\n",
    "}\n",
    "\n",
    "limit = {\n",
    "    '$limit':5\n",
    "}\n",
    "\n",
    "lookup = {\n",
    "    '$lookup':{\n",
    "        'from':'cpv',\n",
    "        'localField':'_id',\n",
    "        'foreignField':'cpv_division',\n",
    "        'as':'CPV'\n",
    "    }\n",
    "}\n",
    "\n",
    "project_2 = {\n",
    "    '$project':{\n",
    "        '_id':False,\n",
    "        'cpv':{ \"$arrayElemAt\": [ \"$CPV\", 0] },\n",
    "        'avg':'$AVERAGE_VALUE'\n",
    "    }\n",
    "}\n",
    "\n",
    "project_3 = {\n",
    "    '$project':{\n",
    "        'cpv':'$cpv.cpv_division_description',\n",
    "        'avg':True\n",
    "    }\n",
    "}\n",
    "\n",
    "pipeline = [match, project, group_cpv_euro_avg, sort, limit, lookup, project_2, project_3]\n",
    "\n",
    "list_documents = list(eu.aggregate(pipeline))\n",
    "\n",
    "list_documents"
   ]
  },
  {
   "cell_type": "markdown",
   "metadata": {},
   "source": [
    "7"
   ]
  },
  {
   "cell_type": "code",
   "execution_count": 145,
   "metadata": {
    "scrolled": true
   },
   "outputs": [
    {
     "data": {
      "text/plain": [
       "[{'avg': 7.024116132053385e+21,\n",
       "  'country': 'Germany',\n",
       "  'cpv': 'Office and computing machinery, equipment and supplies except furniture and software packages'},\n",
       " {'avg': 1.1783904571474838e+17,\n",
       "  'country': 'Luxembourg',\n",
       "  'cpv': 'Education and training services'},\n",
       " {'avg': 4.2193654761905e+20,\n",
       "  'country': 'Belgium',\n",
       "  'cpv': 'Administration, defence and social security services'},\n",
       " {'avg': 95402851250.65384,\n",
       "  'country': 'Portugal',\n",
       "  'cpv': 'Software package and information systems'},\n",
       " {'avg': 5.516616089649798e+23,\n",
       "  'country': 'Hungary',\n",
       "  'cpv': 'Sewage, refuse, cleaning and environmental services'},\n",
       " {'avg': 208508349487.47842,\n",
       "  'country': 'Italy',\n",
       "  'cpv': 'Financial and insurance services'},\n",
       " {'avg': 4412244361.440209, 'country': 'France', 'cpv': 'Construction work'},\n",
       " {'avg': 24569297879.525707,\n",
       "  'cpv': 'Sewage, refuse, cleaning and environmental services'},\n",
       " {'avg': 15663492.940833332, 'country': 'Malta'},\n",
       " {'avg': 28596764.27442786,\n",
       "  'country': 'Romania',\n",
       "  'cpv': 'Services related to the oil and gas industry'},\n",
       " {'avg': 39885178.04186813,\n",
       "  'country': 'Spain',\n",
       "  'cpv': 'Machinery for mining, quarrying, construction equipment'},\n",
       " {'avg': 65195674.011, 'country': 'Austria'},\n",
       " {'avg': 46189591491215.945,\n",
       "  'country': 'Poland',\n",
       "  'cpv': 'Research and development services and related consultancy services'},\n",
       " {'avg': 46961411.91586687, 'country': 'Czechia'},\n",
       " {'avg': 4222594.91,\n",
       "  'country': 'Liechtenstein',\n",
       "  'cpv': 'Laboratory, optical and precision equipments (excl. glasses)'},\n",
       " {'avg': 5809042.434173228,\n",
       "  'country': 'Estonia',\n",
       "  'cpv': 'Transport services (excl. Waste transport)'},\n",
       " {'avg': 126020768.2974043,\n",
       "  'country': 'Sweden',\n",
       "  'cpv': 'Financial and insurance services'},\n",
       " {'avg': 106421509.66666667, 'country': 'Cyprus', 'cpv': 'Public utilities'},\n",
       " {'avg': 9341273.241666667,\n",
       "  'country': 'Croatia',\n",
       "  'cpv': 'Services related to the oil and gas industry'},\n",
       " {'avg': 15488975.092580644,\n",
       "  'country': 'Switzerland',\n",
       "  'cpv': 'Radio, television, communication, telecommunication and related equipment'},\n",
       " {'avg': 351040250.1671642, 'country': 'Finland', 'cpv': 'Public utilities'},\n",
       " {'avg': 900960935.7881273,\n",
       "  'country': 'Denmark',\n",
       "  'cpv': 'Repair and maintenance services'},\n",
       " {'avg': 27372424.820588768,\n",
       "  'country': 'Latvia',\n",
       "  'cpv': 'Transport services (excl. Waste transport)'},\n",
       " {'avg': 3771247.3,\n",
       "  'country': 'Bulgaria',\n",
       "  'cpv': 'Transport services (excl. Waste transport)'},\n",
       " {'avg': 19357961875957.81,\n",
       "  'country': 'Greece',\n",
       "  'cpv': 'Health and social work services'},\n",
       " {'avg': 4495347.570259434,\n",
       "  'country': 'North Macedonia',\n",
       "  'cpv': 'Construction work'},\n",
       " {'avg': 109004495.11163844,\n",
       "  'country': 'Lithuania',\n",
       "  'cpv': 'Business services: law, marketing, consulting, recruitment, printing and security'},\n",
       " {'avg': 622366173849.4525, 'country': 'Ireland', 'cpv': 'Construction work'},\n",
       " {'avg': 11765445236.471529,\n",
       "  'country': 'Netherlands',\n",
       "  'cpv': 'Clothing, footwear, luggage articles and accessories'},\n",
       " {'avg': 67815209.40203072,\n",
       "  'country': 'Slovakia',\n",
       "  'cpv': 'Agricultural, forestry, horticultural, aquacultural and apicultural services'},\n",
       " {'avg': 39725631.94301483,\n",
       "  'country': 'Norway',\n",
       "  'cpv': 'Transport services (excl. Waste transport)'},\n",
       " {'avg': 196715366.62347823,\n",
       "  'country': 'Iceland',\n",
       "  'cpv': 'Food, beverages, tobacco and related products'},\n",
       " {'avg': 6470324.213549952,\n",
       "  'country': 'Slovenia',\n",
       "  'cpv': 'Agricultural, forestry, horticultural, aquacultural and apicultural services'}]"
      ]
     },
     "execution_count": 145,
     "metadata": {},
     "output_type": "execute_result"
    }
   ],
   "source": [
    "match = {\n",
    "    '$match': {\n",
    "        '$and': [{'YEAR': {'$gte': bot_year}}, {'YEAR': {'$lte': top_year}}],\n",
    "        'ISO_COUNTRY_CODE': {'$in': country_list},\n",
    "        'CPV': {'$exists': True},\n",
    "        'VALUE_EURO': {'$exists': True}\n",
    "    }\n",
    "}\n",
    "\n",
    "project = {\n",
    "    '$project':{\n",
    "        '_id':False,\n",
    "        'CPV_DIVISION':{'$substr':['$CPV',0,2]},\n",
    "        'ISO_COUNTRY_CODE':True,\n",
    "        'VALUE_EURO':True\n",
    "    }\n",
    "}\n",
    "\n",
    "group_cpv_country_euro_avg = {\n",
    "    '$group':{\n",
    "        '_id':{'CPV_DIVISION':'$CPV_DIVISION','COUNTRY':'$ISO_COUNTRY_CODE'},\n",
    "        'AVERAGE_VALUE':{'$avg':'$VALUE_EURO'}\n",
    "    }\n",
    "}\n",
    "\n",
    "sort = {\n",
    "    '$sort':{\n",
    "        'AVERAGE_VALUE':-1\n",
    "    }\n",
    "}\n",
    "\n",
    "group_2 = {\n",
    "    '$group':{\n",
    "        '_id':'$_id.COUNTRY',\n",
    "        'VALUE':{'$first':'$AVERAGE_VALUE'},\n",
    "        'CPV':{'$first':'$_id.CPV_DIVISION'}\n",
    "    }\n",
    "}\n",
    "\n",
    "lookup_country = {\n",
    "    '$lookup':{\n",
    "        'from':'iso_codes',\n",
    "        'localField':'_id',\n",
    "        'foreignField':'alpha-2',\n",
    "        'as':'COUNTRY'\n",
    "    }\n",
    "}\n",
    "\n",
    "lookup_cpv = {\n",
    "    '$lookup':{\n",
    "        'from':'cpv',\n",
    "        'localField':'CPV',\n",
    "        'foreignField':'cpv_division',\n",
    "        'as':'CPV'\n",
    "    }\n",
    "}\n",
    "\n",
    "project_2 = {\n",
    "    '$project':{\n",
    "        '_id':False,\n",
    "        'country':{ \"$arrayElemAt\": [ \"$COUNTRY\", 0] },\n",
    "        'cpv':{ \"$arrayElemAt\": [ \"$CPV\", 0] },\n",
    "        'avg':'$VALUE'\n",
    "    }\n",
    "}\n",
    "\n",
    "project_3 = {\n",
    "    '$project':{\n",
    "        'country':'$country.name',\n",
    "        'cpv':'$cpv.cpv_division_description',\n",
    "        'avg':True\n",
    "    }\n",
    "}\n",
    "\n",
    "pipeline = [match, project, group_cpv_country_euro_avg, sort, group_2, lookup_country, lookup_cpv, project_2, project_3]\n",
    "\n",
    "list_documents = list(eu.aggregate(pipeline))\n",
    "\n",
    "list_documents"
   ]
  },
  {
   "cell_type": "code",
   "execution_count": 94,
   "metadata": {},
   "outputs": [],
   "source": [
    "cpv = '50'\n",
    "limit = {\n",
    "    '$limit':5\n",
    "}"
   ]
  },
  {
   "cell_type": "markdown",
   "metadata": {},
   "source": [
    "8"
   ]
  },
  {
   "cell_type": "code",
   "execution_count": 146,
   "metadata": {},
   "outputs": [
    {
     "data": {
      "text/plain": [
       "[{'count': 16658, 'bucket': 0},\n",
       " {'count': 11690, 'bucket': 100000},\n",
       " {'count': 9105, 'bucket': 200000},\n",
       " {'count': 6471, 'bucket': 300000},\n",
       " {'count': 4597, 'bucket': 400000},\n",
       " {'count': 3989, 'bucket': 500000},\n",
       " {'count': 3172, 'bucket': 600000},\n",
       " {'count': 2128, 'bucket': 700000},\n",
       " {'count': 1992, 'bucket': 800000},\n",
       " {'count': 1597, 'bucket': 900000},\n",
       " {'count': 30944, 'bucket': '>1000000'}]"
      ]
     },
     "execution_count": 146,
     "metadata": {},
     "output_type": "execute_result"
    }
   ],
   "source": [
    "project = {\n",
    "    '$project':{\n",
    "        '_id':False,\n",
    "        'CPV_DIVISION':{'$substr':['$CPV',0,2]},\n",
    "        'YEAR':True,\n",
    "        'ISO_COUNTRY_CODE':True,\n",
    "        'VALUE_EURO':True\n",
    "    }\n",
    "}\n",
    "\n",
    "match = {\n",
    "    '$match': {\n",
    "            '$and': [{'YEAR': {'$gte': bot_year}}, {'YEAR': {'$lte': top_year}}],\n",
    "            'ISO_COUNTRY_CODE': {'$in': country_list},\n",
    "            'CPV_DIVISION': {'$eq': cpv},\n",
    "            'VALUE_EURO': {'$exists': True}\n",
    "        }\n",
    "}\n",
    "\n",
    "bucket = {\n",
    "    '$bucket':{\n",
    "        'groupBy':'$VALUE_EURO',\n",
    "        'boundaries':[0,100000,200000,300000,400000,500000,600000,700000,800000,900000,1000000],\n",
    "        'default':'>1000000',\n",
    "        'output':{\n",
    "            'count':{'$sum':1}\n",
    "        }\n",
    "    }\n",
    "}\n",
    "\n",
    "project_2 = {\n",
    "    '$project':{\n",
    "        '_id':False,\n",
    "        'bucket':'$_id',\n",
    "        'count':True\n",
    "    }\n",
    "}\n",
    "\n",
    "pipeline = [project, match, bucket, project_2]\n",
    "\n",
    "list_documents = list(eu.aggregate(pipeline))\n",
    "\n",
    "list_documents"
   ]
  },
  {
   "cell_type": "markdown",
   "metadata": {},
   "source": [
    "9"
   ]
  },
  {
   "cell_type": "code",
   "execution_count": 155,
   "metadata": {},
   "outputs": [
    {
     "data": {
      "text/plain": [
       "[{'time_difference': 7244257579.318449,\n",
       "  'value_difference': -1958483979783.1184,\n",
       "  'cpv': 'Health and social work services'},\n",
       " {'time_difference': 6794850290.135397,\n",
       "  'value_difference': -5810132.68653127,\n",
       "  'cpv': 'Public utilities'},\n",
       " {'time_difference': 6413545601.180074,\n",
       "  'value_difference': -273960804847444.7,\n",
       "  'cpv': 'Education and training services'},\n",
       " {'time_difference': 6297930053.34914,\n",
       "  'value_difference': -5266215.365157084,\n",
       "  'cpv': 'Services related to the oil and gas industry'},\n",
       " {'time_difference': 6215720703.013337,\n",
       "  'value_difference': -1625255.8773377757,\n",
       "  'cpv': 'Food, beverages, tobacco and related products'}]"
      ]
     },
     "execution_count": 155,
     "metadata": {},
     "output_type": "execute_result"
    }
   ],
   "source": [
    "match = {\n",
    "    '$match': {\n",
    "        '$and': [{'YEAR': {'$gte': bot_year}}, {'YEAR': {'$lte': top_year}}],\n",
    "        'ISO_COUNTRY_CODE': {'$in': country_list},\n",
    "        'CPV': {'$exists': True},\n",
    "        'VALUE_EURO': {'$exists': True},\n",
    "        'AWARD_VALUE_EURO': {'$exists': True},\n",
    "        'DT_DISPATCH': {'$exists': True},\n",
    "        'DT_AWARD': {'$exists': True}\n",
    "    }\n",
    "}\n",
    "\n",
    "project = {\n",
    "    '$project':{\n",
    "        '_id':False,\n",
    "        'CPV_DIVISION':{'$substr':['$CPV',0,2]},\n",
    "        'AWARD_VALUE_EURO':True,\n",
    "        'VALUE_EURO':True,\n",
    "        'DT_DISPATCH_DATE':{'$dateFromString':{'dateString':'$DT_DISPATCH'}},\n",
    "        'DT_AWARD_DATE':{'$dateFromString':{'dateString':'$DT_AWARD'}},\n",
    "    }\n",
    "}\n",
    "\n",
    "project_2 = {\n",
    "    '$project':{\n",
    "        'CPV_DIVISION':True,\n",
    "        'TIME_DIFFERENCE':{'$subtract':['$DT_DISPATCH_DATE','$DT_AWARD_DATE']},\n",
    "        'VALUE_DIFFERENCE':{'$subtract':['$AWARD_VALUE_EURO','$VALUE_EURO']}\n",
    "    }\n",
    "}\n",
    "\n",
    "group_cpv_difference = {\n",
    "    '$group':{\n",
    "        '_id':'$CPV_DIVISION',\n",
    "        'AVG_TIME_DIFFERENCE':{'$avg':'$TIME_DIFFERENCE'},\n",
    "        'AVG_VALUE_DIFFERENCE':{'$avg':'$VALUE_DIFFERENCE'}\n",
    "    }\n",
    "}\n",
    "\n",
    "sort = {\n",
    "    '$sort':{\n",
    "        'AVG_TIME_DIFFERENCE':-1\n",
    "    }\n",
    "}\n",
    "\n",
    "limit = {\n",
    "    '$limit':5\n",
    "}\n",
    "\n",
    "lookup = {\n",
    "    '$lookup':{\n",
    "        'from':'cpv',\n",
    "        'localField':'_id',\n",
    "        'foreignField':'cpv_division',\n",
    "        'as':'CPV'\n",
    "    }\n",
    "}\n",
    "\n",
    "project_3 = {\n",
    "    '$project':{\n",
    "        '_id':False,\n",
    "        'cpv':{ \"$arrayElemAt\": [ \"$CPV\", 0] },\n",
    "        'time_difference':'$AVG_TIME_DIFFERENCE',\n",
    "        'value_difference':'$AVG_VALUE_DIFFERENCE'\n",
    "    }\n",
    "}\n",
    "\n",
    "project_4 = {\n",
    "    '$project':{\n",
    "        'cpv':'$cpv.cpv_division_description',\n",
    "        'time_difference':True,\n",
    "        'value_difference':True\n",
    "    }\n",
    "}\n",
    "\n",
    "pipeline = [match, project, project_2, group_cpv_difference, sort, limit, lookup, project_3, project_4]\n",
    "\n",
    "list_documents = list(eu.aggregate(pipeline))\n",
    "\n",
    "list_documents"
   ]
  },
  {
   "cell_type": "markdown",
   "metadata": {},
   "source": [
    "10.1"
   ]
  },
  {
   "cell_type": "code",
   "execution_count": 156,
   "metadata": {},
   "outputs": [
    {
     "data": {
      "text/plain": [
       "7.156703471406817e+20"
      ]
     },
     "execution_count": 156,
     "metadata": {},
     "output_type": "execute_result"
    }
   ],
   "source": [
    "match = {\n",
    "    '$match': {\n",
    "        '$and': [{'YEAR': {'$gte': bot_year}}, {'YEAR': {'$lte': top_year}}],\n",
    "        'ISO_COUNTRY_CODE': {'$in': country_list}\n",
    "    }\n",
    "}\n",
    "\n",
    "match_value_euro = {\n",
    "    '$match':{\n",
    "        'VALUE_EURO': {'$exists': True}\n",
    "    }\n",
    "}\n",
    "\n",
    "group_country_euro_avg = {\n",
    "    '$group':{\n",
    "        '_id':'$ISO_COUNTRY_CODE',\n",
    "        'AVERAGE_VALUE':{'$avg':'$VALUE_EURO'}\n",
    "    }\n",
    "}\n",
    "\n",
    "group_country_euro_avg_2 = {\n",
    "    '$group':{\n",
    "        '_id':None,\n",
    "        'AVERAGE_COUNTRY_VALUE':{'$avg':'$AVERAGE_VALUE'}\n",
    "    }\n",
    "}\n",
    "\n",
    "pipeline_country_euro_avg = [match, match_value_euro, group_country_euro_avg, group_country_euro_avg_2]\n",
    "\n",
    "agg_country_euro_avg = list(eu.aggregate(pipeline_country_euro_avg))\n",
    "\n",
    "agg_country_euro_avg[0]['AVERAGE_COUNTRY_VALUE']"
   ]
  },
  {
   "cell_type": "markdown",
   "metadata": {},
   "source": [
    "10.2"
   ]
  },
  {
   "cell_type": "code",
   "execution_count": 157,
   "metadata": {},
   "outputs": [
    {
     "data": {
      "text/plain": [
       "168587.0303030303"
      ]
     },
     "execution_count": 157,
     "metadata": {},
     "output_type": "execute_result"
    }
   ],
   "source": [
    "group_country_count = {\n",
    "    '$group':{\n",
    "        '_id':'$ISO_COUNTRY_CODE',\n",
    "        'COUNT':{'$sum':1}\n",
    "    }\n",
    "}\n",
    "\n",
    "group_country_count_2 = {\n",
    "    '$group':{\n",
    "        '_id':None,\n",
    "        'AVERAGE_COUNT':{'$avg':'$COUNT'}\n",
    "    }\n",
    "}\n",
    "\n",
    "pipeline_country_count = [match, group_country_count, group_country_count_2]\n",
    "\n",
    "agg_country_count = list(eu.aggregate(pipeline_country_count))\n",
    "\n",
    "agg_country_count[0]['AVERAGE_COUNT']"
   ]
  },
  {
   "cell_type": "markdown",
   "metadata": {},
   "source": [
    "10.3"
   ]
  },
  {
   "cell_type": "code",
   "execution_count": 178,
   "metadata": {},
   "outputs": [
    {
     "data": {
      "text/plain": [
       "13.21615363027698"
      ]
     },
     "execution_count": 178,
     "metadata": {},
     "output_type": "execute_result"
    }
   ],
   "source": [
    "match_number_offers = {\n",
    "    '$match':{\n",
    "        'NUMBER_OFFERS': {'$exists': True}\n",
    "    }\n",
    "}\n",
    "\n",
    "group_country_offer_avg = {\n",
    "    '$group':{\n",
    "        '_id':'$ISO_COUNTRY_CODE',\n",
    "        'AVERAGE_OFFERS':{'$avg':'$NUMBER_OFFERS'}\n",
    "    }\n",
    "}\n",
    "\n",
    "group_country_offer_avg_2 = {\n",
    "    '$group':{\n",
    "        '_id':None,\n",
    "        'AVERAGE_COUNTRY_OFFERS':{'$avg':'$AVERAGE_OFFERS'}\n",
    "    }\n",
    "}\n",
    "\n",
    "pipeline_country_offer_avg = [match, match_number_offers, group_country_offer_avg, group_country_offer_avg_2]\n",
    "\n",
    "agg_country_offer_avg = list(eu.aggregate(pipeline_country_offer_avg))\n",
    "\n",
    "agg_country_offer_avg[0]['AVERAGE_COUNTRY_OFFERS']"
   ]
  },
  {
   "cell_type": "markdown",
   "metadata": {},
   "source": [
    "10.4"
   ]
  },
  {
   "cell_type": "code",
   "execution_count": 159,
   "metadata": {},
   "outputs": [
    {
     "data": {
      "text/plain": [
       "3.952232841686021e+21"
      ]
     },
     "execution_count": 159,
     "metadata": {},
     "output_type": "execute_result"
    }
   ],
   "source": [
    "match_country_euro_avg_y_eu = {\n",
    "    '$match':{\n",
    "        'B_EU_FUNDS':'Y'\n",
    "    }\n",
    "}\n",
    "\n",
    "pipeline_country_euro_avg_y_eu = [match, match_value_euro, match_country_euro_avg_y_eu, group_country_euro_avg, group_country_euro_avg_2]\n",
    "\n",
    "agg_country_euro_avg_y_eu = list(eu.aggregate(pipeline_country_euro_avg_y_eu))\n",
    "\n",
    "agg_country_euro_avg_y_eu[0]['AVERAGE_COUNTRY_VALUE']"
   ]
  },
  {
   "cell_type": "markdown",
   "metadata": {},
   "source": [
    "10.5"
   ]
  },
  {
   "cell_type": "code",
   "execution_count": 160,
   "metadata": {},
   "outputs": [
    {
     "data": {
      "text/plain": [
       "5.439355769457974e+18"
      ]
     },
     "execution_count": 160,
     "metadata": {},
     "output_type": "execute_result"
    }
   ],
   "source": [
    "match_country_euro_avg_n_eu = {\n",
    "    '$match':{\n",
    "        'B_EU_FUNDS':'N'\n",
    "    }\n",
    "}\n",
    "\n",
    "pipeline_country_euro_avg_n_eu = [match, match_value_euro, match_country_euro_avg_n_eu, group_country_euro_avg, group_country_euro_avg_2]\n",
    "\n",
    "agg_country_euro_avg_n_eu = list(eu.aggregate(pipeline_country_euro_avg_n_eu))\n",
    "\n",
    "agg_country_euro_avg_n_eu[0]['AVERAGE_COUNTRY_VALUE']"
   ]
  },
  {
   "cell_type": "markdown",
   "metadata": {},
   "source": [
    "11"
   ]
  },
  {
   "cell_type": "code",
   "execution_count": 100,
   "metadata": {
    "scrolled": true
   },
   "outputs": [
    {
     "data": {
      "text/plain": [
       "[{'count': 72794, 'country': 'Hungary'},\n",
       " {'count': 39049, 'country': 'Norway'},\n",
       " {'count': 40809, 'country': 'Slovakia'},\n",
       " {'count': 1950, 'country': 'Iceland'},\n",
       " {'count': 77642, 'country': 'Belgium'},\n",
       " {'count': 150639, 'country': 'Slovenia'},\n",
       " {'count': 64496, 'country': 'Denmark'},\n",
       " {'count': 123398, 'country': 'Latvia'},\n",
       " {'count': 70955, 'country': 'Finland'},\n",
       " {'count': 25209, 'country': 'Switzerland'},\n",
       " {'count': 79061, 'country': 'Netherlands'},\n",
       " {'count': 117109, 'country': 'Lithuania'},\n",
       " {'count': 140977, 'country': 'Bulgaria'},\n",
       " {'count': 32686, 'country': 'Ireland'},\n",
       " {'count': 48069, 'country': 'Greece'},\n",
       " {'count': 9678, 'country': 'North Macedonia'},\n",
       " {'count': 251927, 'country': 'Spain'},\n",
       " {'count': 37616, 'country': 'Austria'},\n",
       " {'count': 1238186, 'country': 'Poland'},\n",
       " {'count': 346, 'country': 'Liechtenstein'},\n",
       " {'count': 297141, 'country': 'Romania'},\n",
       " {'count': 112423, 'country': 'Sweden'},\n",
       " {'count': 40462, 'country': 'Croatia'},\n",
       " {'count': 8865, 'country': 'Cyprus'},\n",
       " {'count': 128369, 'country': 'Czechia'},\n",
       " {'count': 26992, 'country': 'Estonia'},\n",
       " {'count': 421613, 'country': 'Germany'},\n",
       " {'count': 9961, 'country': 'Luxembourg'},\n",
       " {'count': 204976, 'country': 'Italy'},\n",
       " {'count': 386501},\n",
       " {'count': 1263013, 'country': 'France'},\n",
       " {'count': 35912, 'country': 'Portugal'},\n",
       " {'count': 4548, 'country': 'Malta'}]"
      ]
     },
     "execution_count": 100,
     "metadata": {},
     "output_type": "execute_result"
    }
   ],
   "source": [
    "match = {\n",
    "    '$match': {\n",
    "        '$and': [{'YEAR': {'$gte': bot_year}}, {'YEAR': {'$lte': top_year}}],\n",
    "        'ISO_COUNTRY_CODE': {'$in': country_list}\n",
    "    }\n",
    "}\n",
    "\n",
    "group_country_count = {\n",
    "    '$group':{\n",
    "        '_id':'$ISO_COUNTRY_CODE',\n",
    "        'COUNT':{'$sum':1}\n",
    "    }\n",
    "}\n",
    "\n",
    "lookup = {\n",
    "    '$lookup':{\n",
    "        'from':'iso_codes',\n",
    "        'localField':'_id',\n",
    "        'foreignField':'alpha-2',\n",
    "        'as':'COUNTRY'\n",
    "    }\n",
    "}\n",
    "\n",
    "project = {\n",
    "    '$project':{\n",
    "        '_id':False,\n",
    "        'country':{ \"$arrayElemAt\": [ \"$COUNTRY\", 0] },\n",
    "        'count':'$COUNT'\n",
    "    }\n",
    "}\n",
    "\n",
    "project_2 = {\n",
    "    '$project':{\n",
    "        'country':'$country.name',\n",
    "        'count':True\n",
    "    }\n",
    "}\n",
    "\n",
    "pipeline = [match, group_country_count, lookup, project, project_2]\n",
    "\n",
    "list_documents = list(eu.aggregate(pipeline))\n",
    "\n",
    "list_documents"
   ]
  },
  {
   "cell_type": "markdown",
   "metadata": {},
   "source": [
    "12"
   ]
  },
  {
   "cell_type": "code",
   "execution_count": 161,
   "metadata": {},
   "outputs": [
    {
     "data": {
      "text/plain": [
       "[{'avg': 2.3457793956061657e+22, 'country': 'Hungary'},\n",
       " {'avg': 1.565263668670854e+20, 'country': 'Germany'},\n",
       " {'avg': 2.796330886808232e+18, 'country': 'Belgium'},\n",
       " {'avg': 4798276236001678.0, 'country': 'Luxembourg'},\n",
       " {'avg': 3433382284308.2563, 'country': 'Greece'}]"
      ]
     },
     "execution_count": 161,
     "metadata": {},
     "output_type": "execute_result"
    }
   ],
   "source": [
    "match = {\n",
    "    '$match': {\n",
    "        '$and': [{'YEAR': {'$gte': bot_year}}, {'YEAR': {'$lte': top_year}}],\n",
    "        'ISO_COUNTRY_CODE': {'$in': country_list},\n",
    "        'VALUE_EURO': {'$exists': True}\n",
    "    }\n",
    "}\n",
    "\n",
    "group = {\n",
    "    '$group':{\n",
    "        '_id':'$ISO_COUNTRY_CODE',\n",
    "        'AVERAGE':{'$avg':'$VALUE_EURO'}\n",
    "    }\n",
    "}\n",
    "\n",
    "sort = {\n",
    "    '$sort':{\n",
    "        'AVERAGE': -1\n",
    "    }\n",
    "}\n",
    "\n",
    "limit = {\n",
    "    '$limit':5\n",
    "}\n",
    "\n",
    "lookup = {\n",
    "    '$lookup':{\n",
    "        'from':'iso_codes',\n",
    "        'localField':'_id',\n",
    "        'foreignField':'alpha-2',\n",
    "        'as':'COUNTRY'\n",
    "    }\n",
    "}\n",
    "\n",
    "project = {\n",
    "    '$project':{\n",
    "        '_id':False,\n",
    "        'country':{ \"$arrayElemAt\": [ \"$COUNTRY\", 0] },\n",
    "        'avg':'$AVERAGE'\n",
    "    }\n",
    "}\n",
    "\n",
    "project_2 = {\n",
    "    '$project':{\n",
    "        'country':'$country.name',\n",
    "        'avg':True\n",
    "    }\n",
    "}\n",
    "\n",
    "pipeline = [match, group, sort, limit, lookup, project, project_2]\n",
    "\n",
    "list_documents = list(eu.aggregate(pipeline))\n",
    "\n",
    "list_documents"
   ]
  },
  {
   "cell_type": "markdown",
   "metadata": {},
   "source": [
    "13"
   ]
  },
  {
   "cell_type": "code",
   "execution_count": 162,
   "metadata": {},
   "outputs": [
    {
     "data": {
      "text/plain": [
       "[{'avg': 876557.29, 'country': 'North Macedonia'},\n",
       " {'avg': 1209211.7481247569, 'country': 'Bulgaria'},\n",
       " {'avg': 1212932.4157451054, 'country': 'Slovenia'},\n",
       " {'avg': 1363493.8052469224, 'country': 'Cyprus'},\n",
       " {'avg': 1533678.4470194138, 'country': 'Malta'}]"
      ]
     },
     "execution_count": 162,
     "metadata": {},
     "output_type": "execute_result"
    }
   ],
   "source": [
    "match = {\n",
    "    '$match': {\n",
    "        '$and': [{'YEAR': {'$gte': bot_year}}, {'YEAR': {'$lte': top_year}}],\n",
    "        'ISO_COUNTRY_CODE': {'$in': country_list},\n",
    "        'VALUE_EURO': {'$exists': True}\n",
    "    }\n",
    "}\n",
    "\n",
    "group = {\n",
    "    '$group':{\n",
    "        '_id':'$ISO_COUNTRY_CODE',\n",
    "        'AVERAGE':{'$avg':'$VALUE_EURO'}\n",
    "    }\n",
    "}\n",
    "\n",
    "sort = {\n",
    "    '$sort':{\n",
    "        'AVERAGE': 1\n",
    "    }\n",
    "}\n",
    "\n",
    "limit = {\n",
    "    '$limit':5\n",
    "}\n",
    "\n",
    "lookup = {\n",
    "    '$lookup':{\n",
    "        'from':'iso_codes',\n",
    "        'localField':'_id',\n",
    "        'foreignField':'alpha-2',\n",
    "        'as':'COUNTRY'\n",
    "    }\n",
    "}\n",
    "\n",
    "project = {\n",
    "    '$project':{\n",
    "        '_id':False,\n",
    "        'country':{ \"$arrayElemAt\": [ \"$COUNTRY\", 0] },\n",
    "        'avg':'$AVERAGE'\n",
    "    }\n",
    "}\n",
    "\n",
    "project_2 = {\n",
    "    '$project':{\n",
    "        'country':'$country.name',\n",
    "        'avg':True\n",
    "    }\n",
    "}\n",
    "\n",
    "pipeline = [match, group, sort, limit, lookup, project, project_2]\n",
    "\n",
    "list_documents = list(eu.aggregate(pipeline))\n",
    "\n",
    "list_documents"
   ]
  },
  {
   "cell_type": "markdown",
   "metadata": {},
   "source": [
    "14"
   ]
  },
  {
   "cell_type": "code",
   "execution_count": 163,
   "metadata": {
    "scrolled": true
   },
   "outputs": [
    {
     "data": {
      "text/plain": [
       "[{'sum': 875062978.46, 'country': 'Austria'},\n",
       " {'sum': 133664049320.58, 'country': 'Poland'},\n",
       " {'sum': 70976159414.11, 'country': 'Spain'},\n",
       " {'sum': 10996693088.45, 'country': 'Bulgaria'},\n",
       " {'sum': 29452802221.11, 'country': 'Romania'},\n",
       " {'sum': 627546920.1, 'country': 'Cyprus'},\n",
       " {'sum': 894378979.03, 'country': 'Sweden'},\n",
       " {'sum': 6420994347.13, 'country': 'Estonia'},\n",
       " {'sum': 1157493694.04, 'country': 'Croatia'},\n",
       " {'sum': 43007033483.15, 'country': 'Czechia'},\n",
       " {'sum': 1.708666163059669e+19, 'country': 'Luxembourg'},\n",
       " {'sum': 13229821653.08, 'country': 'Germany'},\n",
       " {'sum': 109474293715.69, 'country': 'France'},\n",
       " {'sum': 1137097615.06, 'country': 'Malta'},\n",
       " {'sum': 72731128631.57, 'country': 'Italy'},\n",
       " {'sum': 1.3471576490942093e+27, 'country': 'Hungary'},\n",
       " {'sum': 1335272224697.2},\n",
       " {'sum': 10829377126.539999, 'country': 'Portugal'},\n",
       " {'sum': 33734105558.82, 'country': 'Slovakia'},\n",
       " {'sum': 27142128.09, 'country': 'Norway'},\n",
       " {'sum': 8.181162968574296e+17, 'country': 'Belgium'},\n",
       " {'sum': 5441697306.31, 'country': 'Slovenia'},\n",
       " {'sum': 56710613468.38, 'country': 'Latvia'},\n",
       " {'sum': 6621970949.15, 'country': 'Denmark'},\n",
       " {'sum': 2490943993.64, 'country': 'Finland'},\n",
       " {'sum': 9486496427.27, 'country': 'Lithuania'},\n",
       " {'sum': 2704277735.66, 'country': 'Netherlands'},\n",
       " {'sum': 3338394075.65, 'country': 'Ireland'},\n",
       " {'sum': 50167185957.3, 'country': 'Greece'},\n",
       " {'sum': 452344940.36, 'country': 'North Macedonia'}]"
      ]
     },
     "execution_count": 163,
     "metadata": {},
     "output_type": "execute_result"
    }
   ],
   "source": [
    "match = {\n",
    "    '$match': {\n",
    "        '$and': [{'YEAR': {'$gte': bot_year}}, {'YEAR': {'$lte': top_year}}],\n",
    "        'ISO_COUNTRY_CODE': {'$in': country_list},\n",
    "        'B_EU_FUNDS': 'Y',\n",
    "        'VALUE_EURO': {'$exists': True}\n",
    "    }\n",
    "}\n",
    "\n",
    "group = {\n",
    "    '$group':{\n",
    "        '_id':'$ISO_COUNTRY_CODE',\n",
    "        'SUM':{'$sum':'$VALUE_EURO'}\n",
    "    }\n",
    "}\n",
    "\n",
    "lookup = {\n",
    "    '$lookup':{\n",
    "        'from':'iso_codes',\n",
    "        'localField':'_id',\n",
    "        'foreignField':'alpha-2',\n",
    "        'as':'COUNTRY'\n",
    "    }\n",
    "}\n",
    "\n",
    "project = {\n",
    "    '$project':{\n",
    "        '_id':False,\n",
    "        'country':{ \"$arrayElemAt\": [ \"$COUNTRY\", 0] },\n",
    "        'sum':'$SUM'\n",
    "    }\n",
    "}\n",
    "\n",
    "project_2 = {\n",
    "    '$project':{\n",
    "        'country':'$country.name',\n",
    "        'sum':True\n",
    "    }\n",
    "}\n",
    "\n",
    "pipeline = [match, group, lookup, project, project_2]\n",
    "\n",
    "list_documents = list(eu.aggregate(pipeline))\n",
    "\n",
    "list_documents"
   ]
  },
  {
   "cell_type": "markdown",
   "metadata": {},
   "source": [
    "15.1"
   ]
  },
  {
   "cell_type": "code",
   "execution_count": 164,
   "metadata": {},
   "outputs": [
    {
     "data": {
      "text/plain": [
       "1.5357427661608777e+21"
      ]
     },
     "execution_count": 164,
     "metadata": {},
     "output_type": "execute_result"
    }
   ],
   "source": [
    "#%%timeit\n",
    "\n",
    "match = {\n",
    "    '$match': {\n",
    "        '$and': [{'YEAR': {'$gte': bot_year}}, {'YEAR': {'$lte': top_year}}],\n",
    "        'ISO_COUNTRY_CODE': {'$in': country_list},\n",
    "        'CAE_NAME': {'$exists': True}\n",
    "    }\n",
    "}\n",
    "\n",
    "match_value_euro = {\n",
    "    '$match':{\n",
    "        'VALUE_EURO': {'$exists': True}\n",
    "    }\n",
    "}\n",
    "\n",
    "group_cae_euro_avg = {\n",
    "    '$group':{\n",
    "        '_id':'$CAE_NAME',\n",
    "        'AVERAGE_VALUE':{'$avg':'$VALUE_EURO'}\n",
    "    }\n",
    "}\n",
    "\n",
    "group_cae_euro_avg_2 = {\n",
    "    '$group':{\n",
    "        '_id':None,\n",
    "        'AVERAGE_CAE_VALUE':{'$avg':'$AVERAGE_VALUE'}\n",
    "    }\n",
    "}\n",
    "\n",
    "pipeline_cae_euro_avg = [match, match_value_euro, group_cae_euro_avg, group_cae_euro_avg_2]\n",
    "\n",
    "agg_business_euro_avg = list(eu.aggregate(pipeline_cae_euro_avg))\n",
    "\n",
    "agg_business_euro_avg[0]['AVERAGE_CAE_VALUE']"
   ]
  },
  {
   "cell_type": "markdown",
   "metadata": {},
   "source": [
    "15.2"
   ]
  },
  {
   "cell_type": "code",
   "execution_count": 165,
   "metadata": {},
   "outputs": [
    {
     "data": {
      "text/plain": [
       "24.281476955307262"
      ]
     },
     "execution_count": 165,
     "metadata": {},
     "output_type": "execute_result"
    }
   ],
   "source": [
    "group_cae_count = {\n",
    "    '$group':{\n",
    "        '_id':'$CAE_NAME',\n",
    "        'COUNT':{'$sum':1}\n",
    "    }\n",
    "}\n",
    "\n",
    "group_cae_count_2 = {\n",
    "    '$group':{\n",
    "        '_id':None,\n",
    "        'AVERAGE_COUNT':{'$avg':'$COUNT'}\n",
    "    }\n",
    "}\n",
    "\n",
    "pipeline_cae_count = [match, group_cae_count, group_cae_count_2]\n",
    "\n",
    "agg_business_count = list(eu.aggregate(pipeline_cae_count))\n",
    "\n",
    "agg_business_count[0]['AVERAGE_COUNT']"
   ]
  },
  {
   "cell_type": "markdown",
   "metadata": {},
   "source": [
    "15.3"
   ]
  },
  {
   "cell_type": "code",
   "execution_count": 179,
   "metadata": {},
   "outputs": [
    {
     "data": {
      "text/plain": [
       "5.9205004347375985"
      ]
     },
     "execution_count": 179,
     "metadata": {},
     "output_type": "execute_result"
    }
   ],
   "source": [
    "match_number_offers = {\n",
    "    '$match':{\n",
    "        'NUMBER_OFFERS': {'$exists': True}\n",
    "    }\n",
    "}\n",
    "\n",
    "group_cae_offer_avg = {\n",
    "    '$group':{\n",
    "        '_id':'$CAE_NAME',\n",
    "        'AVERAGE_OFFERS':{'$avg':'$NUMBER_OFFERS'}\n",
    "    }\n",
    "}\n",
    "\n",
    "group_cae_offer_avg_2 = {\n",
    "    '$group':{\n",
    "        '_id':None,\n",
    "        'AVERAGE_CAE_OFFERS':{'$avg':'$AVERAGE_OFFERS'}\n",
    "    }\n",
    "}\n",
    "\n",
    "pipeline_cae_offer_avg = [match, match_number_offers, group_cae_offer_avg, group_cae_offer_avg_2]\n",
    "\n",
    "agg_cae_offer_avg = list(eu.aggregate(pipeline_cae_offer_avg))\n",
    "\n",
    "agg_cae_offer_avg[0]['AVERAGE_CAE_OFFERS']"
   ]
  },
  {
   "cell_type": "markdown",
   "metadata": {},
   "source": [
    "15.4"
   ]
  },
  {
   "cell_type": "code",
   "execution_count": 167,
   "metadata": {},
   "outputs": [
    {
     "data": {
      "text/plain": [
       "8.713714281456143e+21"
      ]
     },
     "execution_count": 167,
     "metadata": {},
     "output_type": "execute_result"
    }
   ],
   "source": [
    "match_cae_euro_avg_y_eu = {\n",
    "    '$match':{\n",
    "        'B_EU_FUNDS':'Y'\n",
    "    }\n",
    "}\n",
    "\n",
    "pipeline_cae_euro_avg_y_eu = [match, match_value_euro, match_cae_euro_avg_y_eu, group_cae_euro_avg, group_cae_euro_avg_2]\n",
    "\n",
    "agg_cae_euro_avg_y_eu = list(eu.aggregate(pipeline_cae_euro_avg_y_eu))\n",
    "\n",
    "agg_cae_euro_avg_y_eu[0]['AVERAGE_CAE_VALUE']"
   ]
  },
  {
   "cell_type": "markdown",
   "metadata": {},
   "source": [
    "15.5"
   ]
  },
  {
   "cell_type": "code",
   "execution_count": 168,
   "metadata": {},
   "outputs": [
    {
     "data": {
      "text/plain": [
       "2.5076713650456643e+18"
      ]
     },
     "execution_count": 168,
     "metadata": {},
     "output_type": "execute_result"
    }
   ],
   "source": [
    "match_cae_euro_avg_n_eu = {\n",
    "    '$match':{\n",
    "        'B_EU_FUNDS':'N'\n",
    "    }\n",
    "}\n",
    "\n",
    "pipeline_cae_euro_avg_n_eu = [match, match_value_euro, match_cae_euro_avg_n_eu, group_cae_euro_avg, group_cae_euro_avg_2]\n",
    "\n",
    "agg_cae_euro_avg_n_eu = list(eu.aggregate(pipeline_cae_euro_avg_n_eu))\n",
    "\n",
    "agg_cae_euro_avg_n_eu[0]['AVERAGE_CAE_VALUE']"
   ]
  },
  {
   "cell_type": "markdown",
   "metadata": {},
   "source": [
    "16"
   ]
  },
  {
   "cell_type": "code",
   "execution_count": 169,
   "metadata": {},
   "outputs": [
    {
     "data": {
      "text/plain": [
       "[{'company': 'Közép-dunántúli Vízügyi Igazgatóság',\n",
       "  'avg': 2.2452627484874678e+26},\n",
       " {'company': 'European Aviation Safety Agency', 'avg': 3e+23},\n",
       " {'company': 'European Commission, European Administrative School',\n",
       "  'avg': 4.3435e+21},\n",
       " {'company': 'European Commission, Joint Research Centre, Institute for Reference Materials and Measurements',\n",
       "  'avg': 5.8582930565313934e+20},\n",
       " {'company': 'European Commission, Directorate-General for Employment, Social Affairs and Inclusion, Unit G3',\n",
       "  'avg': 4.66764814e+17}]"
      ]
     },
     "execution_count": 169,
     "metadata": {},
     "output_type": "execute_result"
    }
   ],
   "source": [
    "match = {\n",
    "    '$match': {\n",
    "        '$and': [{'YEAR': {'$gte': bot_year}}, {'YEAR': {'$lte': top_year}}],\n",
    "        'ISO_COUNTRY_CODE': {'$in': country_list},\n",
    "        'CAE_NAME': {'$exists': True},\n",
    "        'VALUE_EURO': {'$exists': True}\n",
    "    }\n",
    "}\n",
    "\n",
    "group = {\n",
    "    '$group':{\n",
    "        '_id':'$CAE_NAME',\n",
    "        'AVERAGE':{'$avg':'$VALUE_EURO'}\n",
    "    }\n",
    "}\n",
    "sort = {\n",
    "    '$sort':{\n",
    "        'AVERAGE': -1\n",
    "    }\n",
    "}\n",
    "\n",
    "limit = {\n",
    "    '$limit':5\n",
    "}\n",
    "\n",
    "\n",
    "project = {\n",
    "    '$project':{\n",
    "        '_id':False,\n",
    "        'company':'$_id',\n",
    "        'avg':'$AVERAGE'\n",
    "    }\n",
    "}\n",
    "\n",
    "pipeline = [match, group, sort, limit, project]\n",
    "\n",
    "list_documents = list(eu.aggregate(pipeline))\n",
    "\n",
    "list_documents"
   ]
  },
  {
   "cell_type": "markdown",
   "metadata": {},
   "source": [
    "17"
   ]
  },
  {
   "cell_type": "code",
   "execution_count": 170,
   "metadata": {},
   "outputs": [
    {
     "data": {
      "text/plain": [
       "[{'company': 'Verkehrs- und Tarifverbund Stuttgart GmbH', 'avg': 0.01},\n",
       " {'company': 'Hansestadt Attendorn', 'avg': 0.01},\n",
       " {'company': 'Land Hessen vertreten durch das Hessisches Competence Center – Zentrale Beschaffung',\n",
       "  'avg': 0.01},\n",
       " {'company': 'St. Elisabeth-Gruppe GmbH – Kath. Kliniken Rhein-Ruhr',\n",
       "  'avg': 0.01},\n",
       " {'company': 'Bayerischer Rundfunk (BR)---Deutsche Welle---Hessischer Rundfunk (HR)---RADIO BREMEN (RB)---Saarländischer Rundfunk (SR)---Westdeutscher Rundfunk (WDR)',\n",
       "  'avg': 0.01}]"
      ]
     },
     "execution_count": 170,
     "metadata": {},
     "output_type": "execute_result"
    }
   ],
   "source": [
    "match = {\n",
    "    '$match': {\n",
    "        '$and': [{'YEAR': {'$gte': bot_year}}, {'YEAR': {'$lte': top_year}}],\n",
    "        'ISO_COUNTRY_CODE': {'$in': country_list},\n",
    "        'CAE_NAME': {'$exists': True},\n",
    "        'VALUE_EURO': {'$exists': True}\n",
    "    }\n",
    "}\n",
    "\n",
    "group = {\n",
    "    '$group':{\n",
    "        '_id':'$CAE_NAME',\n",
    "        'AVERAGE':{'$avg':'$VALUE_EURO'}\n",
    "    }\n",
    "}\n",
    "sort = {\n",
    "    '$sort':{\n",
    "        'AVERAGE': 1\n",
    "    }\n",
    "}\n",
    "\n",
    "limit = {\n",
    "    '$limit':5\n",
    "}\n",
    "\n",
    "\n",
    "project = {\n",
    "    '$project':{\n",
    "        '_id':False,\n",
    "        'company':'$_id',\n",
    "        'avg':'$AVERAGE'\n",
    "    }\n",
    "}\n",
    "\n",
    "pipeline = [match, group, sort, limit, project]\n",
    "\n",
    "list_documents = list(eu.aggregate(pipeline))\n",
    "\n",
    "list_documents"
   ]
  },
  {
   "cell_type": "markdown",
   "metadata": {},
   "source": [
    "18"
   ]
  },
  {
   "cell_type": "code",
   "execution_count": 173,
   "metadata": {},
   "outputs": [
    {
     "data": {
      "text/plain": [
       "[{'company': 'Uniwersyteckie Centrum Kliniczne', 'count': 14061},\n",
       " {'company': 'Szpital Kliniczny Przemienienia Pańskiego Uniwersytetu Medycznego im. Karola Marcinkowskiego w Poznaniu',\n",
       "  'count': 12779},\n",
       " {'company': 'Viešoji įstaiga Centrinė projektų valdymo agentūra (126125624)',\n",
       "  'count': 9956},\n",
       " {'company': 'Lesy Slovenskej republiky, štátny podnik', 'count': 9795},\n",
       " {'company': 'Szpital Uniwersytecki w Krakowie', 'count': 9624},\n",
       " {'company': 'Wojewódzki Szpital Zespolony', 'count': 9457},\n",
       " {'company': 'Klinički bolnički centar Rijeka', 'count': 9144},\n",
       " {'company': 'Spitalul Clinic Judetean de Urgenta Sf. Spiridon Iasi',\n",
       "  'count': 8925},\n",
       " {'company': 'Wojskowy Instytut Medyczny', 'count': 8322},\n",
       " {'company': 'Kompania Węglowa S.A.', 'count': 8282},\n",
       " {'company': 'Institutul Oncologic Prof. Dr. I. Chiricuta Cluj-Napoca',\n",
       "  'count': 8088},\n",
       " {'company': 'Sabiedrība ar ierobežotu atbildību “Ogres rajona slimnīca”',\n",
       "  'count': 8049},\n",
       " {'company': 'Valsts reģionālās attīstības aģentūra', 'count': 8035},\n",
       " {'company': 'NHS Supply Chain acting as agent for NHS Business Services Authority',\n",
       "  'count': 7889},\n",
       " {'company': 'Viešoji įstaiga CPO LT', 'count': 7746}]"
      ]
     },
     "execution_count": 173,
     "metadata": {},
     "output_type": "execute_result"
    }
   ],
   "source": [
    "match = {\n",
    "    '$match': {\n",
    "        '$and': [{'YEAR': {'$gte': bot_year}}, {'YEAR': {'$lte': top_year}}],\n",
    "        'ISO_COUNTRY_CODE': {'$in': country_list},\n",
    "        'CAE_NAME': {'$exists': True}\n",
    "    }\n",
    "}\n",
    "\n",
    "group = {\n",
    "    '$group':{\n",
    "        '_id':'$CAE_NAME',\n",
    "        'COUNT':{'$sum':1}\n",
    "    }\n",
    "}\n",
    "\n",
    "sort = {\n",
    "    '$sort':{\n",
    "        'COUNT': -1\n",
    "    }\n",
    "}\n",
    "\n",
    "limit = {\n",
    "    '$limit':15\n",
    "}\n",
    "\n",
    "\n",
    "project = {\n",
    "    '$project':{\n",
    "        '_id':False,\n",
    "        'company':'$_id',\n",
    "        'count':'$COUNT'\n",
    "    }\n",
    "}\n",
    "\n",
    "pipeline = [match, group, sort, limit, project]\n",
    "\n",
    "list_documents = list(eu.aggregate(pipeline))\n",
    "\n",
    "list_documents"
   ]
  },
  {
   "cell_type": "markdown",
   "metadata": {},
   "source": [
    "19"
   ]
  },
  {
   "cell_type": "code",
   "execution_count": 181,
   "metadata": {},
   "outputs": [
    {
     "data": {
      "text/plain": [
       "[{'company': 'European Aviation Safety Agency',\n",
       "  'sum': 3e+25,\n",
       "  'address': 'PO Box 10 12 53 Cologne',\n",
       "  'country': 'Germany'},\n",
       " {'company': 'Executive Agency for Health and Consumers, Consumers and Food Safety Unit',\n",
       "  'sum': 1.7086661628369111e+19,\n",
       "  'address': 'Jean Monnet Building, rue Alcide de Gasperi Luxembourg',\n",
       "  'country': 'Luxembourg'},\n",
       " {'company': 'Közép-dunántúli Vízügyi Igazgatóság',\n",
       "  'sum': 1.3471576490924806e+27,\n",
       "  'address': 'Balatoni út 6. Székesfehérvár',\n",
       "  'country': 'Hungary'},\n",
       " {'company': 'European Maritime Safety Agency',\n",
       "  'sum': 41501352546350.42,\n",
       "  'address': 'Praça Europa 4 Lisbon',\n",
       "  'country': 'Portugal'},\n",
       " {'company': 'Groupe hospitalier HUPNVS',\n",
       "  'sum': 320000266206489.25,\n",
       "  'address': 'Cellule des marchés, hôpital Bretonneau, 23 rue Joseph de Maistre Paris Cedex 18',\n",
       "  'country': 'France'},\n",
       " {'company': 'European Asylum Support Office (EASO)',\n",
       "  'sum': 1010122789.44,\n",
       "  'address': 'MTC Block A, Winemakers Wharf, Grand Harbour Valletta',\n",
       "  'country': 'Malta'},\n",
       " {'company': 'Commissione europea, Centro comune di ricerca, direzione del sito di Ispra',\n",
       "  'sum': 1693663047373236.8,\n",
       "  'address': 'via Enrico Fermi 2749 Ispra VA',\n",
       "  'country': 'Italy'},\n",
       " {'company': 'Directorate-General for Communication, the European Commission Representation in the United Kingdom',\n",
       "  'sum': 165072683111077.5,\n",
       "  'address': \"8 Storey's Gate London\"},\n",
       " {'company': 'Spitalul Clinic Judetean de Urgenta Sf. Spiridon Iasi',\n",
       "  'sum': 32223974758.06,\n",
       "  'address': 'b-dul Independentei, nr. 1 Iasi',\n",
       "  'country': 'Romania'},\n",
       " {'company': 'Frontex',\n",
       "  'sum': 4.97000000399245e+16,\n",
       "  'address': 'Plac Europejski 6 Warsaw',\n",
       "  'country': 'Poland'},\n",
       " {'company': 'Auftraggeber gemäß den Ausschreibungsunterlagen beiliegender Drittkundenliste der Bundesbeschaffung GmbH',\n",
       "  'sum': 35910909098.44,\n",
       "  'address': 'Lassallestraße 9b Wien',\n",
       "  'country': 'Austria'},\n",
       " {'company': 'Dirección General de Racionalización y Centralización de la Contratación',\n",
       "  'sum': 150862766721.68,\n",
       "  'address': 'Alcalá, 9 Madrid',\n",
       "  'country': 'Spain'},\n",
       " {'company': 'Verkehrsbetrieb LIECHTENSTEINmobil',\n",
       "  'sum': 42364253.47,\n",
       "  'address': 'Postplatz 7 Schaan',\n",
       "  'country': 'Liechtenstein'},\n",
       " {'company': 'Eesti Haigekassa',\n",
       "  'sum': 5167017335.1,\n",
       "  'address': 'Lembitu 10 Tallinn',\n",
       "  'country': 'Estonia'},\n",
       " {'company': 'Lesy České republiky, s.p.',\n",
       "  'sum': 34938771816.82,\n",
       "  'address': 'Přemyslova 1106 Hradec Králové',\n",
       "  'country': 'Czechia'},\n",
       " {'company': 'Φαρμακευτικές Υπηρεσίες',\n",
       "  'sum': 2468618054.54,\n",
       "  'address': 'Λεωφόρος Λάρνακας 7, block B, 4ος όροφος Λευκωσία',\n",
       "  'country': 'Cyprus'},\n",
       " {'company': 'Sjunde AP-fonden (AP7)',\n",
       "  'sum': 73769177313.29999,\n",
       "  'address': 'Vasagatan 11 Stockholm',\n",
       "  'country': 'Sweden'},\n",
       " {'company': 'Klinički bolnički centar Rijeka',\n",
       "  'sum': 45126375739.15,\n",
       "  'address': 'Krešimirova 42 Rijeka',\n",
       "  'country': 'Croatia'},\n",
       " {'company': 'Hansel Oy',\n",
       "  'sum': 179976080329,\n",
       "  'address': 'PL 1386, Mannerheiminaukio 1 A Helsinki',\n",
       "  'country': 'Finland'},\n",
       " {'company': 'Bundesamt für Bauten und Logistik BBL',\n",
       "  'sum': 960250011.0,\n",
       "  'address': 'Fellerstrasse 21 Bern',\n",
       "  'country': 'Switzerland'},\n",
       " {'company': 'Statens og Kommunernes Indkøbs Service A/S',\n",
       "  'sum': 1183964160106.83,\n",
       "  'address': 'Zeppelinerhallen, Islands Brygge 55 København S',\n",
       "  'country': 'Denmark'},\n",
       " {'company': 'Valsts reģionālās attīstības aģentūra',\n",
       "  'sum': 42609002312.43,\n",
       "  'address': 'Elizabetes iela 19 Rīga',\n",
       "  'country': 'Latvia'},\n",
       " {'company': 'European Network and Information Security Agency',\n",
       "  'sum': 1.2000000301677662e+17,\n",
       "  'address': 'PO Box 1309 Heraklion',\n",
       "  'country': 'Greece'},\n",
       " {'company': 'Agency for State Roads',\n",
       "  'sum': 540851586.39,\n",
       "  'address': '\"Dame Gruev\" Str. No. 14 Skopje',\n",
       "  'country': 'North Macedonia'},\n",
       " {'company': 'УМБАЛСМ „Н. И. Пирогов“ ЕАД',\n",
       "  'sum': 9047142889.16,\n",
       "  'address': 'бул. „Тотлебен“ № 21 София',\n",
       "  'country': 'Bulgaria'},\n",
       " {'company': 'European Institute for Gender Equality',\n",
       "  'sum': 176678064655.0,\n",
       "  'address': 'Svitrigailos 11M Vilnius',\n",
       "  'country': 'Lithuania'},\n",
       " {'company': 'National University of Ireland, Galway (NUI Galway)',\n",
       "  'sum': 616740212526789.4,\n",
       "  'address': 'University Road Galway',\n",
       "  'country': 'Ireland'},\n",
       " {'company': 'Gemeente Leeuwarden',\n",
       "  'sum': 2000071835998.15,\n",
       "  'address': 'Postbus 210000 Leeuwarden',\n",
       "  'country': 'Netherlands'},\n",
       " {'company': 'Reykjavik Procurement Office',\n",
       "  'sum': 4591616940.87,\n",
       "  'address': 'Reykjavik City Hall Tjarnargata 11 Reykjavik',\n",
       "  'country': 'Iceland'},\n",
       " {'company': 'Hlavné mesto Slovenskej republiky Bratislava',\n",
       "  'sum': 693622666091.7,\n",
       "  'address': 'Primaciálne námestie 1 Bratislava',\n",
       "  'country': 'Slovakia'},\n",
       " {'company': 'Arbeids- og velferdsdirektoratet, Økonomiavdelingen, Anskaffelsesseksjonen (The Norwegian Labour and Welfare Administration, the Finance Department, the Procurement Section)',\n",
       "  'sum': 15582850639.340002,\n",
       "  'address': 'Postboks 5, St Olavs plass Oslo',\n",
       "  'country': 'Norway'},\n",
       " {'company': 'SiDG d. o. o.',\n",
       "  'sum': 4114008270,\n",
       "  'address': 'Rožna ulica 39 Kočevje',\n",
       "  'country': 'Slovenia'},\n",
       " {'company': 'European Commission, Joint Research Centre, Institute for Reference Materials and Measurements',\n",
       "  'sum': 7.088534598402986e+22,\n",
       "  'address': 'Retieseweg 111 Geel',\n",
       "  'country': 'Belgium'}]"
      ]
     },
     "execution_count": 181,
     "metadata": {},
     "output_type": "execute_result"
    }
   ],
   "source": [
    "match = {\n",
    "    '$match': {\n",
    "        '$and': [{'YEAR': {'$gte': bot_year}}, {'YEAR': {'$lte': top_year}}],\n",
    "        'ISO_COUNTRY_CODE': {'$in': country_list},\n",
    "        'CAE_NAME': {'$exists': True},\n",
    "        'VALUE_EURO': {'$exists': True},\n",
    "        'CAE_ADDRESS': {'$exists': True},\n",
    "        'CAE_TOWN': {'$exists': True}\n",
    "    }\n",
    "}\n",
    "\n",
    "project = {\n",
    "    '$project':{\n",
    "        '_id':False,\n",
    "        'CAE_NAME':True,\n",
    "        'ISO_COUNTRY_CODE':True,\n",
    "        'VALUE_EURO':True,\n",
    "        'ADDRESS':{\n",
    "            '$concat':[{'$toString':'$CAE_ADDRESS'},' ',{'$toString':'$CAE_TOWN'}]\n",
    "        }\n",
    "    }\n",
    "}\n",
    "\n",
    "group_cae_country_euro_avg = {\n",
    "    '$group':{\n",
    "        '_id':{'CAE_NAME':'$CAE_NAME','COUNTRY':'$ISO_COUNTRY_CODE'},\n",
    "        'SUM':{'$sum':'$VALUE_EURO'},\n",
    "        'ADDRESS':{'$first':'$ADDRESS'}        \n",
    "    }\n",
    "}\n",
    "\n",
    "sort = {\n",
    "    '$sort':{\n",
    "        'SUM':-1\n",
    "    }\n",
    "}\n",
    "\n",
    "group_2 = {\n",
    "    '$group':{\n",
    "        '_id':'$_id.COUNTRY',\n",
    "        'VALUE':{'$first':'$SUM'},\n",
    "        'COMPANY':{'$first':'$_id.CAE_NAME'},\n",
    "        'ADDRESS':{'$first':'$ADDRESS'}\n",
    "    }\n",
    "}\n",
    "\n",
    "lookup = {\n",
    "    '$lookup':{\n",
    "        'from':'iso_codes',\n",
    "        'localField':'_id',\n",
    "        'foreignField':'alpha-2',\n",
    "        'as':'COUNTRY'\n",
    "    }\n",
    "}\n",
    "\n",
    "project_2 = {\n",
    "    '$project':{\n",
    "        '_id':False,\n",
    "        'country':{ \"$arrayElemAt\": [ \"$COUNTRY\", 0] },\n",
    "        'company':'$COMPANY',\n",
    "        'sum':'$VALUE',\n",
    "        'address':'$ADDRESS'\n",
    "    }\n",
    "}\n",
    "\n",
    "project_3 = {\n",
    "    '$project':{\n",
    "        'country':'$country.name',\n",
    "        'company':True,\n",
    "        'sum':True,\n",
    "        'address':True\n",
    "    }\n",
    "}\n",
    "\n",
    "pipeline = [match, project, group_cae_country_euro_avg, sort, group_2, lookup, project_2, project_3]\n",
    "\n",
    "list_documents = list(eu.aggregate(pipeline,allowDiskUse=True))\n",
    "\n",
    "list_documents"
   ]
  },
  {
   "cell_type": "markdown",
   "metadata": {},
   "source": [
    "20"
   ]
  },
  {
   "cell_type": "code",
   "execution_count": 194,
   "metadata": {},
   "outputs": [
    {
     "data": {
      "text/plain": [
       "[{'companies': 'Viešoji įstaiga Centrinė projektų valdymo agentūra (126125624) with UAB \"Limedika\" (134056779)',\n",
       "  'count': 1741},\n",
       " {'companies': 'Sabiedrība ar ierobežotu atbildību “Ogres rajona slimnīca” with SIA “Magnum Medical”',\n",
       "  'count': 1643},\n",
       " {'companies': \"Viešoji įstaiga Centrinė projektų valdymo agentūra (126125624) with UAB 'Limedika' (134056779)\",\n",
       "  'count': 1626},\n",
       " {'companies': 'Masarykova univerzita with C SYSTEM CZ a.s.', 'count': 1321},\n",
       " {'companies': 'Viešoji įstaiga Centrinė projektų valdymo agentūra (126125624) with UAB \"ARMILA\" (123813957)',\n",
       "  'count': 1220}]"
      ]
     },
     "execution_count": 194,
     "metadata": {},
     "output_type": "execute_result"
    }
   ],
   "source": [
    "match = {\n",
    "    '$match': {\n",
    "        '$and': [{'YEAR': {'$gte': bot_year}}, {'YEAR': {'$lte': top_year}}],\n",
    "        'ISO_COUNTRY_CODE': {'$in': country_list},\n",
    "        'CAE_NAME': {'$exists': True},\n",
    "        'WIN_NAME': {'$exists': True},\n",
    "    }\n",
    "}\n",
    "\n",
    "project = {\n",
    "    '$project':{\n",
    "        '_id':False,\n",
    "        'PAIR':{\n",
    "            '$concat':[{'$toString':'$CAE_NAME'},' with ',{'$toString':'$WIN_NAME'}]\n",
    "        }\n",
    "    }\n",
    "}\n",
    "\n",
    "group = {\n",
    "    '$group':{\n",
    "        '_id':'$PAIR',\n",
    "        'COUNT':{'$sum':1}\n",
    "    }\n",
    "}\n",
    "\n",
    "sort = {\n",
    "    '$sort':{\n",
    "        'COUNT':-1\n",
    "    }\n",
    "}\n",
    "\n",
    "limit = {\n",
    "    '$limit':5\n",
    "}\n",
    "\n",
    "project_2 = {\n",
    "    '$project':{\n",
    "        '_id':False,\n",
    "        'companies':'$_id',\n",
    "        'count':'$COUNT'\n",
    "    }\n",
    "}\n",
    "\n",
    "pipeline = [match, project, group, sort, limit, project_2]\n",
    "\n",
    "list_documents = list(eu.aggregate(pipeline,allowDiskUse=True))\n",
    "\n",
    "list_documents"
   ]
  },
  {
   "cell_type": "code",
   "execution_count": 41,
   "metadata": {},
   "outputs": [
    {
     "ename": "AutoReconnect",
     "evalue": "connection closed",
     "output_type": "error",
     "traceback": [
      "\u001b[1;31m---------------------------------------------------------------------------\u001b[0m",
      "\u001b[1;31mAutoReconnect\u001b[0m                             Traceback (most recent call last)",
      "\u001b[1;32m<ipython-input-41-4ec508ed0d78>\u001b[0m in \u001b[0;36m<module>\u001b[1;34m\u001b[0m\n\u001b[0;32m     20\u001b[0m )\n\u001b[0;32m     21\u001b[0m \u001b[1;33m\u001b[0m\u001b[0m\n\u001b[1;32m---> 22\u001b[1;33m \u001b[0meu\u001b[0m\u001b[1;33m.\u001b[0m\u001b[0mmap_reduce\u001b[0m\u001b[1;33m(\u001b[0m\u001b[0mmapper\u001b[0m\u001b[1;33m,\u001b[0m \u001b[0mreducer\u001b[0m\u001b[1;33m,\u001b[0m \u001b[1;34m\"myresults\"\u001b[0m\u001b[1;33m)\u001b[0m\u001b[1;33m\u001b[0m\u001b[1;33m\u001b[0m\u001b[0m\n\u001b[0m",
      "\u001b[1;32m~\\anaconda3\\envs\\Big Data Modelling\\lib\\site-packages\\pymongo\\collection.py\u001b[0m in \u001b[0;36mmap_reduce\u001b[1;34m(self, map, reduce, out, full_response, session, **kwargs)\u001b[0m\n\u001b[0;32m   2771\u001b[0m \u001b[1;33m\u001b[0m\u001b[0m\n\u001b[0;32m   2772\u001b[0m         response = self._map_reduce(map, reduce, out, session,\n\u001b[1;32m-> 2773\u001b[1;33m                                     ReadPreference.PRIMARY, **kwargs)\n\u001b[0m\u001b[0;32m   2774\u001b[0m \u001b[1;33m\u001b[0m\u001b[0m\n\u001b[0;32m   2775\u001b[0m         \u001b[1;32mif\u001b[0m \u001b[0mfull_response\u001b[0m \u001b[1;32mor\u001b[0m \u001b[1;32mnot\u001b[0m \u001b[0mresponse\u001b[0m\u001b[1;33m.\u001b[0m\u001b[0mget\u001b[0m\u001b[1;33m(\u001b[0m\u001b[1;34m'result'\u001b[0m\u001b[1;33m)\u001b[0m\u001b[1;33m:\u001b[0m\u001b[1;33m\u001b[0m\u001b[1;33m\u001b[0m\u001b[0m\n",
      "\u001b[1;32m~\\anaconda3\\envs\\Big Data Modelling\\lib\\site-packages\\pymongo\\collection.py\u001b[0m in \u001b[0;36m_map_reduce\u001b[1;34m(self, map, reduce, out, session, read_pref, **kwargs)\u001b[0m\n\u001b[0;32m   2709\u001b[0m                 \u001b[0mwrite_concern\u001b[0m\u001b[1;33m=\u001b[0m\u001b[0mwrite_concern\u001b[0m\u001b[1;33m,\u001b[0m\u001b[1;33m\u001b[0m\u001b[1;33m\u001b[0m\u001b[0m\n\u001b[0;32m   2710\u001b[0m                 \u001b[0mcollation\u001b[0m\u001b[1;33m=\u001b[0m\u001b[0mcollation\u001b[0m\u001b[1;33m,\u001b[0m \u001b[0msession\u001b[0m\u001b[1;33m=\u001b[0m\u001b[0msession\u001b[0m\u001b[1;33m,\u001b[0m\u001b[1;33m\u001b[0m\u001b[1;33m\u001b[0m\u001b[0m\n\u001b[1;32m-> 2711\u001b[1;33m                 user_fields=user_fields)\n\u001b[0m\u001b[0;32m   2712\u001b[0m \u001b[1;33m\u001b[0m\u001b[0m\n\u001b[0;32m   2713\u001b[0m     def map_reduce(self, map, reduce, out, full_response=False, session=None,\n",
      "\u001b[1;32m~\\anaconda3\\envs\\Big Data Modelling\\lib\\site-packages\\pymongo\\collection.py\u001b[0m in \u001b[0;36m_command\u001b[1;34m(self, sock_info, command, slave_ok, read_preference, codec_options, check, allowable_errors, read_concern, write_concern, collation, session, retryable_write, user_fields)\u001b[0m\n\u001b[0;32m    248\u001b[0m                 \u001b[0mclient\u001b[0m\u001b[1;33m=\u001b[0m\u001b[0mself\u001b[0m\u001b[1;33m.\u001b[0m\u001b[0m__database\u001b[0m\u001b[1;33m.\u001b[0m\u001b[0mclient\u001b[0m\u001b[1;33m,\u001b[0m\u001b[1;33m\u001b[0m\u001b[1;33m\u001b[0m\u001b[0m\n\u001b[0;32m    249\u001b[0m                 \u001b[0mretryable_write\u001b[0m\u001b[1;33m=\u001b[0m\u001b[0mretryable_write\u001b[0m\u001b[1;33m,\u001b[0m\u001b[1;33m\u001b[0m\u001b[1;33m\u001b[0m\u001b[0m\n\u001b[1;32m--> 250\u001b[1;33m                 user_fields=user_fields)\n\u001b[0m\u001b[0;32m    251\u001b[0m \u001b[1;33m\u001b[0m\u001b[0m\n\u001b[0;32m    252\u001b[0m     \u001b[1;32mdef\u001b[0m \u001b[0m__create\u001b[0m\u001b[1;33m(\u001b[0m\u001b[0mself\u001b[0m\u001b[1;33m,\u001b[0m \u001b[0moptions\u001b[0m\u001b[1;33m,\u001b[0m \u001b[0mcollation\u001b[0m\u001b[1;33m,\u001b[0m \u001b[0msession\u001b[0m\u001b[1;33m)\u001b[0m\u001b[1;33m:\u001b[0m\u001b[1;33m\u001b[0m\u001b[1;33m\u001b[0m\u001b[0m\n",
      "\u001b[1;32m~\\anaconda3\\envs\\Big Data Modelling\\lib\\site-packages\\pymongo\\pool.py\u001b[0m in \u001b[0;36mcommand\u001b[1;34m(self, dbname, spec, slave_ok, read_preference, codec_options, check, allowable_errors, check_keys, read_concern, write_concern, parse_write_concern_error, collation, session, client, retryable_write, publish_events, user_fields)\u001b[0m\n\u001b[0;32m    616\u001b[0m         \u001b[1;31m# Catch socket.error, KeyboardInterrupt, etc. and close ourselves.\u001b[0m\u001b[1;33m\u001b[0m\u001b[1;33m\u001b[0m\u001b[1;33m\u001b[0m\u001b[0m\n\u001b[0;32m    617\u001b[0m         \u001b[1;32mexcept\u001b[0m \u001b[0mBaseException\u001b[0m \u001b[1;32mas\u001b[0m \u001b[0merror\u001b[0m\u001b[1;33m:\u001b[0m\u001b[1;33m\u001b[0m\u001b[1;33m\u001b[0m\u001b[0m\n\u001b[1;32m--> 618\u001b[1;33m             \u001b[0mself\u001b[0m\u001b[1;33m.\u001b[0m\u001b[0m_raise_connection_failure\u001b[0m\u001b[1;33m(\u001b[0m\u001b[0merror\u001b[0m\u001b[1;33m)\u001b[0m\u001b[1;33m\u001b[0m\u001b[1;33m\u001b[0m\u001b[0m\n\u001b[0m\u001b[0;32m    619\u001b[0m \u001b[1;33m\u001b[0m\u001b[0m\n\u001b[0;32m    620\u001b[0m     \u001b[1;32mdef\u001b[0m \u001b[0msend_message\u001b[0m\u001b[1;33m(\u001b[0m\u001b[0mself\u001b[0m\u001b[1;33m,\u001b[0m \u001b[0mmessage\u001b[0m\u001b[1;33m,\u001b[0m \u001b[0mmax_doc_size\u001b[0m\u001b[1;33m)\u001b[0m\u001b[1;33m:\u001b[0m\u001b[1;33m\u001b[0m\u001b[1;33m\u001b[0m\u001b[0m\n",
      "\u001b[1;32m~\\anaconda3\\envs\\Big Data Modelling\\lib\\site-packages\\pymongo\\pool.py\u001b[0m in \u001b[0;36mcommand\u001b[1;34m(self, dbname, spec, slave_ok, read_preference, codec_options, check, allowable_errors, check_keys, read_concern, write_concern, parse_write_concern_error, collation, session, client, retryable_write, publish_events, user_fields)\u001b[0m\n\u001b[0;32m    611\u001b[0m                            \u001b[0muse_op_msg\u001b[0m\u001b[1;33m=\u001b[0m\u001b[0mself\u001b[0m\u001b[1;33m.\u001b[0m\u001b[0mop_msg_enabled\u001b[0m\u001b[1;33m,\u001b[0m\u001b[1;33m\u001b[0m\u001b[1;33m\u001b[0m\u001b[0m\n\u001b[0;32m    612\u001b[0m                            \u001b[0munacknowledged\u001b[0m\u001b[1;33m=\u001b[0m\u001b[0munacknowledged\u001b[0m\u001b[1;33m,\u001b[0m\u001b[1;33m\u001b[0m\u001b[1;33m\u001b[0m\u001b[0m\n\u001b[1;32m--> 613\u001b[1;33m                            user_fields=user_fields)\n\u001b[0m\u001b[0;32m    614\u001b[0m         \u001b[1;32mexcept\u001b[0m \u001b[0mOperationFailure\u001b[0m\u001b[1;33m:\u001b[0m\u001b[1;33m\u001b[0m\u001b[1;33m\u001b[0m\u001b[0m\n\u001b[0;32m    615\u001b[0m             \u001b[1;32mraise\u001b[0m\u001b[1;33m\u001b[0m\u001b[1;33m\u001b[0m\u001b[0m\n",
      "\u001b[1;32m~\\anaconda3\\envs\\Big Data Modelling\\lib\\site-packages\\pymongo\\network.py\u001b[0m in \u001b[0;36mcommand\u001b[1;34m(sock, dbname, spec, slave_ok, is_mongos, read_preference, codec_options, session, client, check, allowable_errors, address, check_keys, listeners, max_bson_size, read_concern, parse_write_concern_error, collation, compression_ctx, use_op_msg, unacknowledged, user_fields)\u001b[0m\n\u001b[0;32m    155\u001b[0m             \u001b[0mresponse_doc\u001b[0m \u001b[1;33m=\u001b[0m \u001b[1;33m{\u001b[0m\u001b[1;34m\"ok\"\u001b[0m\u001b[1;33m:\u001b[0m \u001b[1;36m1\u001b[0m\u001b[1;33m}\u001b[0m\u001b[1;33m\u001b[0m\u001b[1;33m\u001b[0m\u001b[0m\n\u001b[0;32m    156\u001b[0m         \u001b[1;32melse\u001b[0m\u001b[1;33m:\u001b[0m\u001b[1;33m\u001b[0m\u001b[1;33m\u001b[0m\u001b[0m\n\u001b[1;32m--> 157\u001b[1;33m             \u001b[0mreply\u001b[0m \u001b[1;33m=\u001b[0m \u001b[0mreceive_message\u001b[0m\u001b[1;33m(\u001b[0m\u001b[0msock\u001b[0m\u001b[1;33m,\u001b[0m \u001b[0mrequest_id\u001b[0m\u001b[1;33m)\u001b[0m\u001b[1;33m\u001b[0m\u001b[1;33m\u001b[0m\u001b[0m\n\u001b[0m\u001b[0;32m    158\u001b[0m             unpacked_docs = reply.unpack_response(\n\u001b[0;32m    159\u001b[0m                 codec_options=codec_options, user_fields=user_fields)\n",
      "\u001b[1;32m~\\anaconda3\\envs\\Big Data Modelling\\lib\\site-packages\\pymongo\\network.py\u001b[0m in \u001b[0;36mreceive_message\u001b[1;34m(sock, request_id, max_message_size)\u001b[0m\n\u001b[0;32m    194\u001b[0m     \u001b[1;31m# Ignore the response's request id.\u001b[0m\u001b[1;33m\u001b[0m\u001b[1;33m\u001b[0m\u001b[1;33m\u001b[0m\u001b[0m\n\u001b[0;32m    195\u001b[0m     length, _, response_to, op_code = _UNPACK_HEADER(\n\u001b[1;32m--> 196\u001b[1;33m         _receive_data_on_socket(sock, 16))\n\u001b[0m\u001b[0;32m    197\u001b[0m     \u001b[1;31m# No request_id for exhaust cursor \"getMore\".\u001b[0m\u001b[1;33m\u001b[0m\u001b[1;33m\u001b[0m\u001b[1;33m\u001b[0m\u001b[0m\n\u001b[0;32m    198\u001b[0m     \u001b[1;32mif\u001b[0m \u001b[0mrequest_id\u001b[0m \u001b[1;32mis\u001b[0m \u001b[1;32mnot\u001b[0m \u001b[1;32mNone\u001b[0m\u001b[1;33m:\u001b[0m\u001b[1;33m\u001b[0m\u001b[1;33m\u001b[0m\u001b[0m\n",
      "\u001b[1;32m~\\anaconda3\\envs\\Big Data Modelling\\lib\\site-packages\\pymongo\\network.py\u001b[0m in \u001b[0;36m_receive_data_on_socket\u001b[1;34m(sock, length)\u001b[0m\n\u001b[0;32m    259\u001b[0m                 \u001b[1;32mraise\u001b[0m\u001b[1;33m\u001b[0m\u001b[1;33m\u001b[0m\u001b[0m\n\u001b[0;32m    260\u001b[0m             \u001b[1;32mif\u001b[0m \u001b[0mchunk_length\u001b[0m \u001b[1;33m==\u001b[0m \u001b[1;36m0\u001b[0m\u001b[1;33m:\u001b[0m\u001b[1;33m\u001b[0m\u001b[1;33m\u001b[0m\u001b[0m\n\u001b[1;32m--> 261\u001b[1;33m                 \u001b[1;32mraise\u001b[0m \u001b[0mAutoReconnect\u001b[0m\u001b[1;33m(\u001b[0m\u001b[1;34m\"connection closed\"\u001b[0m\u001b[1;33m)\u001b[0m\u001b[1;33m\u001b[0m\u001b[1;33m\u001b[0m\u001b[0m\n\u001b[0m\u001b[0;32m    262\u001b[0m \u001b[1;33m\u001b[0m\u001b[0m\n\u001b[0;32m    263\u001b[0m             \u001b[0mbytes_read\u001b[0m \u001b[1;33m+=\u001b[0m \u001b[0mchunk_length\u001b[0m\u001b[1;33m\u001b[0m\u001b[1;33m\u001b[0m\u001b[0m\n",
      "\u001b[1;31mAutoReconnect\u001b[0m: connection closed"
     ]
    }
   ],
   "source": [
    "from bson.code import Code\n",
    "mapper = Code(\n",
    "    \"\"\"\n",
    "       function () {\n",
    "            emit((this.CAE_NAME,this.WIN_NAME), 1);\n",
    "       }\n",
    "   \"\"\"\n",
    ")\n",
    "\n",
    "reducer = Code(\n",
    "    \"\"\"\n",
    "        function (key, values) {\n",
    "          var total = 0;\n",
    "          for (var i = 0; i < values.length; i++) {\n",
    "            total += values[i];\n",
    "          }\n",
    "          return total;\n",
    "        }\n",
    "    \"\"\"\n",
    ")\n",
    "\n",
    "eu.map_reduce(mapper, reducer, \"myresults\")"
   ]
  },
  {
   "cell_type": "code",
   "execution_count": null,
   "metadata": {},
   "outputs": [],
   "source": []
  }
 ],
 "metadata": {
  "kernelspec": {
   "display_name": "Python 3",
   "language": "python",
   "name": "python3"
  },
  "language_info": {
   "codemirror_mode": {
    "name": "ipython",
    "version": 3
   },
   "file_extension": ".py",
   "mimetype": "text/x-python",
   "name": "python",
   "nbconvert_exporter": "python",
   "pygments_lexer": "ipython3",
   "version": "3.7.7"
  }
 },
 "nbformat": 4,
 "nbformat_minor": 4
}
