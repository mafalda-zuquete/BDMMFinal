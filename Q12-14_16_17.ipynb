{
 "cells": [
  {
   "cell_type": "code",
   "execution_count": 1,
   "metadata": {},
   "outputs": [
    {
     "name": "stdout",
     "output_type": "stream",
     "text": [
      "Requirement already satisfied: pymongo in c:\\anaconda\\lib\\site-packages (3.10.1)\n"
     ]
    }
   ],
   "source": [
    "!pip install pymongo\n",
    "from pymongo import MongoClient"
   ]
  },
  {
   "cell_type": "code",
   "execution_count": 2,
   "metadata": {},
   "outputs": [],
   "source": [
    "host=\"rhea.isegi.unl.pt\"\n",
    "port=\"28011\"\n",
    "user=\"GROUP_11\"\n",
    "password=\"MTM0MzQ5MzI3NjY4ODM1MzQ2ODc2OTMzMjgyNjQ3NjYyNDcyNjUw\"\n",
    "protocol=\"mongodb\"\n",
    "client = MongoClient(f\"{protocol}://{user}:{password}@{host}:{port}\")"
   ]
  },
  {
   "cell_type": "code",
   "execution_count": 3,
   "metadata": {},
   "outputs": [],
   "source": [
    "db = client.contracts\n",
    "eu = db.eu"
   ]
  },
  {
   "cell_type": "code",
   "execution_count": 4,
   "metadata": {},
   "outputs": [],
   "source": [
    "bot_year = 2008\n",
    "top_year = 2020\n",
    "country_list = ['NO', 'HR', 'HU', 'CH', 'CZ', 'RO', 'LV', 'GR', 'UK', 'SI', 'LT', 'ES', 'FR', 'IE', 'SE', 'NL',\n",
    "                'PT', 'PL', 'DK', 'MK', 'DE', 'IT', 'BG', 'CY', 'AT', 'LU', 'BE', 'FI', 'EE', 'SK', 'MT', 'LI',\n",
    "                'IS']"
   ]
  },
  {
   "cell_type": "markdown",
   "metadata": {},
   "source": [
    "11. The count of contracts per country ('ISO_COUNTRY_CODE')"
   ]
  },
  {
   "cell_type": "code",
   "execution_count": 6,
   "metadata": {},
   "outputs": [
    {
     "data": {
      "text/plain": [
       "[{'country': 'IS', 'count': 1950},\n",
       " {'country': 'EE', 'count': 26992},\n",
       " {'country': 'BE', 'count': 77642},\n",
       " {'country': 'HU', 'count': 72794},\n",
       " {'country': 'SK', 'count': 40809},\n",
       " {'country': 'NO', 'count': 39049},\n",
       " {'country': 'IT', 'count': 204976},\n",
       " {'country': 'UK', 'count': 386501},\n",
       " {'country': 'IE', 'count': 32686},\n",
       " {'country': 'PT', 'count': 35912},\n",
       " {'country': 'LV', 'count': 123398},\n",
       " {'country': 'CZ', 'count': 128369},\n",
       " {'country': 'MT', 'count': 4548},\n",
       " {'country': 'LU', 'count': 9961},\n",
       " {'country': 'RO', 'count': 297141},\n",
       " {'country': 'HR', 'count': 40462},\n",
       " {'country': 'LI', 'count': 346},\n",
       " {'country': 'SE', 'count': 112423},\n",
       " {'country': 'ES', 'count': 251927},\n",
       " {'country': 'AT', 'count': 37616},\n",
       " {'country': 'FI', 'count': 70955},\n",
       " {'country': 'DK', 'count': 64496},\n",
       " {'country': 'LT', 'count': 117109},\n",
       " {'country': 'PL', 'count': 1238186},\n",
       " {'country': 'SI', 'count': 150639},\n",
       " {'country': 'MK', 'count': 9678},\n",
       " {'country': 'CY', 'count': 8865},\n",
       " {'country': 'NL', 'count': 79061},\n",
       " {'country': 'FR', 'count': 1263013},\n",
       " {'country': 'BG', 'count': 140977},\n",
       " {'country': 'CH', 'count': 25209},\n",
       " {'country': 'GR', 'count': 48069},\n",
       " {'country': 'DE', 'count': 421613}]"
      ]
     },
     "execution_count": 6,
     "metadata": {},
     "output_type": "execute_result"
    }
   ],
   "source": [
    "match = {\n",
    "    '$match': {\n",
    "        '$and': [{'YEAR': {'$gte': bot_year}}, {'YEAR': {'$lte': top_year}}],\n",
    "        'ISO_COUNTRY_CODE': {'$in': country_list}\n",
    "    }\n",
    "}\n",
    "\n",
    "group_country_count = {\n",
    "    '$group':{\n",
    "        '_id':'$ISO_COUNTRY_CODE',\n",
    "        'COUNT':{'$sum':1}\n",
    "    }\n",
    "}\n",
    "\n",
    "project = {\n",
    "    '$project':{\n",
    "        'country':'$_id',\n",
    "        'count':'$COUNT',\n",
    "        '_id':False\n",
    "    }\n",
    "}\n",
    "pipeline = [match, group_country_count, project]\n",
    "\n",
    "list_documents = list(eu.aggregate(pipeline))\n",
    "\n",
    "list_documents"
   ]
  },
  {
   "cell_type": "markdown",
   "metadata": {},
   "source": [
    "12. Returns the average 'Value_Euro' for each country, return the highest 5 countries"
   ]
  },
  {
   "cell_type": "code",
   "execution_count": 5,
   "metadata": {},
   "outputs": [],
   "source": [
    "project = {\n",
    "    '$project':{\n",
    "        '_id':False,\n",
    "        'VALUE_EURO':True,\n",
    "        'NUMBER_OFFERS':True,\n",
    "        'CPV_DIVISION':{'$substr':['$CPV',0,2]}\n",
    "    }\n",
    "}\n",
    "\n",
    "group = {\n",
    "    '$group':{\n",
    "        '_id':{'YEAR':'$YEAR','COUNTRY':'$ISO_COUNTRY_CODE','CPV_DIVISION':'$CPV_DIVISION'},\n",
    "        'AVERAGE':{'$avg':'$VALUE_EURO'},\n",
    "        'COUNT':{'$sum':1}\n",
    "    }\n",
    "}\n",
    "\n",
    "limit = {\n",
    "    '$limit':5\n",
    "}"
   ]
  },
  {
   "cell_type": "markdown",
   "metadata": {},
   "source": [
    "13. Returns the average 'VALUE_EURO' for each country, return the lowest 5 countries\n",
    " "
   ]
  },
  {
   "cell_type": "code",
   "execution_count": null,
   "metadata": {},
   "outputs": [],
   "source": [
    "project = {\n",
    "    '$project':{\n",
    "        '_id':False,\n",
    "        'VALUE_EURO':True,\n",
    "        'NUMBER_OFFERS':True,\n",
    "        'CPV_DIVISION':{'$substr':['$CPV',0,2]}\n",
    "    }\n",
    "}\n",
    "\n",
    "group = {\n",
    "    '$group':{\n",
    "        '_id':{'YEAR':'$YEAR','COUNTRY':'$ISO_COUNTRY_CODE','CPV_DIVISION':'$CPV_DIVISION'},\n",
    "        'AVERAGE':{'$avg':'$VALUE_EURO'},\n",
    "        'COUNT':{'$sum':1}\n",
    "    }\n",
    "}\n",
    "\n",
    "# return the lowest five\n",
    "limit = {\n",
    "    '$limit':5\n",
    "}"
   ]
  },
  {
   "cell_type": "markdown",
   "metadata": {},
   "source": [
    "14. For each country get the sum of the respective contracts 'VALUE_EURO' which recieved european funds ('B_EU_FUNDS') "
   ]
  },
  {
   "cell_type": "code",
   "execution_count": null,
   "metadata": {},
   "outputs": [],
   "source": []
  },
  {
   "cell_type": "markdown",
   "metadata": {},
   "source": [
    "16. Returns the average 'VALUE_EURO' for company ('CAE_NAME') return the highest 5 companies"
   ]
  },
  {
   "cell_type": "code",
   "execution_count": null,
   "metadata": {},
   "outputs": [],
   "source": [
    "project = {\n",
    "    '$project':{\n",
    "        '_id':False,\n",
    "        'VALUE_EURO':True,\n",
    "        'NUMBER_OFFERS':True,\n",
    "        'CPV_DIVISION':{'$substr':['$CPV',0,2]}\n",
    "    }\n",
    "}\n",
    "\n",
    "group = {\n",
    "    '$group':{\n",
    "        '_id':{'YEAR':'$YEAR','COMPANY':'$CAE_NAME','CPV_DIVISION':'$CPV_DIVISION'},\n",
    "        'AVERAGE':{'$avg':'$VALUE_EURO'},\n",
    "        'COUNT':{'$sum':1}\n",
    "    }\n",
    "}\n"
   ]
  },
  {
   "cell_type": "markdown",
   "metadata": {},
   "source": [
    "17. Returns the average 'VALUE_EURO' for company ('CAE_NAME') return the lowest 5 companies"
   ]
  },
  {
   "cell_type": "code",
   "execution_count": null,
   "metadata": {},
   "outputs": [],
   "source": [
    "project = {\n",
    "    '$project':{\n",
    "        '_id':False,\n",
    "        'VALUE_EURO':True,\n",
    "        'NUMBER_OFFERS':True,\n",
    "        'CPV_DIVISION':{'$substr':['$CPV',0,2]}\n",
    "    }\n",
    "}\n",
    "\n",
    "group = {\n",
    "    '$group':{\n",
    "        '_id':{'YEAR':'$YEAR','COMPANY':'$CAE_NAME'','CPV_DIVISION':'$CPV_DIVISION'},\n",
    "        'AVERAGE':{'$avg':'$VALUE_EURO'},\n",
    "        'COUNT':{'$sum':1}\n",
    "    }\n",
    "}\n"
   ]
  }
 ],
 "metadata": {
  "kernelspec": {
   "display_name": "Python 3",
   "language": "python",
   "name": "python3"
  },
  "language_info": {
   "codemirror_mode": {
    "name": "ipython",
    "version": 3
   },
   "file_extension": ".py",
   "mimetype": "text/x-python",
   "name": "python",
   "nbconvert_exporter": "python",
   "pygments_lexer": "ipython3",
   "version": "3.7.6"
  }
 },
 "nbformat": 4,
 "nbformat_minor": 4
}
