{
 "cells": [
  {
   "cell_type": "code",
   "execution_count": 1,
   "metadata": {},
   "outputs": [
    {
     "name": "stdout",
     "output_type": "stream",
     "text": [
      "Requirement already satisfied: pymongo in c:\\anaconda\\lib\\site-packages (3.10.1)\n"
     ]
    }
   ],
   "source": [
    "!pip install pymongo\n",
    "from pymongo import MongoClient"
   ]
  },
  {
   "cell_type": "code",
   "execution_count": 2,
   "metadata": {},
   "outputs": [],
   "source": [
    "host=\"rhea.isegi.unl.pt\"\n",
    "port=\"28011\"\n",
    "user=\"GROUP_11\"\n",
    "password=\"MTM0MzQ5MzI3NjY4ODM1MzQ2ODc2OTMzMjgyNjQ3NjYyNDcyNjUw\"\n",
    "protocol=\"mongodb\"\n",
    "client = MongoClient(f\"{protocol}://{user}:{password}@{host}:{port}\")"
   ]
  },
  {
   "cell_type": "code",
   "execution_count": 3,
   "metadata": {},
   "outputs": [],
   "source": [
    "db = client.contracts\n",
    "eu = db.eu"
   ]
  },
  {
   "cell_type": "code",
   "execution_count": 4,
   "metadata": {},
   "outputs": [],
   "source": [
    "bot_year = 2008\n",
    "top_year = 2020\n",
    "country_list = ['NO', 'HR', 'HU', 'CH', 'CZ', 'RO', 'LV', 'GR', 'UK', 'SI', 'LT', 'ES', 'FR', 'IE', 'SE', 'NL',\n",
    "                'PT', 'PL', 'DK', 'MK', 'DE', 'IT', 'BG', 'CY', 'AT', 'LU', 'BE', 'FI', 'EE', 'SK', 'MT', 'LI',\n",
    "                'IS']"
   ]
  },
  {
   "cell_type": "code",
   "execution_count": null,
   "metadata": {},
   "outputs": [],
   "source": []
  },
  {
   "cell_type": "markdown",
   "metadata": {},
   "source": [
    "12. Returns the average 'Value_Euro' for each country, return the highest 5 countries"
   ]
  },
  {
   "cell_type": "code",
   "execution_count": 5,
   "metadata": {},
   "outputs": [],
   "source": [
    "project = {\n",
    "    '$project':{\n",
    "        '_id':False,\n",
    "        'VALUE_EURO':True,\n",
    "        'NUMBER_OFFERS':True,\n",
    "        'CPV_DIVISION':{'$substr':['$CPV',0,2]}\n",
    "    }\n",
    "}\n",
    "\n",
    "group = {\n",
    "    '$group':{\n",
    "        '_id':{'YEAR':'$YEAR','COUNTRY':'$ISO_COUNTRY_CODE','CPV_DIVISION':'$CPV_DIVISION'},\n",
    "        'AVERAGE':{'$avg':'$VALUE_EURO'},\n",
    "        'COUNT':{'$sum':1}\n",
    "    }\n",
    "}\n",
    "\n",
    "limit = {\n",
    "    '$limit':5\n",
    "}"
   ]
  },
  {
   "cell_type": "markdown",
   "metadata": {},
   "source": [
    "13. Returns the average 'VALUE_EURO' for each country, return the lowest 5 countries\n",
    " "
   ]
  },
  {
   "cell_type": "code",
   "execution_count": null,
   "metadata": {},
   "outputs": [],
   "source": [
    "project = {\n",
    "    '$project':{\n",
    "        '_id':False,\n",
    "        'VALUE_EURO':True,\n",
    "        'NUMBER_OFFERS':True,\n",
    "        'CPV_DIVISION':{'$substr':['$CPV',0,2]}\n",
    "    }\n",
    "}\n",
    "\n",
    "group = {\n",
    "    '$group':{\n",
    "        '_id':{'YEAR':'$YEAR','COUNTRY':'$ISO_COUNTRY_CODE','CPV_DIVISION':'$CPV_DIVISION'},\n",
    "        'AVERAGE':{'$avg':'$VALUE_EURO'},\n",
    "        'COUNT':{'$sum':1}\n",
    "    }\n",
    "}\n",
    "\n",
    "# return the lowest five\n",
    "limit = {\n",
    "    '$limit':5\n",
    "}"
   ]
  },
  {
   "cell_type": "markdown",
   "metadata": {},
   "source": [
    "14. For each country get the sum of the respective contracts 'VALUE_EURO' which recieved european funds ('B_EU_FUNDS') "
   ]
  },
  {
   "cell_type": "code",
   "execution_count": null,
   "metadata": {},
   "outputs": [],
   "source": []
  },
  {
   "cell_type": "markdown",
   "metadata": {},
   "source": [
    "16. Returns the average 'VALUE_EURO' for company ('CAE_NAME') return the highest 5 companies"
   ]
  },
  {
   "cell_type": "code",
   "execution_count": null,
   "metadata": {},
   "outputs": [],
   "source": [
    "project = {\n",
    "    '$project':{\n",
    "        '_id':False,\n",
    "        'VALUE_EURO':True,\n",
    "        'NUMBER_OFFERS':True,\n",
    "        'CPV_DIVISION':{'$substr':['$CPV',0,2]}\n",
    "    }\n",
    "}\n",
    "\n",
    "group = {\n",
    "    '$group':{\n",
    "        '_id':{'YEAR':'$YEAR','COMPANY':'$CAE_NAME','CPV_DIVISION':'$CPV_DIVISION'},\n",
    "        'AVERAGE':{'$avg':'$VALUE_EURO'},\n",
    "        'COUNT':{'$sum':1}\n",
    "    }\n",
    "}\n"
   ]
  },
  {
   "cell_type": "markdown",
   "metadata": {},
   "source": [
    "17. Returns the average 'VALUE_EURO' for company ('CAE_NAME') return the lowest 5 companies"
   ]
  },
  {
   "cell_type": "code",
   "execution_count": null,
   "metadata": {},
   "outputs": [],
   "source": [
    "project = {\n",
    "    '$project':{\n",
    "        '_id':False,\n",
    "        'VALUE_EURO':True,\n",
    "        'NUMBER_OFFERS':True,\n",
    "        'CPV_DIVISION':{'$substr':['$CPV',0,2]}\n",
    "    }\n",
    "}\n",
    "\n",
    "group = {\n",
    "    '$group':{\n",
    "        '_id':{'YEAR':'$YEAR','COMPANY':'$CAE_NAME'','CPV_DIVISION':'$CPV_DIVISION'},\n",
    "        'AVERAGE':{'$avg':'$VALUE_EURO'},\n",
    "        'COUNT':{'$sum':1}\n",
    "    }\n",
    "}\n"
   ]
  }
 ],
 "metadata": {
  "kernelspec": {
   "display_name": "Python 3",
   "language": "python",
   "name": "python3"
  },
  "language_info": {
   "codemirror_mode": {
    "name": "ipython",
    "version": 3
   },
   "file_extension": ".py",
   "mimetype": "text/x-python",
   "name": "python",
   "nbconvert_exporter": "python",
   "pygments_lexer": "ipython3",
   "version": "3.7.6"
  }
 },
 "nbformat": 4,
 "nbformat_minor": 4
}
