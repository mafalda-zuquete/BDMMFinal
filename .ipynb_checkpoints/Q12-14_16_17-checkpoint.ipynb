{
 "cells": [
  {
   "cell_type": "code",
   "execution_count": 1,
   "metadata": {},
   "outputs": [
    {
     "name": "stdout",
     "output_type": "stream",
     "text": [
      "Requirement already satisfied: pymongo in c:\\anaconda\\lib\\site-packages (3.10.1)\n"
     ]
    }
   ],
   "source": [
    "!pip install pymongo\n",
    "from pymongo import MongoClient"
   ]
  },
  {
   "cell_type": "code",
   "execution_count": 2,
   "metadata": {},
   "outputs": [],
   "source": [
    "host=\"rhea.isegi.unl.pt\"\n",
    "port=\"28011\"\n",
    "user=\"GROUP_11\"\n",
    "password=\"MTM0MzQ5MzI3NjY4ODM1MzQ2ODc2OTMzMjgyNjQ3NjYyNDcyNjUw\"\n",
    "protocol=\"mongodb\"\n",
    "client = MongoClient(f\"{protocol}://{user}:{password}@{host}:{port}\")"
   ]
  },
  {
   "cell_type": "code",
   "execution_count": 3,
   "metadata": {},
   "outputs": [],
   "source": [
    "db = client.contracts\n",
    "eu = db.eu"
   ]
  },
  {
   "cell_type": "code",
   "execution_count": 4,
   "metadata": {},
   "outputs": [],
   "source": [
    "bot_year = 2008\n",
    "top_year = 2020\n",
    "country_list = ['NO', 'HR', 'HU', 'CH', 'CZ', 'RO', 'LV', 'GR', 'UK', 'SI', 'LT', 'ES', 'FR', 'IE', 'SE', 'NL',\n",
    "                'PT', 'PL', 'DK', 'MK', 'DE', 'IT', 'BG', 'CY', 'AT', 'LU', 'BE', 'FI', 'EE', 'SK', 'MT', 'LI',\n",
    "                'IS']"
   ]
  },
  {
   "cell_type": "markdown",
   "metadata": {},
   "source": [
    "11. The count of contracts per country ('ISO_COUNTRY_CODE')"
   ]
  },
  {
   "cell_type": "code",
   "execution_count": 6,
   "metadata": {},
   "outputs": [
    {
     "data": {
      "text/plain": [
       "[{'country': 'IS', 'count': 1950},\n",
       " {'country': 'EE', 'count': 26992},\n",
       " {'country': 'BE', 'count': 77642},\n",
       " {'country': 'HU', 'count': 72794},\n",
       " {'country': 'SK', 'count': 40809},\n",
       " {'country': 'NO', 'count': 39049},\n",
       " {'country': 'IT', 'count': 204976},\n",
       " {'country': 'UK', 'count': 386501},\n",
       " {'country': 'IE', 'count': 32686},\n",
       " {'country': 'PT', 'count': 35912},\n",
       " {'country': 'LV', 'count': 123398},\n",
       " {'country': 'CZ', 'count': 128369},\n",
       " {'country': 'MT', 'count': 4548},\n",
       " {'country': 'LU', 'count': 9961},\n",
       " {'country': 'RO', 'count': 297141},\n",
       " {'country': 'HR', 'count': 40462},\n",
       " {'country': 'LI', 'count': 346},\n",
       " {'country': 'SE', 'count': 112423},\n",
       " {'country': 'ES', 'count': 251927},\n",
       " {'country': 'AT', 'count': 37616},\n",
       " {'country': 'FI', 'count': 70955},\n",
       " {'country': 'DK', 'count': 64496},\n",
       " {'country': 'LT', 'count': 117109},\n",
       " {'country': 'PL', 'count': 1238186},\n",
       " {'country': 'SI', 'count': 150639},\n",
       " {'country': 'MK', 'count': 9678},\n",
       " {'country': 'CY', 'count': 8865},\n",
       " {'country': 'NL', 'count': 79061},\n",
       " {'country': 'FR', 'count': 1263013},\n",
       " {'country': 'BG', 'count': 140977},\n",
       " {'country': 'CH', 'count': 25209},\n",
       " {'country': 'GR', 'count': 48069},\n",
       " {'country': 'DE', 'count': 421613}]"
      ]
     },
     "execution_count": 6,
     "metadata": {},
     "output_type": "execute_result"
    }
   ],
   "source": [
    "match = {\n",
    "    '$match': {\n",
    "        '$and': [{'YEAR': {'$gte': bot_year}}, {'YEAR': {'$lte': top_year}}],\n",
    "        'ISO_COUNTRY_CODE': {'$in': country_list}\n",
    "    }\n",
    "}\n",
    "\n",
    "group_country_count = {\n",
    "    '$group':{\n",
    "        '_id':'$ISO_COUNTRY_CODE',\n",
    "        'COUNT':{'$sum':1}\n",
    "    }\n",
    "}\n",
    "\n",
    "project = {\n",
    "    '$project':{\n",
    "        'country':'$_id',\n",
    "        'count':'$COUNT',\n",
    "        '_id':False\n",
    "    }\n",
    "}\n",
    "pipeline = [match, group_country_count, project]\n",
    "\n",
    "list_documents = list(eu.aggregate(pipeline))\n",
    "\n",
    "list_documents"
   ]
  },
  {
   "cell_type": "markdown",
   "metadata": {},
   "source": [
    "12. Returns the average 'Value_Euro' for each country, return the highest 5 countries"
   ]
  },
  {
   "cell_type": "code",
   "execution_count": 10,
   "metadata": {},
   "outputs": [
    {
     "data": {
      "text/plain": [
       "[{'country': 'HU', 'avg': 2.3457793956061657e+22},\n",
       " {'country': 'DE', 'avg': 1.565263668670854e+20},\n",
       " {'country': 'BE', 'avg': 2.796330886808232e+18},\n",
       " {'country': 'LU', 'avg': 4798276236001678.0},\n",
       " {'country': 'GR', 'avg': 3433382284308.2563}]"
      ]
     },
     "execution_count": 10,
     "metadata": {},
     "output_type": "execute_result"
    }
   ],
   "source": [
    "match = {\n",
    "    '$match': {\n",
    "        '$and': [{'YEAR': {'$gte': bot_year}}, {'YEAR': {'$lte': top_year}}],\n",
    "        'ISO_COUNTRY_CODE': {'$in': country_list}\n",
    "    }\n",
    "}\n",
    "\n",
    "project = {\n",
    "    '$project':{\n",
    "        '_id':False,\n",
    "        'VALUE_EURO':True,\n",
    "        'ISO_COUNTRY_CODE':True\n",
    "    }\n",
    "}\n",
    "\n",
    "group = {\n",
    "    '$group':{\n",
    "        '_id':'$ISO_COUNTRY_CODE',\n",
    "        'AVERAGE':{'$avg':'$VALUE_EURO'}\n",
    "    }\n",
    "}\n",
    "sort = {\n",
    "    '$sort':{\n",
    "        'AVERAGE': -1\n",
    "    }\n",
    "}\n",
    "\n",
    "limit = {\n",
    "    '$limit':5\n",
    "}\n",
    "\n",
    "project_2 = {\n",
    "    '$project':{\n",
    "        '_id':False,\n",
    "        'country':'$_id',\n",
    "        'avg':'$AVERAGE'\n",
    "    }\n",
    "}\n",
    "\n",
    "pipeline = [match, project, group, sort, limit, project_2]\n",
    "\n",
    "list_documents = list(eu.aggregate(pipeline))\n",
    "\n",
    "list_documents"
   ]
  },
  {
   "cell_type": "markdown",
   "metadata": {},
   "source": [
    "13. Returns the average 'VALUE_EURO' for each country, return the lowest 5 countries\n",
    " "
   ]
  },
  {
   "cell_type": "code",
   "execution_count": 11,
   "metadata": {},
   "outputs": [
    {
     "data": {
      "text/plain": [
       "[{'country': 'MK', 'avg': 876557.29},\n",
       " {'country': 'BG', 'avg': 1209211.7481247569},\n",
       " {'country': 'SI', 'avg': 1212932.4157451054},\n",
       " {'country': 'CY', 'avg': 1363493.8052469224},\n",
       " {'country': 'MT', 'avg': 1533678.4470194138}]"
      ]
     },
     "execution_count": 11,
     "metadata": {},
     "output_type": "execute_result"
    }
   ],
   "source": [
    "match = {\n",
    "    '$match': {\n",
    "        '$and': [{'YEAR': {'$gte': bot_year}}, {'YEAR': {'$lte': top_year}}],\n",
    "        'ISO_COUNTRY_CODE': {'$in': country_list}\n",
    "    }\n",
    "}\n",
    "\n",
    "project = {\n",
    "    '$project':{\n",
    "        '_id':False,\n",
    "        'VALUE_EURO':True,\n",
    "        'ISO_COUNTRY_CODE':True\n",
    "    }\n",
    "}\n",
    "\n",
    "group = {\n",
    "    '$group':{\n",
    "        '_id':'$ISO_COUNTRY_CODE',\n",
    "        'AVERAGE':{'$avg':'$VALUE_EURO'}\n",
    "    }\n",
    "}\n",
    "sort = {\n",
    "    '$sort':{\n",
    "        'AVERAGE': 1\n",
    "    }\n",
    "}\n",
    "\n",
    "limit = {\n",
    "    '$limit':5\n",
    "}\n",
    "\n",
    "project_2 = {\n",
    "    '$project':{\n",
    "        '_id':False,\n",
    "        'country':'$_id',\n",
    "        'avg':'$AVERAGE'\n",
    "    }\n",
    "}\n",
    "pipeline = [match, project, group, sort, limit, project_2]\n",
    "\n",
    "list_documents = list(eu.aggregate(pipeline))\n",
    "\n",
    "list_documents"
   ]
  },
  {
   "cell_type": "markdown",
   "metadata": {},
   "source": [
    "14. For each country get the sum of the respective contracts 'VALUE_EURO' which recieved european funds ('B_EU_FUNDS') "
   ]
  },
  {
   "cell_type": "code",
   "execution_count": 12,
   "metadata": {
    "scrolled": true
   },
   "outputs": [
    {
     "data": {
      "text/plain": [
       "[{'country': 'LT', 'sum': 9486496427.27},\n",
       " {'country': 'MK', 'sum': 452344940.36},\n",
       " {'country': 'SI', 'sum': 5441697306.31},\n",
       " {'country': 'NL', 'sum': 2704277735.66},\n",
       " {'country': 'CY', 'sum': 627546920.1},\n",
       " {'country': 'RO', 'sum': 29452802221.11},\n",
       " {'country': 'HR', 'sum': 1157493694.04},\n",
       " {'country': 'AT', 'sum': 875062978.46},\n",
       " {'country': 'ES', 'sum': 70976159414.11},\n",
       " {'country': 'SE', 'sum': 894378979.03},\n",
       " {'country': 'PL', 'sum': 133664049320.58},\n",
       " {'country': 'DK', 'sum': 6621970949.15},\n",
       " {'country': 'FI', 'sum': 2490943993.64},\n",
       " {'country': 'GR', 'sum': 50167185957.3},\n",
       " {'country': 'DE', 'sum': 13229821653.08},\n",
       " {'country': 'FR', 'sum': 109474293715.69},\n",
       " {'country': 'BG', 'sum': 10996693088.45},\n",
       " {'country': 'CH', 'sum': 0},\n",
       " {'country': 'BE', 'sum': 8.181162968574296e+17},\n",
       " {'country': 'HU', 'sum': 1.3471576490942093e+27},\n",
       " {'country': 'SK', 'sum': 33734105558.82},\n",
       " {'country': 'NO', 'sum': 27142128.09},\n",
       " {'country': 'IT', 'sum': 72731128631.57},\n",
       " {'country': 'EE', 'sum': 6420994347.13},\n",
       " {'country': 'LV', 'sum': 56710613468.38},\n",
       " {'country': 'CZ', 'sum': 43007033483.15},\n",
       " {'country': 'MT', 'sum': 1137097615.06},\n",
       " {'country': 'LU', 'sum': 1.708666163059669e+19},\n",
       " {'country': 'UK', 'sum': 1335272224697.2},\n",
       " {'country': 'IE', 'sum': 3338394075.65},\n",
       " {'country': 'PT', 'sum': 10829377126.539999}]"
      ]
     },
     "execution_count": 12,
     "metadata": {},
     "output_type": "execute_result"
    }
   ],
   "source": [
    "match = {\n",
    "    '$match': {\n",
    "        '$and': [{'YEAR': {'$gte': bot_year}}, {'YEAR': {'$lte': top_year}}],\n",
    "        'ISO_COUNTRY_CODE': {'$in': country_list},\n",
    "        'B_EU_FUNDS': 'Y'\n",
    "    }\n",
    "}\n",
    "\n",
    "project = {\n",
    "    '$project':{\n",
    "        '_id':False,\n",
    "        'VALUE_EURO':True,\n",
    "        'ISO_COUNTRY_CODE':True\n",
    "    }\n",
    "}\n",
    "\n",
    "group = {\n",
    "    '$group':{\n",
    "        '_id':'$ISO_COUNTRY_CODE',\n",
    "        'SUM':{'$sum':'$VALUE_EURO'}\n",
    "    }\n",
    "}\n",
    "\n",
    "\n",
    "project_2 = {\n",
    "    '$project':{\n",
    "        '_id':False,\n",
    "        'country':'$_id',\n",
    "        'sum':'$SUM'\n",
    "    }\n",
    "}\n",
    "pipeline = [match, project, group, project_2]\n",
    "\n",
    "list_documents = list(eu.aggregate(pipeline))\n",
    "\n",
    "list_documents"
   ]
  },
  {
   "cell_type": "markdown",
   "metadata": {},
   "source": [
    "15. 5 descriptive metrics of the contracts related to the Company, the average of:\n",
    "    1. Each Company's contracts average spending ('VALUE_EURO') \n",
    "    1. Each Company's contract count \n",
    "    1. Each Company's contracts average NUMBER_OFFERS' \n",
    "    1. Each Company's contracts average VALUE_EURO' with 'B_EU_FUNDS' \n",
    "    1. Each Company's contracts average 'VALUE_EURO' without 'B_EU_FUNDS'"
   ]
  },
  {
   "cell_type": "code",
   "execution_count": null,
   "metadata": {},
   "outputs": [],
   "source": [
    "match = {\n",
    "    '$match': {\n",
    "        '$and': [{'YEAR': {'$gte': bot_year}}, {'YEAR': {'$lte': top_year}}],\n",
    "        'ISO_COUNTRY_CODE': {'$in': country_list},\n",
    "    }\n",
    "}\n",
    "project = {\n",
    "    '$project':{\n",
    "        '_id':False,\n",
    "        'VALUE_EURO':True,\n",
    "        'ISO_COUNTRY_CODE':True,\n",
    "        'CAE_NAME':True\n",
    "    }\n",
    "}\n",
    "\n",
    "group = {\n",
    "    '$group':{\n",
    "        '_id':'$ISO_COUNTRY_CODE',\n",
    "        'SUM':{'$sum':'$VALUE_EURO'}\n",
    "    }\n",
    "}\n",
    "\n",
    "\n",
    "project_2 = {\n",
    "    '$project':{\n",
    "        '_id':False,\n",
    "        'country':'$_id',\n",
    "        'sum':'$SUM'\n",
    "    }\n",
    "}\n",
    "pipeline = [match, project, group, project_2]\n",
    "\n",
    "list_documents = list(eu.aggregate(pipeline))\n",
    "\n",
    "list_documents"
   ]
  },
  {
   "cell_type": "markdown",
   "metadata": {},
   "source": [
    "16. Returns the average 'VALUE_EURO' for company ('CAE_NAME') return the highest 5 companies"
   ]
  },
  {
   "cell_type": "code",
   "execution_count": 15,
   "metadata": {},
   "outputs": [
    {
     "data": {
      "text/plain": [
       "[{'company': 'Közép-dunántúli Vízügyi Igazgatóság',\n",
       "  'avg': 2.2452627484874678e+26},\n",
       " {'company': 'European Aviation Safety Agency', 'avg': 3e+23},\n",
       " {'company': 'European Commission, European Administrative School',\n",
       "  'avg': 4.3435e+21},\n",
       " {'company': 'European Commission, Joint Research Centre, Institute for Reference Materials and Measurements',\n",
       "  'avg': 5.8582930565313934e+20},\n",
       " {'company': 'European Commission, Directorate-General for Employment, Social Affairs and Inclusion, Unit G3',\n",
       "  'avg': 4.66764814e+17}]"
      ]
     },
     "execution_count": 15,
     "metadata": {},
     "output_type": "execute_result"
    }
   ],
   "source": [
    "match = {\n",
    "    '$match': {\n",
    "        '$and': [{'YEAR': {'$gte': bot_year}}, {'YEAR': {'$lte': top_year}}],\n",
    "        'ISO_COUNTRY_CODE': {'$in': country_list}\n",
    "    }\n",
    "}\n",
    "project = {\n",
    "    '$project':{\n",
    "        '_id':False,\n",
    "        'VALUE_EURO':True,\n",
    "        'CAE_NAME':True\n",
    "    }\n",
    "}\n",
    "\n",
    "group = {\n",
    "    '$group':{\n",
    "        '_id':'$CAE_NAME',\n",
    "        'AVERAGE':{'$avg':'$VALUE_EURO'}\n",
    "    }\n",
    "}\n",
    "sort = {\n",
    "    '$sort':{\n",
    "        'AVERAGE': -1\n",
    "    }\n",
    "}\n",
    "\n",
    "limit = {\n",
    "    '$limit':5\n",
    "}\n",
    "\n",
    "\n",
    "project_2 = {\n",
    "    '$project':{\n",
    "        '_id':False,\n",
    "        'company':'$_id',\n",
    "        'avg':'$AVERAGE'\n",
    "    }\n",
    "}\n",
    "\n",
    "pipeline = [match, project, group, sort, limit, project_2]\n",
    "\n",
    "list_documents = list(eu.aggregate(pipeline))\n",
    "\n",
    "list_documents"
   ]
  },
  {
   "cell_type": "markdown",
   "metadata": {},
   "source": [
    "17. Returns the average 'VALUE_EURO' for company ('CAE_NAME') return the lowest 5 companies"
   ]
  },
  {
   "cell_type": "code",
   "execution_count": 16,
   "metadata": {},
   "outputs": [
    {
     "data": {
      "text/plain": [
       "[{'company': 'Stadt Dülmen---Weiterführung der Planung und Baubeaufsichtigung eines Straßen- und Brückenbauprojektes',\n",
       "  'avg': None},\n",
       " {'company': 'Lausanne Région', 'avg': None},\n",
       " {'company': 'EMA/dcdirisi/dirisi Brest', 'avg': None},\n",
       " {'company': 'Secretary of State for Health acting through the NHS Commercial Medicines Unit',\n",
       "  'avg': None},\n",
       " {'company': 'KRH-Servicegesellschaft GmbH', 'avg': None}]"
      ]
     },
     "execution_count": 16,
     "metadata": {},
     "output_type": "execute_result"
    }
   ],
   "source": [
    "match = {\n",
    "    '$match': {\n",
    "        '$and': [{'YEAR': {'$gte': bot_year}}, {'YEAR': {'$lte': top_year}}],\n",
    "        'ISO_COUNTRY_CODE': {'$in': country_list}\n",
    "    }\n",
    "}\n",
    "project = {\n",
    "    '$project':{\n",
    "        '_id':False,\n",
    "        'VALUE_EURO':True,\n",
    "        'CAE_NAME':True\n",
    "    }\n",
    "}\n",
    "group = {\n",
    "    '$group':{\n",
    "        '_id':'$CAE_NAME',\n",
    "        'AVERAGE':{'$avg':'$VALUE_EURO'}\n",
    "    }\n",
    "}\n",
    "sort = {\n",
    "    '$sort':{\n",
    "        'AVERAGE': 1\n",
    "    }\n",
    "}\n",
    "\n",
    "limit = {\n",
    "    '$limit':5\n",
    "}\n",
    "\n",
    "\n",
    "project_2 = {\n",
    "    '$project':{\n",
    "        '_id':False,\n",
    "        'company':'$_id',\n",
    "        'avg':'$AVERAGE'\n",
    "    }\n",
    "}\n",
    "\n",
    "pipeline = [match, project, group, sort, limit, project_2]\n",
    "\n",
    "list_documents = list(eu.aggregate(pipeline))\n",
    "\n",
    "list_documents"
   ]
  },
  {
   "cell_type": "markdown",
   "metadata": {},
   "source": [
    "18. Returns the count of contracts for each company 'CAE_NAME', for the 15 companies with the most contracts"
   ]
  },
  {
   "cell_type": "code",
   "execution_count": 17,
   "metadata": {},
   "outputs": [
    {
     "data": {
      "text/plain": [
       "[{'company': 'Uniwersyteckie Centrum Kliniczne', 'count': 14061},\n",
       " {'company': 'Szpital Kliniczny Przemienienia Pańskiego Uniwersytetu Medycznego im. Karola Marcinkowskiego w Poznaniu',\n",
       "  'count': 12779},\n",
       " {'company': 'Viešoji įstaiga Centrinė projektų valdymo agentūra (126125624)',\n",
       "  'count': 9956},\n",
       " {'company': 'Lesy Slovenskej republiky, štátny podnik', 'count': 9795},\n",
       " {'company': 'Szpital Uniwersytecki w Krakowie', 'count': 9624},\n",
       " {'company': 'Wojewódzki Szpital Zespolony', 'count': 9457},\n",
       " {'company': 'Klinički bolnički centar Rijeka', 'count': 9144},\n",
       " {'company': 'Spitalul Clinic Judetean de Urgenta Sf. Spiridon Iasi',\n",
       "  'count': 8925},\n",
       " {'company': 'Wojskowy Instytut Medyczny', 'count': 8322},\n",
       " {'company': 'Kompania Węglowa S.A.', 'count': 8282},\n",
       " {'company': 'Institutul Oncologic Prof. Dr. I. Chiricuta Cluj-Napoca',\n",
       "  'count': 8088},\n",
       " {'company': 'Sabiedrība ar ierobežotu atbildību “Ogres rajona slimnīca”',\n",
       "  'count': 8049},\n",
       " {'company': 'Valsts reģionālās attīstības aģentūra', 'count': 8035},\n",
       " {'company': 'NHS Supply Chain acting as agent for NHS Business Services Authority',\n",
       "  'count': 7889},\n",
       " {'company': 'Viešoji įstaiga CPO LT', 'count': 7746}]"
      ]
     },
     "execution_count": 17,
     "metadata": {},
     "output_type": "execute_result"
    }
   ],
   "source": [
    "match = {\n",
    "    '$match': {\n",
    "        '$and': [{'YEAR': {'$gte': bot_year}}, {'YEAR': {'$lte': top_year}}],\n",
    "        'ISO_COUNTRY_CODE': {'$in': country_list}\n",
    "    }\n",
    "}\n",
    "project = {\n",
    "    '$project':{\n",
    "        '_id':False,\n",
    "        'CAE_NAME':True\n",
    "    }\n",
    "}\n",
    "group = {\n",
    "    '$group':{\n",
    "        '_id':'$CAE_NAME',\n",
    "        'COUNT':{'$sum':1}\n",
    "    }\n",
    "}\n",
    "sort = {\n",
    "    '$sort':{\n",
    "        'COUNT': -1\n",
    "    }\n",
    "}\n",
    "\n",
    "limit = {\n",
    "    '$limit':15\n",
    "}\n",
    "\n",
    "\n",
    "project_2 = {\n",
    "    '$project':{\n",
    "        '_id':False,\n",
    "        'company':'$_id',\n",
    "        'count':'$COUNT'\n",
    "    }\n",
    "}\n",
    "\n",
    "pipeline = [match, project, group, sort, limit, project_2]\n",
    "\n",
    "list_documents = list(eu.aggregate(pipeline))\n",
    "\n",
    "list_documents\n"
   ]
  },
  {
   "cell_type": "markdown",
   "metadata": {},
   "source": [
    "19. For each country get the highest company ('CAE_NAME') in terms of 'VALUE_EURO' sum contract spending"
   ]
  },
  {
   "cell_type": "code",
   "execution_count": null,
   "metadata": {},
   "outputs": [],
   "source": [
    "match = {\n",
    "    '$match': {\n",
    "            '$and': [{'YEAR': {'$gte': bot_year}}, {'YEAR': {'$lte': top_year}}],\n",
    "            'ISO_COUNTRY_CODE': {'$in': country_list}\n",
    "        }\n",
    "}\n",
    "\n",
    "project = {\n",
    "    '$project':{\n",
    "        '_id':False,\n",
    "        'CAE_NAME':True,\n",
    "        'ISO_COUNTRY_CODE':True,\n",
    "        'VALUE_EURO':True\n",
    "    }\n",
    "}\n",
    "\n",
    "group_cpv_country_euro_avg = {\n",
    "    '$group':{\n",
    "        '_id':{'CAE_NAME':'$CAE_NAME','COUNTRY':'$ISO_COUNTRY_CODE'},\n",
    "        'SUM':{'$sum':'$VALUE_EURO'}\n",
    "    }\n",
    "}\n",
    "\n",
    "sort = {\n",
    "    '$sort':{\n",
    "        '_id.COUNTRY':1,\n",
    "        'SUM':-1\n",
    "    }\n",
    "}\n",
    "\n",
    "group_2 = {\n",
    "    '$group':{\n",
    "        '_id': '$_id.COUNTRY',\n",
    "        'docs': {'$push': '$$ROOT'}\n",
    "    }\n",
    "}\n",
    "\n",
    "project_2 = {\n",
    "    '$project':{\n",
    "        'top_1':{\n",
    "            '$slice':['$docs', 1]\n",
    "        }\n",
    "    }\n",
    "}\n",
    "\n",
    "unwind = {\n",
    "    '$unwind':'$top_1'\n",
    "}\n",
    "\n",
    "project_3 = {\n",
    "    '$project':{\n",
    "        '_id':False,\n",
    "        'company':'$top_1._id.CAE_NAME',\n",
    "        'sum':'$top_1.SUM',\n",
    "        'country':'$_id'\n",
    "    }\n",
    "}\n",
    "\n",
    "pipeline = [match, project, group_cpv_country_euro_avg, sort, group_2, project_2, unwind, project_3]\n",
    "\n",
    "list_documents = list(eu.aggregate(pipeline))\n",
    "\n",
    "list_documents"
   ]
  },
  {
   "cell_type": "markdown",
   "metadata": {},
   "source": [
    "20. Returns the top 5 most frequent co-occurring companies ('CAE_NAME' and 'WIN_NAME')"
   ]
  },
  {
   "cell_type": "code",
   "execution_count": null,
   "metadata": {},
   "outputs": [],
   "source": []
  }
 ],
 "metadata": {
  "kernelspec": {
   "display_name": "Python 3",
   "language": "python",
   "name": "python3"
  },
  "language_info": {
   "codemirror_mode": {
    "name": "ipython",
    "version": 3
   },
   "file_extension": ".py",
   "mimetype": "text/x-python",
   "name": "python",
   "nbconvert_exporter": "python",
   "pygments_lexer": "ipython3",
   "version": "3.7.6"
  }
 },
 "nbformat": 4,
 "nbformat_minor": 4
}
